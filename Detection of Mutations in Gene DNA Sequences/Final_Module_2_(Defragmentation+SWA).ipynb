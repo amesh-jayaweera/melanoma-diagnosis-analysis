{
  "cells": [
    {
      "cell_type": "code",
      "execution_count": 139,
      "metadata": {
        "colab": {
          "base_uri": "https://localhost:8080/"
        },
        "id": "5qhNetAFNmeT",
        "outputId": "17b6cba7-20b9-42af-9bd4-79c05eb99047"
      },
      "outputs": [
        {
          "output_type": "stream",
          "name": "stdout",
          "text": [
            "Python 3.7.13\n",
            "Requirement already satisfied: fuzzywuzzy in /usr/local/lib/python3.7/dist-packages (0.18.0)\n",
            "Requirement already satisfied: rapidfuzz in /usr/local/lib/python3.7/dist-packages (2.0.11)\n",
            "Requirement already satisfied: jarowinkler<1.1.0,>=1.0.2 in /usr/local/lib/python3.7/dist-packages (from rapidfuzz) (1.0.2)\n"
          ]
        }
      ],
      "source": [
        "!python --version\n",
        "\n",
        "#Installing FuzzyWuzzy\n",
        "!pip install fuzzywuzzy\n",
        "\n",
        "#install rapid fuzz\n",
        "!pip install rapidfuzz\n",
        "\n",
        "#Import\n",
        "import fuzzywuzzy\n",
        "from fuzzywuzzy import fuzz\n",
        "\n",
        "import rapidfuzz"
      ]
    },
    {
      "cell_type": "code",
      "execution_count": 140,
      "metadata": {
        "colab": {
          "base_uri": "https://localhost:8080/"
        },
        "id": "tEdLRgnG9_6P",
        "outputId": "a2562532-956d-48b4-f6fc-04fce226c04d"
      },
      "outputs": [
        {
          "output_type": "stream",
          "name": "stdout",
          "text": [
            "Requirement already satisfied: thefuzz in /usr/local/lib/python3.7/dist-packages (0.19.0)\n"
          ]
        }
      ],
      "source": [
        "!pip install thefuzz\n",
        "from thefuzz import fuzz"
      ]
    },
    {
      "cell_type": "code",
      "execution_count": 141,
      "metadata": {
        "colab": {
          "base_uri": "https://localhost:8080/"
        },
        "id": "wh4eUTOXN-qx",
        "outputId": "fdfa7450-c231-4115-cac8-15736d538cbf"
      },
      "outputs": [
        {
          "output_type": "stream",
          "name": "stdout",
          "text": [
            "Requirement already satisfied: python-Levenshtein in /usr/local/lib/python3.7/dist-packages (0.12.2)\n",
            "Requirement already satisfied: setuptools in /usr/local/lib/python3.7/dist-packages (from python-Levenshtein) (57.4.0)\n"
          ]
        }
      ],
      "source": [
        "!pip3 install python-Levenshtein"
      ]
    },
    {
      "cell_type": "code",
      "execution_count": 142,
      "metadata": {
        "colab": {
          "base_uri": "https://localhost:8080/"
        },
        "id": "10uahB5LOBWP",
        "outputId": "6b64c391-6403-4ba1-f2c5-d53e5fe1c328"
      },
      "outputs": [
        {
          "output_type": "stream",
          "name": "stdout",
          "text": [
            "Requirement already satisfied: strsimpy in /usr/local/lib/python3.7/dist-packages (0.2.1)\n"
          ]
        }
      ],
      "source": [
        "# luozhouyang  python-string-similarity\n",
        "\n",
        "!pip install -U strsimpy"
      ]
    },
    {
      "cell_type": "code",
      "execution_count": 143,
      "metadata": {
        "colab": {
          "base_uri": "https://localhost:8080/"
        },
        "id": "few28z65OEJi",
        "outputId": "efdb1ea7-0164-49b0-b6fe-1ae4be40f5d5"
      },
      "outputs": [
        {
          "output_type": "stream",
          "name": "stdout",
          "text": [
            "Drive already mounted at /content/gdrive; to attempt to forcibly remount, call drive.mount(\"/content/gdrive\", force_remount=True).\n"
          ]
        }
      ],
      "source": [
        "from google.colab import drive\n",
        "drive.mount('/content/gdrive')"
      ]
    },
    {
      "cell_type": "code",
      "execution_count": 144,
      "metadata": {
        "colab": {
          "base_uri": "https://localhost:8080/",
          "height": 424
        },
        "id": "K6d7Q6CfOFdO",
        "outputId": "ce5172cd-449d-417d-d4b8-8721657c0444"
      },
      "outputs": [
        {
          "output_type": "execute_result",
          "data": {
            "text/plain": [
              "       GENE  ID_SAMPLE                                      ERRONEOUS_SEQ\n",
              "0      BRAF    2380400  ATGGCGGCGCTGAGCGGTGGCGGTGGTGGCGGCGCGCAGCCGGGCC...\n",
              "1      BRAF    2340114  ATGGCGGCGCTGAGCGGTGGCGGTGGTGGCGGCGCGGAGCCGGGCC...\n",
              "2      BRAF    1154125  ATCGCGGCGCTGAGCGGTGGCGGTGGTGTCGGCGCGGAGCCGGGCC...\n",
              "3      BRAF    1548870  ATGGCGGCGCTGAGCGGTGGCGGTGGTGGCGGCGCGGAGCCGGGCC...\n",
              "4      BRAF    2603643  ATGGCGGCGCTGATCGGTGGCGGTGGTGGCGGCGCGGAGCCGGGCC...\n",
              "...     ...        ...                                                ...\n",
              "3222  LRP1B    2380404  ATGTCCGAGTTTCTCCTCGCCTTACTCACTCTCTCGGGATTATTGC...\n",
              "3223  LRP1B    2197830  ATGTCCGAGTTTCTCCTCGCCTTACTCACTCTCTCGGGATTATTGC...\n",
              "3224  LRP1B    2292458  ATGTCCGAGTTTCTCCTCGCCTTACTCACTCTCTCGGGATTTTTGC...\n",
              "3225  LRP1B    2339738  ATGTCCGAGTTTCTCCTCGCCTTACTCACTCTCTCGGGATTATTGC...\n",
              "3226  LRP1B    2869764  ATGTCCGAGTTTCTCCTCACCTTACTCACTCTCTCGGGATTATTGC...\n",
              "\n",
              "[3227 rows x 3 columns]"
            ],
            "text/html": [
              "\n",
              "  <div id=\"df-bbe8387f-5fb5-4f60-a679-0d62fa35c4bf\">\n",
              "    <div class=\"colab-df-container\">\n",
              "      <div>\n",
              "<style scoped>\n",
              "    .dataframe tbody tr th:only-of-type {\n",
              "        vertical-align: middle;\n",
              "    }\n",
              "\n",
              "    .dataframe tbody tr th {\n",
              "        vertical-align: top;\n",
              "    }\n",
              "\n",
              "    .dataframe thead th {\n",
              "        text-align: right;\n",
              "    }\n",
              "</style>\n",
              "<table border=\"1\" class=\"dataframe\">\n",
              "  <thead>\n",
              "    <tr style=\"text-align: right;\">\n",
              "      <th></th>\n",
              "      <th>GENE</th>\n",
              "      <th>ID_SAMPLE</th>\n",
              "      <th>ERRONEOUS_SEQ</th>\n",
              "    </tr>\n",
              "  </thead>\n",
              "  <tbody>\n",
              "    <tr>\n",
              "      <th>0</th>\n",
              "      <td>BRAF</td>\n",
              "      <td>2380400</td>\n",
              "      <td>ATGGCGGCGCTGAGCGGTGGCGGTGGTGGCGGCGCGCAGCCGGGCC...</td>\n",
              "    </tr>\n",
              "    <tr>\n",
              "      <th>1</th>\n",
              "      <td>BRAF</td>\n",
              "      <td>2340114</td>\n",
              "      <td>ATGGCGGCGCTGAGCGGTGGCGGTGGTGGCGGCGCGGAGCCGGGCC...</td>\n",
              "    </tr>\n",
              "    <tr>\n",
              "      <th>2</th>\n",
              "      <td>BRAF</td>\n",
              "      <td>1154125</td>\n",
              "      <td>ATCGCGGCGCTGAGCGGTGGCGGTGGTGTCGGCGCGGAGCCGGGCC...</td>\n",
              "    </tr>\n",
              "    <tr>\n",
              "      <th>3</th>\n",
              "      <td>BRAF</td>\n",
              "      <td>1548870</td>\n",
              "      <td>ATGGCGGCGCTGAGCGGTGGCGGTGGTGGCGGCGCGGAGCCGGGCC...</td>\n",
              "    </tr>\n",
              "    <tr>\n",
              "      <th>4</th>\n",
              "      <td>BRAF</td>\n",
              "      <td>2603643</td>\n",
              "      <td>ATGGCGGCGCTGATCGGTGGCGGTGGTGGCGGCGCGGAGCCGGGCC...</td>\n",
              "    </tr>\n",
              "    <tr>\n",
              "      <th>...</th>\n",
              "      <td>...</td>\n",
              "      <td>...</td>\n",
              "      <td>...</td>\n",
              "    </tr>\n",
              "    <tr>\n",
              "      <th>3222</th>\n",
              "      <td>LRP1B</td>\n",
              "      <td>2380404</td>\n",
              "      <td>ATGTCCGAGTTTCTCCTCGCCTTACTCACTCTCTCGGGATTATTGC...</td>\n",
              "    </tr>\n",
              "    <tr>\n",
              "      <th>3223</th>\n",
              "      <td>LRP1B</td>\n",
              "      <td>2197830</td>\n",
              "      <td>ATGTCCGAGTTTCTCCTCGCCTTACTCACTCTCTCGGGATTATTGC...</td>\n",
              "    </tr>\n",
              "    <tr>\n",
              "      <th>3224</th>\n",
              "      <td>LRP1B</td>\n",
              "      <td>2292458</td>\n",
              "      <td>ATGTCCGAGTTTCTCCTCGCCTTACTCACTCTCTCGGGATTTTTGC...</td>\n",
              "    </tr>\n",
              "    <tr>\n",
              "      <th>3225</th>\n",
              "      <td>LRP1B</td>\n",
              "      <td>2339738</td>\n",
              "      <td>ATGTCCGAGTTTCTCCTCGCCTTACTCACTCTCTCGGGATTATTGC...</td>\n",
              "    </tr>\n",
              "    <tr>\n",
              "      <th>3226</th>\n",
              "      <td>LRP1B</td>\n",
              "      <td>2869764</td>\n",
              "      <td>ATGTCCGAGTTTCTCCTCACCTTACTCACTCTCTCGGGATTATTGC...</td>\n",
              "    </tr>\n",
              "  </tbody>\n",
              "</table>\n",
              "<p>3227 rows × 3 columns</p>\n",
              "</div>\n",
              "      <button class=\"colab-df-convert\" onclick=\"convertToInteractive('df-bbe8387f-5fb5-4f60-a679-0d62fa35c4bf')\"\n",
              "              title=\"Convert this dataframe to an interactive table.\"\n",
              "              style=\"display:none;\">\n",
              "        \n",
              "  <svg xmlns=\"http://www.w3.org/2000/svg\" height=\"24px\"viewBox=\"0 0 24 24\"\n",
              "       width=\"24px\">\n",
              "    <path d=\"M0 0h24v24H0V0z\" fill=\"none\"/>\n",
              "    <path d=\"M18.56 5.44l.94 2.06.94-2.06 2.06-.94-2.06-.94-.94-2.06-.94 2.06-2.06.94zm-11 1L8.5 8.5l.94-2.06 2.06-.94-2.06-.94L8.5 2.5l-.94 2.06-2.06.94zm10 10l.94 2.06.94-2.06 2.06-.94-2.06-.94-.94-2.06-.94 2.06-2.06.94z\"/><path d=\"M17.41 7.96l-1.37-1.37c-.4-.4-.92-.59-1.43-.59-.52 0-1.04.2-1.43.59L10.3 9.45l-7.72 7.72c-.78.78-.78 2.05 0 2.83L4 21.41c.39.39.9.59 1.41.59.51 0 1.02-.2 1.41-.59l7.78-7.78 2.81-2.81c.8-.78.8-2.07 0-2.86zM5.41 20L4 18.59l7.72-7.72 1.47 1.35L5.41 20z\"/>\n",
              "  </svg>\n",
              "      </button>\n",
              "      \n",
              "  <style>\n",
              "    .colab-df-container {\n",
              "      display:flex;\n",
              "      flex-wrap:wrap;\n",
              "      gap: 12px;\n",
              "    }\n",
              "\n",
              "    .colab-df-convert {\n",
              "      background-color: #E8F0FE;\n",
              "      border: none;\n",
              "      border-radius: 50%;\n",
              "      cursor: pointer;\n",
              "      display: none;\n",
              "      fill: #1967D2;\n",
              "      height: 32px;\n",
              "      padding: 0 0 0 0;\n",
              "      width: 32px;\n",
              "    }\n",
              "\n",
              "    .colab-df-convert:hover {\n",
              "      background-color: #E2EBFA;\n",
              "      box-shadow: 0px 1px 2px rgba(60, 64, 67, 0.3), 0px 1px 3px 1px rgba(60, 64, 67, 0.15);\n",
              "      fill: #174EA6;\n",
              "    }\n",
              "\n",
              "    [theme=dark] .colab-df-convert {\n",
              "      background-color: #3B4455;\n",
              "      fill: #D2E3FC;\n",
              "    }\n",
              "\n",
              "    [theme=dark] .colab-df-convert:hover {\n",
              "      background-color: #434B5C;\n",
              "      box-shadow: 0px 1px 3px 1px rgba(0, 0, 0, 0.15);\n",
              "      filter: drop-shadow(0px 1px 2px rgba(0, 0, 0, 0.3));\n",
              "      fill: #FFFFFF;\n",
              "    }\n",
              "  </style>\n",
              "\n",
              "      <script>\n",
              "        const buttonEl =\n",
              "          document.querySelector('#df-bbe8387f-5fb5-4f60-a679-0d62fa35c4bf button.colab-df-convert');\n",
              "        buttonEl.style.display =\n",
              "          google.colab.kernel.accessAllowed ? 'block' : 'none';\n",
              "\n",
              "        async function convertToInteractive(key) {\n",
              "          const element = document.querySelector('#df-bbe8387f-5fb5-4f60-a679-0d62fa35c4bf');\n",
              "          const dataTable =\n",
              "            await google.colab.kernel.invokeFunction('convertToInteractive',\n",
              "                                                     [key], {});\n",
              "          if (!dataTable) return;\n",
              "\n",
              "          const docLinkHtml = 'Like what you see? Visit the ' +\n",
              "            '<a target=\"_blank\" href=https://colab.research.google.com/notebooks/data_table.ipynb>data table notebook</a>'\n",
              "            + ' to learn more about interactive tables.';\n",
              "          element.innerHTML = '';\n",
              "          dataTable['output_type'] = 'display_data';\n",
              "          await google.colab.output.renderOutput(dataTable, element);\n",
              "          const docLink = document.createElement('div');\n",
              "          docLink.innerHTML = docLinkHtml;\n",
              "          element.appendChild(docLink);\n",
              "        }\n",
              "      </script>\n",
              "    </div>\n",
              "  </div>\n",
              "  "
            ]
          },
          "metadata": {},
          "execution_count": 144
        }
      ],
      "source": [
        "# import skin cancer patients dataset\n",
        "import pandas as pd\n",
        "\n",
        "skin_cancer_input = pd.read_csv('/content/gdrive/My Drive/Research Colab/output/preprocessed_seqs.csv', delimiter = ',')\n",
        "actual_mutated = pd.read_csv('/content/gdrive/My Drive/Research Colab/output/mutated_genes.csv', delimiter = ',')\n",
        "cosmic_dataset = pd.read_csv('/content/gdrive/My Drive/Research Colab/data/skin V94_38_MUTANTCENSUS.csv', delimiter = ',',encoding='cp1252')\n",
        "random_index = [1134,1618,1724,517,640,2906,614,2413]\n",
        "\n",
        "skin_cancer_input"
      ]
    },
    {
      "cell_type": "code",
      "execution_count": 145,
      "metadata": {
        "colab": {
          "base_uri": "https://localhost:8080/",
          "height": 661
        },
        "id": "HzCGPh5OOGtF",
        "outputId": "005c14bb-1c27-468c-c280-78f67de15a29"
      },
      "outputs": [
        {
          "output_type": "execute_result",
          "data": {
            "text/plain": [
              "       GENE_NAME    ACCESSION_NUMBER   GENE_CDS_LENGTH   HGNC_ID  SAMPLE_NAME  \\\n",
              "0           BRAF   ENST00000646891.1              6458      1097      1102005   \n",
              "1           BRAF   ENST00000646891.1              6458      1097      2113574   \n",
              "2         PIK3CA   ENST00000263967.3              9093      8975      1112332   \n",
              "3          CSMD3   ENST00000297405.9             13212     19291   5-GE105-T2   \n",
              "4          ZRSR2   ENST00000307771.7              1491     23019   5-GE105-T2   \n",
              "...          ...                 ...               ...       ...          ...   \n",
              "133007     PTPRB  ENST00000334414.10             12316      9665          12M   \n",
              "133008    PDGFRB   ENST00000261799.8              5717      8804          12M   \n",
              "133009      BRAF   ENST00000646891.1              6458      1097      1038568   \n",
              "133010      NRAS   ENST00000369535.4              4449      7989      2779661   \n",
              "133011      BRAF   ENST00000646891.1              6458      1097      1582451   \n",
              "\n",
              "         ID_SAMPLE   ID_TUMOUR  PRIMARY_SITE  SITE_SUBTYPE_1  SITE_SUBTYPE_2  \\\n",
              "0          1102005     1016576          skin              NS              NS   \n",
              "1          2113574     1987819          skin           acral              NS   \n",
              "2          1112332     1025843          skin           trunk              NS   \n",
              "3          2869809     2724806          skin              NS              NS   \n",
              "4          2869809     2724806          skin              NS              NS   \n",
              "...            ...         ...           ...             ...             ...   \n",
              "133007     2466831     2329662          skin            face              NS   \n",
              "133008     2466831     2329662          skin            face              NS   \n",
              "133009     1038568      955145          skin              NS              NS   \n",
              "133010     2779661     2637677          skin       head_neck              NS   \n",
              "133011     1582451     1503800          skin              NS              NS   \n",
              "\n",
              "        ...  FATHMM_SCORE                       MUTATION_SOMATIC_STATUS  \\\n",
              "0       ...           NaN  Reported in another cancer sample as somatic   \n",
              "1       ...           NaN  Reported in another cancer sample as somatic   \n",
              "2       ...       0.97342  Reported in another cancer sample as somatic   \n",
              "3       ...       0.96394  Reported in another cancer sample as somatic   \n",
              "4       ...       0.00917                     Variant of unknown origin   \n",
              "...     ...           ...                                           ...   \n",
              "133007  ...       0.01545                     Confirmed somatic variant   \n",
              "133008  ...       0.92602                     Confirmed somatic variant   \n",
              "133009  ...       0.98542  Reported in another cancer sample as somatic   \n",
              "133010  ...       0.98635  Reported in another cancer sample as somatic   \n",
              "133011  ...           NaN  Reported in another cancer sample as somatic   \n",
              "\n",
              "        PUBMED_PMID  ID_STUDY           SAMPLE_TYPE  TUMOUR_ORIGIN    AGE  \\\n",
              "0        16421887.0       NaN         surgery-fixed             NS    NaN   \n",
              "1        24569790.0       NaN         surgery-fixed        primary  43.00   \n",
              "2        17673550.0       NaN                    NS             NS  55.00   \n",
              "3        26950094.0       NaN         surgery - NOS             NS  77.00   \n",
              "4        26950094.0       NaN         surgery - NOS             NS  77.00   \n",
              "...             ...       ...                   ...            ...    ...   \n",
              "133007   26343386.0       NaN  surgery fresh/frozen             NS  77.00   \n",
              "133008   26343386.0       NaN  surgery fresh/frozen             NS  77.00   \n",
              "133009   17119447.0       NaN         surgery - NOS             NS    NaN   \n",
              "133010   24129063.0       NaN         surgery - NOS             NS   0.75   \n",
              "133011   21639808.0       NaN                    NS             NS    NaN   \n",
              "\n",
              "                                 HGVSP                         HGVSC  \\\n",
              "0        ENSP00000493543.1:p.Val600Glu                           NaN   \n",
              "1        ENSP00000493543.1:p.Val600Glu                           NaN   \n",
              "2        ENSP00000263967.3:p.Glu545Lys   ENST00000263967.3:c.1633G>A   \n",
              "3       ENSP00000297405.5:p.Glu2821Lys   ENST00000297405.9:c.8461G>A   \n",
              "4                                  NaN  ENST00000307771.7:c.122-6C>T   \n",
              "...                                ...                           ...   \n",
              "133007    ENSP00000334928.6:p.Pro2113=  ENST00000334414.10:c.6339G>A   \n",
              "133008   ENSP00000261799.4:p.Ser591Phe   ENST00000261799.8:c.1772C>T   \n",
              "133009   ENSP00000493543.1:p.Val600Glu   ENST00000646891.1:c.1799T>A   \n",
              "133010    ENSP00000358548.4:p.Gln61Arg    ENST00000369535.4:c.182A>G   \n",
              "133011   ENSP00000493543.1:p.Val600Lys                           NaN   \n",
              "\n",
              "                   HGVSG  \n",
              "0                    NaN  \n",
              "1                    NaN  \n",
              "2       3:g.179218303G>A  \n",
              "3       8:g.112295986C>T  \n",
              "4        X:g.15799866C>T  \n",
              "...                  ...  \n",
              "133007  12:g.70534517C>T  \n",
              "133008  5:g.150125480G>A  \n",
              "133009  7:g.140753336A>T  \n",
              "133010  1:g.114713908T>C  \n",
              "133011               NaN  \n",
              "\n",
              "[133012 rows x 41 columns]"
            ],
            "text/html": [
              "\n",
              "  <div id=\"df-f31f4fca-f12d-4493-9497-45893158aea0\">\n",
              "    <div class=\"colab-df-container\">\n",
              "      <div>\n",
              "<style scoped>\n",
              "    .dataframe tbody tr th:only-of-type {\n",
              "        vertical-align: middle;\n",
              "    }\n",
              "\n",
              "    .dataframe tbody tr th {\n",
              "        vertical-align: top;\n",
              "    }\n",
              "\n",
              "    .dataframe thead th {\n",
              "        text-align: right;\n",
              "    }\n",
              "</style>\n",
              "<table border=\"1\" class=\"dataframe\">\n",
              "  <thead>\n",
              "    <tr style=\"text-align: right;\">\n",
              "      <th></th>\n",
              "      <th>GENE_NAME</th>\n",
              "      <th>ACCESSION_NUMBER</th>\n",
              "      <th>GENE_CDS_LENGTH</th>\n",
              "      <th>HGNC_ID</th>\n",
              "      <th>SAMPLE_NAME</th>\n",
              "      <th>ID_SAMPLE</th>\n",
              "      <th>ID_TUMOUR</th>\n",
              "      <th>PRIMARY_SITE</th>\n",
              "      <th>SITE_SUBTYPE_1</th>\n",
              "      <th>SITE_SUBTYPE_2</th>\n",
              "      <th>...</th>\n",
              "      <th>FATHMM_SCORE</th>\n",
              "      <th>MUTATION_SOMATIC_STATUS</th>\n",
              "      <th>PUBMED_PMID</th>\n",
              "      <th>ID_STUDY</th>\n",
              "      <th>SAMPLE_TYPE</th>\n",
              "      <th>TUMOUR_ORIGIN</th>\n",
              "      <th>AGE</th>\n",
              "      <th>HGVSP</th>\n",
              "      <th>HGVSC</th>\n",
              "      <th>HGVSG</th>\n",
              "    </tr>\n",
              "  </thead>\n",
              "  <tbody>\n",
              "    <tr>\n",
              "      <th>0</th>\n",
              "      <td>BRAF</td>\n",
              "      <td>ENST00000646891.1</td>\n",
              "      <td>6458</td>\n",
              "      <td>1097</td>\n",
              "      <td>1102005</td>\n",
              "      <td>1102005</td>\n",
              "      <td>1016576</td>\n",
              "      <td>skin</td>\n",
              "      <td>NS</td>\n",
              "      <td>NS</td>\n",
              "      <td>...</td>\n",
              "      <td>NaN</td>\n",
              "      <td>Reported in another cancer sample as somatic</td>\n",
              "      <td>16421887.0</td>\n",
              "      <td>NaN</td>\n",
              "      <td>surgery-fixed</td>\n",
              "      <td>NS</td>\n",
              "      <td>NaN</td>\n",
              "      <td>ENSP00000493543.1:p.Val600Glu</td>\n",
              "      <td>NaN</td>\n",
              "      <td>NaN</td>\n",
              "    </tr>\n",
              "    <tr>\n",
              "      <th>1</th>\n",
              "      <td>BRAF</td>\n",
              "      <td>ENST00000646891.1</td>\n",
              "      <td>6458</td>\n",
              "      <td>1097</td>\n",
              "      <td>2113574</td>\n",
              "      <td>2113574</td>\n",
              "      <td>1987819</td>\n",
              "      <td>skin</td>\n",
              "      <td>acral</td>\n",
              "      <td>NS</td>\n",
              "      <td>...</td>\n",
              "      <td>NaN</td>\n",
              "      <td>Reported in another cancer sample as somatic</td>\n",
              "      <td>24569790.0</td>\n",
              "      <td>NaN</td>\n",
              "      <td>surgery-fixed</td>\n",
              "      <td>primary</td>\n",
              "      <td>43.00</td>\n",
              "      <td>ENSP00000493543.1:p.Val600Glu</td>\n",
              "      <td>NaN</td>\n",
              "      <td>NaN</td>\n",
              "    </tr>\n",
              "    <tr>\n",
              "      <th>2</th>\n",
              "      <td>PIK3CA</td>\n",
              "      <td>ENST00000263967.3</td>\n",
              "      <td>9093</td>\n",
              "      <td>8975</td>\n",
              "      <td>1112332</td>\n",
              "      <td>1112332</td>\n",
              "      <td>1025843</td>\n",
              "      <td>skin</td>\n",
              "      <td>trunk</td>\n",
              "      <td>NS</td>\n",
              "      <td>...</td>\n",
              "      <td>0.97342</td>\n",
              "      <td>Reported in another cancer sample as somatic</td>\n",
              "      <td>17673550.0</td>\n",
              "      <td>NaN</td>\n",
              "      <td>NS</td>\n",
              "      <td>NS</td>\n",
              "      <td>55.00</td>\n",
              "      <td>ENSP00000263967.3:p.Glu545Lys</td>\n",
              "      <td>ENST00000263967.3:c.1633G&gt;A</td>\n",
              "      <td>3:g.179218303G&gt;A</td>\n",
              "    </tr>\n",
              "    <tr>\n",
              "      <th>3</th>\n",
              "      <td>CSMD3</td>\n",
              "      <td>ENST00000297405.9</td>\n",
              "      <td>13212</td>\n",
              "      <td>19291</td>\n",
              "      <td>5-GE105-T2</td>\n",
              "      <td>2869809</td>\n",
              "      <td>2724806</td>\n",
              "      <td>skin</td>\n",
              "      <td>NS</td>\n",
              "      <td>NS</td>\n",
              "      <td>...</td>\n",
              "      <td>0.96394</td>\n",
              "      <td>Reported in another cancer sample as somatic</td>\n",
              "      <td>26950094.0</td>\n",
              "      <td>NaN</td>\n",
              "      <td>surgery - NOS</td>\n",
              "      <td>NS</td>\n",
              "      <td>77.00</td>\n",
              "      <td>ENSP00000297405.5:p.Glu2821Lys</td>\n",
              "      <td>ENST00000297405.9:c.8461G&gt;A</td>\n",
              "      <td>8:g.112295986C&gt;T</td>\n",
              "    </tr>\n",
              "    <tr>\n",
              "      <th>4</th>\n",
              "      <td>ZRSR2</td>\n",
              "      <td>ENST00000307771.7</td>\n",
              "      <td>1491</td>\n",
              "      <td>23019</td>\n",
              "      <td>5-GE105-T2</td>\n",
              "      <td>2869809</td>\n",
              "      <td>2724806</td>\n",
              "      <td>skin</td>\n",
              "      <td>NS</td>\n",
              "      <td>NS</td>\n",
              "      <td>...</td>\n",
              "      <td>0.00917</td>\n",
              "      <td>Variant of unknown origin</td>\n",
              "      <td>26950094.0</td>\n",
              "      <td>NaN</td>\n",
              "      <td>surgery - NOS</td>\n",
              "      <td>NS</td>\n",
              "      <td>77.00</td>\n",
              "      <td>NaN</td>\n",
              "      <td>ENST00000307771.7:c.122-6C&gt;T</td>\n",
              "      <td>X:g.15799866C&gt;T</td>\n",
              "    </tr>\n",
              "    <tr>\n",
              "      <th>...</th>\n",
              "      <td>...</td>\n",
              "      <td>...</td>\n",
              "      <td>...</td>\n",
              "      <td>...</td>\n",
              "      <td>...</td>\n",
              "      <td>...</td>\n",
              "      <td>...</td>\n",
              "      <td>...</td>\n",
              "      <td>...</td>\n",
              "      <td>...</td>\n",
              "      <td>...</td>\n",
              "      <td>...</td>\n",
              "      <td>...</td>\n",
              "      <td>...</td>\n",
              "      <td>...</td>\n",
              "      <td>...</td>\n",
              "      <td>...</td>\n",
              "      <td>...</td>\n",
              "      <td>...</td>\n",
              "      <td>...</td>\n",
              "      <td>...</td>\n",
              "    </tr>\n",
              "    <tr>\n",
              "      <th>133007</th>\n",
              "      <td>PTPRB</td>\n",
              "      <td>ENST00000334414.10</td>\n",
              "      <td>12316</td>\n",
              "      <td>9665</td>\n",
              "      <td>12M</td>\n",
              "      <td>2466831</td>\n",
              "      <td>2329662</td>\n",
              "      <td>skin</td>\n",
              "      <td>face</td>\n",
              "      <td>NS</td>\n",
              "      <td>...</td>\n",
              "      <td>0.01545</td>\n",
              "      <td>Confirmed somatic variant</td>\n",
              "      <td>26343386.0</td>\n",
              "      <td>NaN</td>\n",
              "      <td>surgery fresh/frozen</td>\n",
              "      <td>NS</td>\n",
              "      <td>77.00</td>\n",
              "      <td>ENSP00000334928.6:p.Pro2113=</td>\n",
              "      <td>ENST00000334414.10:c.6339G&gt;A</td>\n",
              "      <td>12:g.70534517C&gt;T</td>\n",
              "    </tr>\n",
              "    <tr>\n",
              "      <th>133008</th>\n",
              "      <td>PDGFRB</td>\n",
              "      <td>ENST00000261799.8</td>\n",
              "      <td>5717</td>\n",
              "      <td>8804</td>\n",
              "      <td>12M</td>\n",
              "      <td>2466831</td>\n",
              "      <td>2329662</td>\n",
              "      <td>skin</td>\n",
              "      <td>face</td>\n",
              "      <td>NS</td>\n",
              "      <td>...</td>\n",
              "      <td>0.92602</td>\n",
              "      <td>Confirmed somatic variant</td>\n",
              "      <td>26343386.0</td>\n",
              "      <td>NaN</td>\n",
              "      <td>surgery fresh/frozen</td>\n",
              "      <td>NS</td>\n",
              "      <td>77.00</td>\n",
              "      <td>ENSP00000261799.4:p.Ser591Phe</td>\n",
              "      <td>ENST00000261799.8:c.1772C&gt;T</td>\n",
              "      <td>5:g.150125480G&gt;A</td>\n",
              "    </tr>\n",
              "    <tr>\n",
              "      <th>133009</th>\n",
              "      <td>BRAF</td>\n",
              "      <td>ENST00000646891.1</td>\n",
              "      <td>6458</td>\n",
              "      <td>1097</td>\n",
              "      <td>1038568</td>\n",
              "      <td>1038568</td>\n",
              "      <td>955145</td>\n",
              "      <td>skin</td>\n",
              "      <td>NS</td>\n",
              "      <td>NS</td>\n",
              "      <td>...</td>\n",
              "      <td>0.98542</td>\n",
              "      <td>Reported in another cancer sample as somatic</td>\n",
              "      <td>17119447.0</td>\n",
              "      <td>NaN</td>\n",
              "      <td>surgery - NOS</td>\n",
              "      <td>NS</td>\n",
              "      <td>NaN</td>\n",
              "      <td>ENSP00000493543.1:p.Val600Glu</td>\n",
              "      <td>ENST00000646891.1:c.1799T&gt;A</td>\n",
              "      <td>7:g.140753336A&gt;T</td>\n",
              "    </tr>\n",
              "    <tr>\n",
              "      <th>133010</th>\n",
              "      <td>NRAS</td>\n",
              "      <td>ENST00000369535.4</td>\n",
              "      <td>4449</td>\n",
              "      <td>7989</td>\n",
              "      <td>2779661</td>\n",
              "      <td>2779661</td>\n",
              "      <td>2637677</td>\n",
              "      <td>skin</td>\n",
              "      <td>head_neck</td>\n",
              "      <td>NS</td>\n",
              "      <td>...</td>\n",
              "      <td>0.98635</td>\n",
              "      <td>Reported in another cancer sample as somatic</td>\n",
              "      <td>24129063.0</td>\n",
              "      <td>NaN</td>\n",
              "      <td>surgery - NOS</td>\n",
              "      <td>NS</td>\n",
              "      <td>0.75</td>\n",
              "      <td>ENSP00000358548.4:p.Gln61Arg</td>\n",
              "      <td>ENST00000369535.4:c.182A&gt;G</td>\n",
              "      <td>1:g.114713908T&gt;C</td>\n",
              "    </tr>\n",
              "    <tr>\n",
              "      <th>133011</th>\n",
              "      <td>BRAF</td>\n",
              "      <td>ENST00000646891.1</td>\n",
              "      <td>6458</td>\n",
              "      <td>1097</td>\n",
              "      <td>1582451</td>\n",
              "      <td>1582451</td>\n",
              "      <td>1503800</td>\n",
              "      <td>skin</td>\n",
              "      <td>NS</td>\n",
              "      <td>NS</td>\n",
              "      <td>...</td>\n",
              "      <td>NaN</td>\n",
              "      <td>Reported in another cancer sample as somatic</td>\n",
              "      <td>21639808.0</td>\n",
              "      <td>NaN</td>\n",
              "      <td>NS</td>\n",
              "      <td>NS</td>\n",
              "      <td>NaN</td>\n",
              "      <td>ENSP00000493543.1:p.Val600Lys</td>\n",
              "      <td>NaN</td>\n",
              "      <td>NaN</td>\n",
              "    </tr>\n",
              "  </tbody>\n",
              "</table>\n",
              "<p>133012 rows × 41 columns</p>\n",
              "</div>\n",
              "      <button class=\"colab-df-convert\" onclick=\"convertToInteractive('df-f31f4fca-f12d-4493-9497-45893158aea0')\"\n",
              "              title=\"Convert this dataframe to an interactive table.\"\n",
              "              style=\"display:none;\">\n",
              "        \n",
              "  <svg xmlns=\"http://www.w3.org/2000/svg\" height=\"24px\"viewBox=\"0 0 24 24\"\n",
              "       width=\"24px\">\n",
              "    <path d=\"M0 0h24v24H0V0z\" fill=\"none\"/>\n",
              "    <path d=\"M18.56 5.44l.94 2.06.94-2.06 2.06-.94-2.06-.94-.94-2.06-.94 2.06-2.06.94zm-11 1L8.5 8.5l.94-2.06 2.06-.94-2.06-.94L8.5 2.5l-.94 2.06-2.06.94zm10 10l.94 2.06.94-2.06 2.06-.94-2.06-.94-.94-2.06-.94 2.06-2.06.94z\"/><path d=\"M17.41 7.96l-1.37-1.37c-.4-.4-.92-.59-1.43-.59-.52 0-1.04.2-1.43.59L10.3 9.45l-7.72 7.72c-.78.78-.78 2.05 0 2.83L4 21.41c.39.39.9.59 1.41.59.51 0 1.02-.2 1.41-.59l7.78-7.78 2.81-2.81c.8-.78.8-2.07 0-2.86zM5.41 20L4 18.59l7.72-7.72 1.47 1.35L5.41 20z\"/>\n",
              "  </svg>\n",
              "      </button>\n",
              "      \n",
              "  <style>\n",
              "    .colab-df-container {\n",
              "      display:flex;\n",
              "      flex-wrap:wrap;\n",
              "      gap: 12px;\n",
              "    }\n",
              "\n",
              "    .colab-df-convert {\n",
              "      background-color: #E8F0FE;\n",
              "      border: none;\n",
              "      border-radius: 50%;\n",
              "      cursor: pointer;\n",
              "      display: none;\n",
              "      fill: #1967D2;\n",
              "      height: 32px;\n",
              "      padding: 0 0 0 0;\n",
              "      width: 32px;\n",
              "    }\n",
              "\n",
              "    .colab-df-convert:hover {\n",
              "      background-color: #E2EBFA;\n",
              "      box-shadow: 0px 1px 2px rgba(60, 64, 67, 0.3), 0px 1px 3px 1px rgba(60, 64, 67, 0.15);\n",
              "      fill: #174EA6;\n",
              "    }\n",
              "\n",
              "    [theme=dark] .colab-df-convert {\n",
              "      background-color: #3B4455;\n",
              "      fill: #D2E3FC;\n",
              "    }\n",
              "\n",
              "    [theme=dark] .colab-df-convert:hover {\n",
              "      background-color: #434B5C;\n",
              "      box-shadow: 0px 1px 3px 1px rgba(0, 0, 0, 0.15);\n",
              "      filter: drop-shadow(0px 1px 2px rgba(0, 0, 0, 0.3));\n",
              "      fill: #FFFFFF;\n",
              "    }\n",
              "  </style>\n",
              "\n",
              "      <script>\n",
              "        const buttonEl =\n",
              "          document.querySelector('#df-f31f4fca-f12d-4493-9497-45893158aea0 button.colab-df-convert');\n",
              "        buttonEl.style.display =\n",
              "          google.colab.kernel.accessAllowed ? 'block' : 'none';\n",
              "\n",
              "        async function convertToInteractive(key) {\n",
              "          const element = document.querySelector('#df-f31f4fca-f12d-4493-9497-45893158aea0');\n",
              "          const dataTable =\n",
              "            await google.colab.kernel.invokeFunction('convertToInteractive',\n",
              "                                                     [key], {});\n",
              "          if (!dataTable) return;\n",
              "\n",
              "          const docLinkHtml = 'Like what you see? Visit the ' +\n",
              "            '<a target=\"_blank\" href=https://colab.research.google.com/notebooks/data_table.ipynb>data table notebook</a>'\n",
              "            + ' to learn more about interactive tables.';\n",
              "          element.innerHTML = '';\n",
              "          dataTable['output_type'] = 'display_data';\n",
              "          await google.colab.output.renderOutput(dataTable, element);\n",
              "          const docLink = document.createElement('div');\n",
              "          docLink.innerHTML = docLinkHtml;\n",
              "          element.appendChild(docLink);\n",
              "        }\n",
              "      </script>\n",
              "    </div>\n",
              "  </div>\n",
              "  "
            ]
          },
          "metadata": {},
          "execution_count": 145
        }
      ],
      "source": [
        "cosmic_dataset"
      ]
    },
    {
      "cell_type": "markdown",
      "metadata": {
        "id": "xCnSm4DaOMFj"
      },
      "source": [
        "**Picking a Random Datapoint from the Pre-processed Sequence Dataset**"
      ]
    },
    {
      "cell_type": "code",
      "execution_count": 146,
      "metadata": {
        "colab": {
          "base_uri": "https://localhost:8080/"
        },
        "id": "Zk2lmz36ONNn",
        "outputId": "a824eda9-a4d1-4a80-ea84-38e9b5915397"
      },
      "outputs": [
        {
          "output_type": "stream",
          "name": "stdout",
          "text": [
            "randomly chosen index: 517\n",
            "subject sample ID: 2466876\n"
          ]
        }
      ],
      "source": [
        "import random\n",
        "\n",
        "size=len(skin_cancer_input)\n",
        "random_datapoint_index = random.randint(0, size)\n",
        "print('randomly chosen index:',random_datapoint_index)\n",
        "id_sample = skin_cancer_input.iloc[random_datapoint_index]['ID_SAMPLE']\n",
        "print('subject sample ID:',id_sample)"
      ]
    },
    {
      "cell_type": "markdown",
      "metadata": {
        "id": "Ae7OHgLKOPh4"
      },
      "source": [
        "**Getting the Relevant Reference Gene Sequence from the COSMIC API**"
      ]
    },
    {
      "cell_type": "code",
      "execution_count": 147,
      "metadata": {
        "colab": {
          "base_uri": "https://localhost:8080/"
        },
        "id": "LC3nby3bOQEZ",
        "outputId": "bf5daea6-1af3-422e-ceac-64980fbcb53a"
      },
      "outputs": [
        {
          "output_type": "stream",
          "name": "stdout",
          "text": [
            "reference gene name: BRAF\n",
            "GET ---> https://cancer.sanger.ac.uk/cosmic/sequence?ln=BRAF&type=cdna\n",
            "reference seq: ATGGCGGCGCTGAGCGGTGGCGGTGGTGGCGGCGCGGAGCCGGGCCAGGCTCTGTTCAACGGGGACATGGAGCCCGAGGCCGGCGCCGGCGCCGGCGCCGCGGCCTCTTCGGCTGCGGACCCTGCCATTCCGGAGGAGGTGTGGAATATCAAACAAATGATTAAGTTGACACAGGAACATATAGAGGCCCTATTGGACAAATTTGGTGGGGAGCATAATCCACCATCAATATATCTGGAGGCCTATGAAGAATACACCAGCAAGCTAGATGCACTCCAACAAAGAGAACAACAGTTATTGGAATCTCTGGGGAACGGAACTGATTTTTCTGTTTCTAGCTCTGCATCAATGGATACCGTTACATCTTCTTCCTCTTCTAGCCTTTCAGTGCTACCTTCATCTCTTTCAGTTTTTCAAAATCCCACAGATGTGGCACGGAGCAACCCCAAGTCACCACAAAAACCTATCGTTAGAGTCTTCCTGCCCAACAAACAGAGGACAGTGGTACCTGCAAGGTGTGGAGTTACAGTCCGAGACAGTCTAAAGAAAGCACTGATGATGAGAGGTCTAATCCCAGAGTGCTGTGCTGTTTACAGAATTCAGGATGGAGAGAAGAAACCAATTGGTTGGGACACTGATATTTCCTGGCTTACTGGAGAAGAATTGCATGTGGAAGTGTTGGAGAATGTTCCACTTACAACACACAACTTTGTACGAAAAACGTTTTTCACCTTAGCATTTTGTGACTTTTGTCGAAAGCTGCTTTTCCAGGGTTTCCGCTGTCAAACATGTGGTTATAAATTTCACCAGCGTTGTAGTACAGAAGTTCCACTGATGTGTGTTAATTATGACCAACTTGATTTGCTGTTTGTCTCCAAGTTCTTTGAACACCACCCAATACCACAGGAAGAGGCGTCCTTAGCAGAGACTGCCCTAACATCTGGATCATCCCCTTCCGCACCCGCCTCGGACTCTATTGGGCCCCAAATTCTCACCAGTCCGTCTCCTTCAAAATCCATTCCAATTCCACAGCCCTTCCGACCAGCAGATGAAGATCATCGAAATCAATTTGGGCAACGAGACCGATCCTCATCAGCTCCCAATGTGCATATAAACACAATAGAACCTGTCAATATTGATGACTTGATTAGAGACCAAGGATTTCGTGGTGATGGAGGATCAACCACAGGTTTGTCTGCTACCCCCCCTGCCTCATTACCTGGCTCACTAACTAACGTGAAAGCCTTACAGAAATCTCCAGGACCTCAGCGAGAAAGGAAGTCATCTTCATCCTCAGAAGACAGGAATCGAATGAAAACACTTGGTAGACGGGACTCGAGTGATGATTGGGAGATTCCTGATGGGCAGATTACAGTGGGACAAAGAATTGGATCTGGATCATTTGGAACAGTCTACAAGGGAAAGTGGCATGGTGATGTGGCAGTGAAAATGTTGAATGTGACAGCACCTACACCTCAGCAGTTACAAGCCTTCAAAAATGAAGTAGGAGTACTCAGGAAAACACGACATGTGAATATCCTACTCTTCATGGGCTATTCCACAAAGCCACAACTGGCTATTGTTACCCAGTGGTGTGAGGGCTCCAGCTTGTATCACCATCTCCATATCATTGAGACCAAATTTGAGATGATCAAACTTATAGATATTGCACGACAGACTGCACAGGGCATGGATTACTTACACGCCAAGTCAATCATCCACAGAGACCTCAAGAGTAATAATATATTTCTTCATGAAGACCTCACAGTAAAAATAGGTGATTTTGGTCTAGCTACAGTGAAATCTCGATGGAGTGGGTCCCATCAGTTTGAACAGTTGTCTGGATCCATTTTGTGGATGGCACCAGAAGTCATCAGAATGCAAGATAAAAATCCATACAGCTTTCAGTCAGATGTATATGCATTTGGAATTGTTCTGTATGAATTGATGACTGGACAGTTACCTTATTCAAACATCAACAACAGGGACCAGATAATTTTTATGGTGGGACGAGGATACCTGTCTCCAGATCTCAGTAAGGTACGGAGTAACTGTCCAAAAGCCATGAAGAGATTAATGGCAGAGTGCCTCAAAAAGAAAAGAGATGAGAGACCACTCTTTCCCCAAATTCTCGCCTCTATTGAGCTGCTGGCCCGCTCATTGCCAAAAATTCACCGCAGTGCATCAGAACCCTCCTTGAATCGGGCTGGTTTCCAAACAGAGGATTTTAGTCTATATGCTTGTGCTTCTCCAAAAACACCCATCCAGGCAGGGGGATATGGTGCGTTTCCTGTCCACTGA\n",
            "ref seq length: 2301\n"
          ]
        }
      ],
      "source": [
        "from string import Template\n",
        "import requests\n",
        "\n",
        "BASE_URL = 'https://cancer.sanger.ac.uk/cosmic/'\n",
        "SEQ_URL = Template('sequence?ln=$gene&type=$_type')\n",
        "\n",
        "def get_gene_seq(gene, _type):\n",
        "  URL = BASE_URL + SEQ_URL.substitute(gene=gene,_type=_type)\n",
        "  print(f'GET ---> {URL}')\n",
        "  request = requests.get(url = URL)\n",
        "  sequence = request.text\n",
        "  sequence = sequence.split('\\n')\n",
        "  sequence = ''.join(sequence[1:len(sequence)-1])\n",
        "  print('reference seq:',sequence)\n",
        "  print('ref seq length:',len(sequence))\n",
        "  return sequence;\n",
        "\n",
        "gene_name = skin_cancer_input.iloc[random_datapoint_index]['GENE']\n",
        "print('reference gene name:',gene_name)\n",
        "gene = get_gene_seq(gene_name,'cdna')\n",
        "# gene = get_gene_seq('BRAF','cdna')\n"
      ]
    },
    {
      "cell_type": "code",
      "execution_count": 148,
      "metadata": {
        "colab": {
          "base_uri": "https://localhost:8080/"
        },
        "id": "sUI_Dis1OSgz",
        "outputId": "339e437c-e982-4188-af02-bc36913becbc"
      },
      "outputs": [
        {
          "output_type": "stream",
          "name": "stdout",
          "text": [
            "patient seq length: 2301\n"
          ]
        }
      ],
      "source": [
        "patient_dna = skin_cancer_input.iloc[random_datapoint_index]['ERRONEOUS_SEQ']\n",
        "print('patient seq length:',len(patient_dna))\n"
      ]
    },
    {
      "cell_type": "markdown",
      "metadata": {
        "id": "lu0Mu4kdOT8Y"
      },
      "source": [
        "**Finding the Similarity Threshold for the Reference Gene**"
      ]
    },
    {
      "cell_type": "code",
      "execution_count": 149,
      "metadata": {
        "colab": {
          "base_uri": "https://localhost:8080/"
        },
        "id": "v5TkFZ_vOVH8",
        "outputId": "66f7ca73-5735-4650-f44b-74edecc262de"
      },
      "outputs": [
        {
          "output_type": "stream",
          "name": "stdout",
          "text": [
            "Patient Age: 59.0\n",
            "Maximum mutation percentage allowed for BRAF : 10.34 %\n",
            "Similarity Threshold for BRAF 89.66 %\n"
          ]
        }
      ],
      "source": [
        "# Reference\n",
        "# https://www.kite.com/python/docs/fuzzywuzzy.process.extractBests\n",
        "# https://pypi.org/project/fuzzysearch/\n",
        "# https://www.ncbi.nlm.nih.gov/pmc/articles/PMC1461236/\n",
        "# https://www.ncbi.nlm.nih.gov/pmc/articles/PMC4694783/#:~:text=After%20using%20linear%20modeling%20to,mutations%20increases%20exponentially%20with%20age.\n",
        "\n",
        "import math\n",
        "\n",
        "nucleotides=len(gene)\n",
        "mutation_percentage = round(238*100/nucleotides,2)\n",
        "\n",
        "# revising percentage using patient's age\n",
        "row = cosmic_dataset.loc[cosmic_dataset[' ID_SAMPLE'] == id_sample]\n",
        "age = row[' AGE'].values[0]\n",
        "print('Patient Age:',age)\n",
        "\n",
        "if(mutation_percentage<10):\n",
        "  print('Original mutation percentage:',mutation_percentage)\n",
        "  if(math.isnan (age)):\n",
        "    print('Age is NaN')\n",
        "  if(age>20):\n",
        "    mutation_percentage = mutation_percentage * 1.5\n",
        "  if(age>40):\n",
        "    mutation_percentage = mutation_percentage * 2.11\n",
        "  if(age>60):\n",
        "    mutation_percentage = mutation_percentage * 1.5\n",
        "  if(age>80):\n",
        "    mutation_percentage = mutation_percentage * 1.4\n",
        "  print('Maximum mutation percentage allowed for '+gene_name+' after considering patient age: '+ str(mutation_percentage)+' %')\n",
        "else:\n",
        "  print('Maximum mutation percentage allowed for '+gene_name+' : '+ str(mutation_percentage)+' %')\n",
        "\n",
        "\n",
        "print('Similarity Threshold for '+gene_name+' '+ str(100-mutation_percentage)+' %')"
      ]
    },
    {
      "cell_type": "markdown",
      "metadata": {
        "id": "ErRwXQzBOWy8"
      },
      "source": [
        "**Calculating the Similarity Rate of the Patient Gene DNA Sequence**"
      ]
    },
    {
      "cell_type": "code",
      "execution_count": 150,
      "metadata": {
        "colab": {
          "base_uri": "https://localhost:8080/"
        },
        "id": "f3OVQfSpOYPe",
        "outputId": "f94af94f-27bc-40ff-ab6f-99677f5cb9ae"
      },
      "outputs": [
        {
          "output_type": "stream",
          "name": "stdout",
          "text": [
            "patient gene: ATGGCGGCGCTGAGCGGTGGCGGTGGTGGCGGCGCGGAGCCGGGCCAGGCTCTGTTCAACGGGGACATGGAGCCCGAGGCCGGCGCCGGCGCCGGCGCCGCGGCCTCTTCGGCTGCGGACCCTGCCATTCCGGAGGAGGTGTGGAATATCAAACAAATGATTAAGTTGACACAGGAACATATAGAGGCCCTATTGGACAAATTTGGTGGGGAGCATAATCCACCATCAATATATCTGGAGGCCTATGAAGAATACACCAGCAAGCTAGATGCACTCCAACAAAGAGAACAACAGTTATTGGAATCTCTGGGGAACGGAACTGATTTTTCTGTTTCTAGCTCTGCATCAATGGATACCGTTACATCTTCTTCCTCTTCTAGCCTTTCAGTGCTACCTTCATCTCTTTCAGTTTTTCAAAATCCCACAGATGTGGCACGGAGCAACCCCAAGTCACCACAAAAACCTATCGTTAGAGTCTTCCTGCCCAACAAACAGAGGACAGTGGTACCTGCAAGGTGTGGAGTTACAGTCCGAGACAGTCTAAAGAAAGCACTGATGATGAGAGGTCTAATCCCAGAGTGCTGTGCTGTTTACAGAATTCAGGATGGAGAGAAGAAACCAATTGGTTGGGACACTGATATTTCCTGGCTTACTGGAGAAGAATTGCATGTGGAAGTGTTGGAGAATGTTCCACTTACAACACACAACTTTGTACGAAAAACGTTTTTCACCTTAGCATTTTGTGACTTTTGTCGAAAGCTGCTTTTCCAGGGTTTCCGCTGTCAAACATGTGGTTATAAATTTCACCAGCGTTGTAGTACAGAAGTTCCACTGATGTGTGTTAATTATGACCAACTTGATTTGCTGTTTGTCTCCAAGTTCTTTGAACACCACCCAATACCACAGGAAGAGGCGTCCTTAGCAGAGACTGCCCTAACATCTGGATCATCCCCTTCCGCACCCGCCTCGGACTCTATTGGGCCCCAAATTCTCACCAGTCCGTCTCCTTCAAAATCCATTCCAATTCCACAGCCCTTCCGACCAGCAGATGAAGATCATCGAAATCAATTTGGGCAACGAGACCGATCCTCATCAGCTCCCAATGTGCATATAAACACAATAGAACCTGTCAATATTGATGACTTGATTAGAGACCAAGGATTTTGTGGTGATGGAGGATCAACCACAGGTTTGTCTGCTACCCCCCCTGCCTCATTACCTGGCTCACTAACTAACGTGAAAGCCTTACAGAAATCTCCAGGACCTCAGCGAGAAAGGAAGTCATCTTCATCCTCAGAAGACAGGAATCGAATGAAAACACTTGGTAGACGGGACTCGAGTGATGATTGGGAGATTCCTGATGGGCAGATTACAGTGGGACAAAGAATTGGATCTGGATCATTTGGAACAGTCTACAAGGGAAAGTGGCATGGTGATGTGGCAGTGAAAATGTTGAATGTGACAGCACCTACACCTCAGCAGTTACAAGCCTTCAAAAATGAAGTAGGAGTACTCAGGAAAACACGACATGTGAATATCCTACTCTTCATGGGCTATTCCACAAAGCCACAACTGGCTATTGTTACCCAGTGGTGTGAGGGCTCCAGCTTGTATCACCATCTCCATATCATTGAGACCAAATTTGAGATGATCAAACTTATAGATATTGCACGACAGACTGCACAGGGCATGGATTACTTACACGCCAAGTCAATCATCCACAGAGACCTCAAGAGTAATAATATATTTCTTCATGAAGACCTCACAGTAAAAATAGGTGATTTTGGTCTAGCTACAGTGAAATCTCGATGGAGTGGGTCCCATCAGTTTGAACAGTTGTCTGGATCCATTTTGTGGATGGCACCAGAAGTCATCAGAATGCAAGATAAAAATCCATACAGCTTTCAGTCAGATGTATATGCATTTGGAATTGTTCTGTATGAATTGATGACTGGACAGTTACCTTATTCAAACATCAACAACAGGGACCAGATAATTTTTATGGTGGGACGAGGATACCTGTCTCCAGATCTCAGTAAGGTACGGAGTAACTGTCCAAAAGCCATGAAGAGATTAATGGCAGAGTGCCTCAAAAAGAAAAGAGATGAGAGACCACTCTTTCCCCAAATTCTCGCCTCTATTGAGCTGCTGGCCCGCTCATTGCCAAAAATTCACCGCAGTGCATCAGAACCCTCCTTGAATCGGGCTGGTTTCCAAACAGAGGATTTTAGTCTATATGCTTGTGCTTCTCCAAAAACACCCATCCAGGCAGGGGGATATGGTGCGTTTCCTGTCCACTGA\n",
            "reference gene: ATGGCGGCGCTGAGCGGTGGCGGTGGTGGCGGCGCGGAGCCGGGCCAGGCTCTGTTCAACGGGGACATGGAGCCCGAGGCCGGCGCCGGCGCCGGCGCCGCGGCCTCTTCGGCTGCGGACCCTGCCATTCCGGAGGAGGTGTGGAATATCAAACAAATGATTAAGTTGACACAGGAACATATAGAGGCCCTATTGGACAAATTTGGTGGGGAGCATAATCCACCATCAATATATCTGGAGGCCTATGAAGAATACACCAGCAAGCTAGATGCACTCCAACAAAGAGAACAACAGTTATTGGAATCTCTGGGGAACGGAACTGATTTTTCTGTTTCTAGCTCTGCATCAATGGATACCGTTACATCTTCTTCCTCTTCTAGCCTTTCAGTGCTACCTTCATCTCTTTCAGTTTTTCAAAATCCCACAGATGTGGCACGGAGCAACCCCAAGTCACCACAAAAACCTATCGTTAGAGTCTTCCTGCCCAACAAACAGAGGACAGTGGTACCTGCAAGGTGTGGAGTTACAGTCCGAGACAGTCTAAAGAAAGCACTGATGATGAGAGGTCTAATCCCAGAGTGCTGTGCTGTTTACAGAATTCAGGATGGAGAGAAGAAACCAATTGGTTGGGACACTGATATTTCCTGGCTTACTGGAGAAGAATTGCATGTGGAAGTGTTGGAGAATGTTCCACTTACAACACACAACTTTGTACGAAAAACGTTTTTCACCTTAGCATTTTGTGACTTTTGTCGAAAGCTGCTTTTCCAGGGTTTCCGCTGTCAAACATGTGGTTATAAATTTCACCAGCGTTGTAGTACAGAAGTTCCACTGATGTGTGTTAATTATGACCAACTTGATTTGCTGTTTGTCTCCAAGTTCTTTGAACACCACCCAATACCACAGGAAGAGGCGTCCTTAGCAGAGACTGCCCTAACATCTGGATCATCCCCTTCCGCACCCGCCTCGGACTCTATTGGGCCCCAAATTCTCACCAGTCCGTCTCCTTCAAAATCCATTCCAATTCCACAGCCCTTCCGACCAGCAGATGAAGATCATCGAAATCAATTTGGGCAACGAGACCGATCCTCATCAGCTCCCAATGTGCATATAAACACAATAGAACCTGTCAATATTGATGACTTGATTAGAGACCAAGGATTTCGTGGTGATGGAGGATCAACCACAGGTTTGTCTGCTACCCCCCCTGCCTCATTACCTGGCTCACTAACTAACGTGAAAGCCTTACAGAAATCTCCAGGACCTCAGCGAGAAAGGAAGTCATCTTCATCCTCAGAAGACAGGAATCGAATGAAAACACTTGGTAGACGGGACTCGAGTGATGATTGGGAGATTCCTGATGGGCAGATTACAGTGGGACAAAGAATTGGATCTGGATCATTTGGAACAGTCTACAAGGGAAAGTGGCATGGTGATGTGGCAGTGAAAATGTTGAATGTGACAGCACCTACACCTCAGCAGTTACAAGCCTTCAAAAATGAAGTAGGAGTACTCAGGAAAACACGACATGTGAATATCCTACTCTTCATGGGCTATTCCACAAAGCCACAACTGGCTATTGTTACCCAGTGGTGTGAGGGCTCCAGCTTGTATCACCATCTCCATATCATTGAGACCAAATTTGAGATGATCAAACTTATAGATATTGCACGACAGACTGCACAGGGCATGGATTACTTACACGCCAAGTCAATCATCCACAGAGACCTCAAGAGTAATAATATATTTCTTCATGAAGACCTCACAGTAAAAATAGGTGATTTTGGTCTAGCTACAGTGAAATCTCGATGGAGTGGGTCCCATCAGTTTGAACAGTTGTCTGGATCCATTTTGTGGATGGCACCAGAAGTCATCAGAATGCAAGATAAAAATCCATACAGCTTTCAGTCAGATGTATATGCATTTGGAATTGTTCTGTATGAATTGATGACTGGACAGTTACCTTATTCAAACATCAACAACAGGGACCAGATAATTTTTATGGTGGGACGAGGATACCTGTCTCCAGATCTCAGTAAGGTACGGAGTAACTGTCCAAAAGCCATGAAGAGATTAATGGCAGAGTGCCTCAAAAAGAAAAGAGATGAGAGACCACTCTTTCCCCAAATTCTCGCCTCTATTGAGCTGCTGGCCCGCTCATTGCCAAAAATTCACCGCAGTGCATCAGAACCCTCCTTGAATCGGGCTGGTTTCCAAACAGAGGATTTTAGTCTATATGCTTGTGCTTCTCCAAAAACACCCATCCAGGCAGGGGGATATGGTGCGTTTCCTGTCCACTGA\n",
            "Similarity score: 51 %\n",
            "Strsimpy Difference score: 0.0434593654932638 %\n",
            "As a similarity percentage  99.95654063450674 %\n",
            "Sequence has more mutations than the maximum mutations per gene. Therefore fragmented\n"
          ]
        }
      ],
      "source": [
        "print('patient gene:',patient_dna)\n",
        "print('reference gene:',gene)\n",
        "\n",
        "ratio = fuzz.ratio(gene, patient_dna)\n",
        "print('Similarity score: {} %'.format(ratio))\n",
        "\n",
        "# rapidfuzz_ratio = rapidfuzz.fuzz.ratio(gene,patient_dna)\n",
        "# print(rapidfuzz_ratio)\n",
        "\n",
        "from strsimpy.normalized_levenshtein import NormalizedLevenshtein\n",
        "\n",
        "normalized_levenshtein = NormalizedLevenshtein()\n",
        "strsimpy_ratio = normalized_levenshtein.distance(gene, patient_dna)\n",
        "strsimpy_ratio = strsimpy_ratio * 100\n",
        "print('Strsimpy Difference score: {} %'.format(strsimpy_ratio))\n",
        "print('As a similarity percentage ',(100-strsimpy_ratio),\"%\")\n",
        "\n",
        "is_within_threshold = False\n",
        "\n",
        "threshold = 100-mutation_percentage\n",
        "if(ratio>threshold):\n",
        "  print('Within similarity range')\n",
        "  is_within_threshold = True\n",
        "else:\n",
        "  print('Sequence has more mutations than the maximum mutations per gene. Therefore fragmented')"
      ]
    },
    {
      "cell_type": "markdown",
      "metadata": {
        "id": "u-VkOw0hOaDs"
      },
      "source": [
        "\n",
        "# **Defragmentation Algorithm**\n",
        "\n",
        "Defining 2D Array to contain the,\n",
        "\n",
        "\n",
        "*   Reference Gene sequence\n",
        "*   Patient's fragmented Gene sequence\n",
        "*   Probability for a particular nucleotide in the patient's gene sequence to be different from the reference sequence for a particular location (Referred to as **Mutation Probability** from here onwards)\n",
        "\n",
        "\n",
        "\n",
        "\n"
      ]
    },
    {
      "cell_type": "code",
      "execution_count": 151,
      "metadata": {
        "id": "OdHAtlulOdSP",
        "colab": {
          "base_uri": "https://localhost:8080/"
        },
        "outputId": "c1738a94-54d0-4fad-9d60-96cf9d07c1f0"
      },
      "outputs": [
        {
          "output_type": "stream",
          "name": "stdout",
          "text": [
            "[[0 0 0 ... 0 0 0]\n",
            " [0 0 0 ... 0 0 0]\n",
            " [0 0 0 ... 0 0 0]]\n"
          ]
        }
      ],
      "source": [
        "if is_within_threshold == False:    # otherwise skips the cells from running\n",
        "  \n",
        "  rows = 3\n",
        "  cols = len(gene)\n",
        "  probability_array = [[0 for i in range(cols)] for j in range(rows)]\n",
        "\n",
        "  import numpy as np\n",
        "\n",
        "  print(np.matrix(probability_array))"
      ]
    },
    {
      "cell_type": "code",
      "execution_count": 152,
      "metadata": {
        "id": "JgP6gC2BOfJY",
        "colab": {
          "base_uri": "https://localhost:8080/"
        },
        "outputId": "f9b0dd99-a80a-4bcb-ea3f-d5413e4e054d"
      },
      "outputs": [
        {
          "output_type": "stream",
          "name": "stdout",
          "text": [
            "[['A' 'T' 'G' ... 'T' 'G' 'A']\n",
            " ['A' 'T' 'G' ... 'T' 'G' 'A']\n",
            " ['0' '0' '0' ... '0' '0' '0']]\n"
          ]
        }
      ],
      "source": [
        "if is_within_threshold == False:    # otherwise skips the cells from running\n",
        "  i=0\n",
        "  for i in range(len(gene)):\n",
        "    probability_array[0][i] = gene[i]\n",
        "    probability_array[1][i] = patient_dna[i]\n",
        "    probability_array[2][i] = 0\n",
        "\n",
        "  print(np.matrix(probability_array))"
      ]
    },
    {
      "cell_type": "markdown",
      "metadata": {
        "id": "SuMzqDDKOhFm"
      },
      "source": [
        "**Select 80% of the non-fragmented sequences to be used as reference for Calculating Mutation Probability**"
      ]
    },
    {
      "cell_type": "code",
      "execution_count": 153,
      "metadata": {
        "id": "JIW9fGYvOiJ_"
      },
      "outputs": [],
      "source": [
        "if is_within_threshold == False:    # otherwise skips the cells from running\n",
        "\n",
        "  random_mutations = actual_mutated[actual_mutated['GENE'].isin([gene_name])].sample(frac=0.8).reset_index(drop=True)\n",
        "\n",
        "  matrix = [[0 for i in range(cols)] for j in range(len(random_mutations))]\n",
        "  random_mutations"
      ]
    },
    {
      "cell_type": "markdown",
      "metadata": {
        "id": "wbSWTww0OjLm"
      },
      "source": [
        "**Creating a Matrix with the Randomly Selected non-fragmented sequences**"
      ]
    },
    {
      "cell_type": "code",
      "execution_count": 154,
      "metadata": {
        "id": "-pojcYvCOklE",
        "colab": {
          "base_uri": "https://localhost:8080/"
        },
        "outputId": "ccba405a-045c-4653-e365-0b69b177456b"
      },
      "outputs": [
        {
          "output_type": "stream",
          "name": "stdout",
          "text": [
            "[['A' 'T' 'G' ... 'T' 'G' 'A']\n",
            " ['A' 'T' 'G' ... 'T' 'G' 'A']\n",
            " ['A' 'T' 'G' ... 'T' 'G' 'A']\n",
            " ...\n",
            " ['A' 'T' 'G' ... 'T' 'G' 'A']\n",
            " ['A' 'T' 'G' ... 'T' 'G' 'A']\n",
            " ['A' 'T' 'G' ... 'T' 'G' 'A']]\n"
          ]
        }
      ],
      "source": [
        "if is_within_threshold == False:    # otherwise skips the cells from running\n",
        "\n",
        "  for row in range(len(random_mutations)):\n",
        "    sample = random_mutations.iloc[row]['MUTATED_SEQ']\n",
        "    # print(sample,len(sample))\n",
        "    for i in range(len(sample)):\n",
        "      matrix[row][i] = sample[i]\n",
        "\n",
        "  print(np.matrix(matrix))"
      ]
    },
    {
      "cell_type": "markdown",
      "metadata": {
        "id": "1tAWpQwxOmHr"
      },
      "source": [
        "**Calculating Mutation Probabilities**\n",
        "\n",
        "If the nucleotide is same in both the reference gene and the patient's gene, the probability is marked as 1. Otherwise the probability is calculated using the matrix generated"
      ]
    },
    {
      "cell_type": "code",
      "execution_count": 155,
      "metadata": {
        "id": "IiXYbG_WOo1O",
        "colab": {
          "base_uri": "https://localhost:8080/"
        },
        "outputId": "47980d9a-2e39-47c0-f1a8-59c5faf90268"
      },
      "outputs": [
        {
          "output_type": "stream",
          "name": "stdout",
          "text": [
            "[['A' 'T' 'G' ... 'T' 'G' 'A']\n",
            " ['A' 'T' 'G' ... 'T' 'G' 'A']\n",
            " ['1' '1' '1' ... '1' '1' '1']]\n"
          ]
        }
      ],
      "source": [
        "if is_within_threshold == False:    # otherwise skips the cells from running\n",
        "  i = 0\n",
        "  while i in range(len(gene)):\n",
        "    patient_nucleotide = probability_array[1][i]\n",
        "    if probability_array[0][i] == patient_nucleotide:\n",
        "      probability_array[2][i] = 1\n",
        "    else:\n",
        "      count = 0\n",
        "      for j in range(len(random_mutations)):\n",
        "        if patient_nucleotide == matrix[j][i]:\n",
        "          count += 1\n",
        "      probability = count/len(random_mutations)\n",
        "      probability_array[2][i] = probability\n",
        "    i += 1\n",
        "\n",
        "  print(np.matrix(probability_array))"
      ]
    },
    {
      "cell_type": "markdown",
      "metadata": {
        "id": "lK15fVQ2OqDa"
      },
      "source": [
        "**Defragmenting Patient's Gene Sequence**"
      ]
    },
    {
      "cell_type": "code",
      "execution_count": 156,
      "metadata": {
        "id": "YoCrVnhROq5R",
        "colab": {
          "base_uri": "https://localhost:8080/"
        },
        "outputId": "cbfc1b7c-93bc-45be-bb5c-5bacd40230f6"
      },
      "outputs": [
        {
          "output_type": "stream",
          "name": "stdout",
          "text": [
            "position 1165 mutation probability 0.000925925925925926\n",
            "new calculated strisimpy difference 0.0434593654932638\n",
            "similairty using strisimpy 99.95654063450674\n"
          ]
        }
      ],
      "source": [
        "new_ratio = ratio\n",
        "# new_strsimpy_ratio = strsimpy_ratio\n",
        "# new_rapidfuzz_ratio = ratio\n",
        "# new_rapidfuzz_ratio = rapidfuzz_ratio\n",
        "defragmented_patient_dna = patient_dna\n",
        "# threshold_q3 = 0.5 * mutation_percentage\n",
        "\n",
        "while new_ratio<threshold:\n",
        "  min_probability = min(probability_array[2])\n",
        "  col_index = probability_array[2].index(min_probability)\n",
        "  print('position',col_index+1,'mutation probability', min_probability)\n",
        "  if(min_probability<0.0001):\n",
        "  # if(new_ratio<threshold_q3):\n",
        "    new_ratio = fuzz.ratio(gene, defragmented_patient_dna)\n",
        "    print(new_ratio)\n",
        "  elif(min_probability<0.5):\n",
        "  #   new_ratio = rapidfuzz.fuzz.ratio(gene,defragmented_patient_dna)\n",
        "  #   print('new calculated fuzzywuzzy ratio',new_ratio)\n",
        "  #   new_rapidfuzz_ratio = rapidfuzz.fuzz.ratio(gene,defragmented_patient_dna)\n",
        "  #   print(new_rapidfuzz_ratio)\n",
        "    # new_strsimpy_ratio = normalized_levenshtein.distance(gene, defragmented_patient_dna) * 100\n",
        "    # print('new calculated strisimpy difference',new_strsimpy_ratio)\n",
        "    # new_ratio = 100 - new_strsimpy_ratio\n",
        "    # ;print('similairty using strisimpy',new_ratio)\n",
        "  # else:\n",
        "  # elif(min_probability>0.1):\n",
        "    new_strsimpy_ratio = normalized_levenshtein.distance(gene, defragmented_patient_dna) * 100\n",
        "    print('new calculated strisimpy difference',new_strsimpy_ratio)\n",
        "    new_ratio = 100 - new_strsimpy_ratio\n",
        "    print('similairty using strisimpy',new_ratio)\n",
        "\n",
        "  probability_array[1][col_index] = probability_array[0][col_index]\n",
        "  probability_array[2][col_index] = 1\n",
        "\n",
        "  defragmented_patient_dna = \"\".join(probability_array[1])\n",
        "\n",
        "  # new_rapidfuzz_ratio = rapidfuzz.fuzz.ratio(gene,defragmented_patient_dna)\n",
        "  # print(new_rapidfuzz_ratio)\n",
        "  # new_strsimpy_ratio = normalized_levenshtein.distance(gene, defragmented_patient_dna) * 100\n",
        "  # print(new_strsimpy_ratio)"
      ]
    },
    {
      "cell_type": "code",
      "execution_count": 157,
      "metadata": {
        "colab": {
          "base_uri": "https://localhost:8080/"
        },
        "id": "xk9lT_IAOseC",
        "outputId": "eca09ba9-7242-4388-a65c-431cf23f02db"
      },
      "outputs": [
        {
          "output_type": "stream",
          "name": "stdout",
          "text": [
            "ATGGCGGCGCTGAGCGGTGGCGGTGGTGGCGGCGCGGAGCCGGGCCAGGCTCTGTTCAACGGGGACATGGAGCCCGAGGCCGGCGCCGGCGCCGGCGCCGCGGCCTCTTCGGCTGCGGACCCTGCCATTCCGGAGGAGGTGTGGAATATCAAACAAATGATTAAGTTGACACAGGAACATATAGAGGCCCTATTGGACAAATTTGGTGGGGAGCATAATCCACCATCAATATATCTGGAGGCCTATGAAGAATACACCAGCAAGCTAGATGCACTCCAACAAAGAGAACAACAGTTATTGGAATCTCTGGGGAACGGAACTGATTTTTCTGTTTCTAGCTCTGCATCAATGGATACCGTTACATCTTCTTCCTCTTCTAGCCTTTCAGTGCTACCTTCATCTCTTTCAGTTTTTCAAAATCCCACAGATGTGGCACGGAGCAACCCCAAGTCACCACAAAAACCTATCGTTAGAGTCTTCCTGCCCAACAAACAGAGGACAGTGGTACCTGCAAGGTGTGGAGTTACAGTCCGAGACAGTCTAAAGAAAGCACTGATGATGAGAGGTCTAATCCCAGAGTGCTGTGCTGTTTACAGAATTCAGGATGGAGAGAAGAAACCAATTGGTTGGGACACTGATATTTCCTGGCTTACTGGAGAAGAATTGCATGTGGAAGTGTTGGAGAATGTTCCACTTACAACACACAACTTTGTACGAAAAACGTTTTTCACCTTAGCATTTTGTGACTTTTGTCGAAAGCTGCTTTTCCAGGGTTTCCGCTGTCAAACATGTGGTTATAAATTTCACCAGCGTTGTAGTACAGAAGTTCCACTGATGTGTGTTAATTATGACCAACTTGATTTGCTGTTTGTCTCCAAGTTCTTTGAACACCACCCAATACCACAGGAAGAGGCGTCCTTAGCAGAGACTGCCCTAACATCTGGATCATCCCCTTCCGCACCCGCCTCGGACTCTATTGGGCCCCAAATTCTCACCAGTCCGTCTCCTTCAAAATCCATTCCAATTCCACAGCCCTTCCGACCAGCAGATGAAGATCATCGAAATCAATTTGGGCAACGAGACCGATCCTCATCAGCTCCCAATGTGCATATAAACACAATAGAACCTGTCAATATTGATGACTTGATTAGAGACCAAGGATTTCGTGGTGATGGAGGATCAACCACAGGTTTGTCTGCTACCCCCCCTGCCTCATTACCTGGCTCACTAACTAACGTGAAAGCCTTACAGAAATCTCCAGGACCTCAGCGAGAAAGGAAGTCATCTTCATCCTCAGAAGACAGGAATCGAATGAAAACACTTGGTAGACGGGACTCGAGTGATGATTGGGAGATTCCTGATGGGCAGATTACAGTGGGACAAAGAATTGGATCTGGATCATTTGGAACAGTCTACAAGGGAAAGTGGCATGGTGATGTGGCAGTGAAAATGTTGAATGTGACAGCACCTACACCTCAGCAGTTACAAGCCTTCAAAAATGAAGTAGGAGTACTCAGGAAAACACGACATGTGAATATCCTACTCTTCATGGGCTATTCCACAAAGCCACAACTGGCTATTGTTACCCAGTGGTGTGAGGGCTCCAGCTTGTATCACCATCTCCATATCATTGAGACCAAATTTGAGATGATCAAACTTATAGATATTGCACGACAGACTGCACAGGGCATGGATTACTTACACGCCAAGTCAATCATCCACAGAGACCTCAAGAGTAATAATATATTTCTTCATGAAGACCTCACAGTAAAAATAGGTGATTTTGGTCTAGCTACAGTGAAATCTCGATGGAGTGGGTCCCATCAGTTTGAACAGTTGTCTGGATCCATTTTGTGGATGGCACCAGAAGTCATCAGAATGCAAGATAAAAATCCATACAGCTTTCAGTCAGATGTATATGCATTTGGAATTGTTCTGTATGAATTGATGACTGGACAGTTACCTTATTCAAACATCAACAACAGGGACCAGATAATTTTTATGGTGGGACGAGGATACCTGTCTCCAGATCTCAGTAAGGTACGGAGTAACTGTCCAAAAGCCATGAAGAGATTAATGGCAGAGTGCCTCAAAAAGAAAAGAGATGAGAGACCACTCTTTCCCCAAATTCTCGCCTCTATTGAGCTGCTGGCCCGCTCATTGCCAAAAATTCACCGCAGTGCATCAGAACCCTCCTTGAATCGGGCTGGTTTCCAAACAGAGGATTTTAGTCTATATGCTTGTGCTTCTCCAAAAACACCCATCCAGGCAGGGGGATATGGTGCGTTTCCTGTCCACTGA\n"
          ]
        }
      ],
      "source": [
        "print(defragmented_patient_dna)"
      ]
    },
    {
      "cell_type": "markdown",
      "metadata": {
        "id": "zPWnwfHKOtDI"
      },
      "source": [
        "# **Smith Waterman Algorithm Implementation**"
      ]
    },
    {
      "cell_type": "code",
      "execution_count": 158,
      "metadata": {
        "id": "77OaXyypO1Fr"
      },
      "outputs": [],
      "source": [
        "import itertools\n",
        "import numpy as np\n",
        "\n",
        "# a x b is the size of the scoring matrix\n",
        "# match_score, mismatch_score and gap_cost are defined\n",
        "# we check the local alignment of b with a\n",
        "def matrix(a, b, match_score=3, mismatch_score=-3, gap_cost=2):\n",
        "#     initialize the 2D array and fill with zeros\n",
        "    H = np.zeros((len(a) + 1, len(b) + 1), np.int)\n",
        "\n",
        "#     finding the candidate diagonal, left, and up values\n",
        "    for i, j in itertools.product(range(1, H.shape[0]), range(1, H.shape[1])):\n",
        "        diagonal = H[i - 1, j - 1] + (match_score if a[i - 1] == b[j - 1] else mismatch_score)     \n",
        "        left = H[i - 1, j] - gap_cost                                                             \n",
        "        up = H[i, j - 1] - gap_cost                                                               \n",
        "        H[i, j] = max(diagonal, left, up, 0)\n",
        "    return H"
      ]
    },
    {
      "cell_type": "code",
      "execution_count": 159,
      "metadata": {
        "id": "ILVTxPJXO2ws"
      },
      "outputs": [],
      "source": [
        "def traceback(H, b, b_='', old_i=0):\n",
        "    # flip H to get index of **last** occurrence of H.max() with np.argmax()\n",
        "    H_flip = np.flip(np.flip(H, 0), 1)\n",
        "    i_, j_ = np.unravel_index(H_flip.argmax(), H_flip.shape)\n",
        "    i, j = np.subtract(H.shape, (i_ + 1, j_ + 1))  # (i, j) are the **last** indice of H.max()\n",
        "    if H[i, j] == 0:               # recursion break point\n",
        "        return b_,j\n",
        "    b_ = b[j - 1] + '-' + b_ if old_i - i > 1 else b[j - 1] + b_   # inserting a gap if backtracking in the same direction\n",
        "    return traceback(H[0:i, 0:j], b, b_, i)             \n",
        "# we do this as a recursion to keep calling the traceback function until a zero is obtained to stop the backtracking\n"
      ]
    },
    {
      "cell_type": "code",
      "execution_count": 160,
      "metadata": {
        "id": "jm6uGiLgO36n"
      },
      "outputs": [],
      "source": [
        "def smith_waterman(a, b, match_score=3,mismatch_score=-3, gap_cost=2):\n",
        "    a, b = a.upper(), b.upper()\n",
        "    H = matrix(a, b, match_score,mismatch_score, gap_cost)\n",
        "    b_, pos = traceback(H, b)\n",
        "    return pos, pos + len(b_)\n",
        "\n",
        "def difference(str1, str2):\n",
        "    diff = []\n",
        "    for a, b in zip(str1, str2):\n",
        "        if a != b:\n",
        "            diff.append(a+' > '+b)\n",
        "    return diff"
      ]
    },
    {
      "cell_type": "code",
      "execution_count": 161,
      "metadata": {
        "id": "HV4j7j2uPAzP"
      },
      "outputs": [],
      "source": [
        "patient_dna = defragmented_patient_dna"
      ]
    },
    {
      "cell_type": "code",
      "execution_count": 162,
      "metadata": {
        "colab": {
          "base_uri": "https://localhost:8080/"
        },
        "id": "LV91ePzbPCSb",
        "outputId": "45a577e8-6335-41fb-bd09-de318fbc2141"
      },
      "outputs": [
        {
          "output_type": "stream",
          "name": "stdout",
          "text": [
            "\n",
            "Mutations \n",
            "[]\n",
            "[]\n"
          ]
        }
      ],
      "source": [
        "print('\\nMutations ')\n",
        "print(difference(gene,patient_dna))\n",
        "\n",
        "print([i+1 for i in range(len(gene)) if gene[i] != patient_dna[i]])"
      ]
    },
    {
      "cell_type": "code",
      "execution_count": 163,
      "metadata": {
        "colab": {
          "base_uri": "https://localhost:8080/"
        },
        "id": "qsV7fRrWuqdm",
        "outputId": "4faf9e48-e9dc-42c0-8102-c259bf90f44d"
      },
      "outputs": [
        {
          "output_type": "stream",
          "name": "stdout",
          "text": [
            "identified mutation count: 0\n"
          ]
        }
      ],
      "source": [
        "print('identified mutation count:',len([i+1 for i in range(len(gene)) if gene[i] != patient_dna[i]]))"
      ]
    },
    {
      "cell_type": "markdown",
      "metadata": {
        "id": "PFMCbZXhPE8I"
      },
      "source": [
        "**Evaluating whether the obtained mutation is correct**"
      ]
    },
    {
      "cell_type": "code",
      "execution_count": 164,
      "metadata": {
        "colab": {
          "base_uri": "https://localhost:8080/"
        },
        "id": "5VXXTA3qPHbx",
        "outputId": "7e536ba9-7b45-4d70-8f40-f74d82326f25"
      },
      "outputs": [
        {
          "output_type": "stream",
          "name": "stdout",
          "text": [
            "c.1165C>T\n"
          ]
        }
      ],
      "source": [
        "sample_mutations = cosmic_dataset[cosmic_dataset[' ID_SAMPLE'].isin([id_sample])]\n",
        "sample_mutations = sample_mutations[sample_mutations['GENE_NAME'].isin([gene_name])]\n",
        "\n",
        "# printing actual mutations\n",
        "if len(sample_mutations) != 1:\n",
        "    print('No of mutations for sample '+str(id_sample)+ ': '+str(len(sample_mutations))) \n",
        "    i = 0\n",
        "    while i in range(len(sample_mutations)):\n",
        "      print(sample_mutations.iloc[i][' MUTATION_CDS'])\n",
        "      i = i+1\n",
        "else:\n",
        "    print(sample_mutations.iloc[0][' MUTATION_CDS'])"
      ]
    }
  ],
  "metadata": {
    "colab": {
      "collapsed_sections": [],
      "name": "Final - Module 2 (Defragmentation+SWA).ipynb",
      "provenance": []
    },
    "kernelspec": {
      "display_name": "Python 3",
      "name": "python3"
    },
    "language_info": {
      "name": "python"
    }
  },
  "nbformat": 4,
  "nbformat_minor": 0
}