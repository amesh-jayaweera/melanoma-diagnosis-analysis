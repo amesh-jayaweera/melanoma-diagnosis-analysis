{
  "cells": [
    {
      "cell_type": "code",
      "source": [
        "!python --version"
      ],
      "metadata": {
        "colab": {
          "base_uri": "https://localhost:8080/"
        },
        "id": "R-2yc-htMwr9",
        "outputId": "3751fdaa-14bf-4fe4-a9eb-888e8225508a"
      },
      "execution_count": null,
      "outputs": [
        {
          "output_type": "stream",
          "name": "stdout",
          "text": [
            "Python 3.7.13\n"
          ]
        }
      ]
    },
    {
      "cell_type": "code",
      "execution_count": null,
      "metadata": {
        "colab": {
          "base_uri": "https://localhost:8080/"
        },
        "id": "nSRLK_1GKX1N",
        "outputId": "2b0a58ab-e257-436e-efeb-751c72fda78f"
      },
      "outputs": [
        {
          "output_type": "stream",
          "name": "stdout",
          "text": [
            "Requirement already satisfied: fuzzywuzzy in /usr/local/lib/python3.7/dist-packages (0.18.0)\n",
            "Requirement already satisfied: fuzzysearch in /usr/local/lib/python3.7/dist-packages (0.7.3)\n",
            "Requirement already satisfied: attrs>=19.3 in /usr/local/lib/python3.7/dist-packages (from fuzzysearch) (21.4.0)\n",
            "Requirement already satisfied: rapidfuzz in /usr/local/lib/python3.7/dist-packages (2.0.9)\n",
            "Requirement already satisfied: jarowinkler<1.1.0,>=1.0.2 in /usr/local/lib/python3.7/dist-packages (from rapidfuzz) (1.0.2)\n"
          ]
        }
      ],
      "source": [
        "#Installing FuzzyWuzzy\n",
        "# uses eg: searching through a list of names for possible slight variations of a certain name\n",
        "!pip install fuzzywuzzy\n",
        "\n",
        "#Installing FuzzySearch\n",
        "!pip install fuzzysearch\n",
        "\n",
        "#install rapid fuzz\n",
        "!pip install rapidfuzz\n",
        "\n",
        "#Import\n",
        "import fuzzywuzzy\n",
        "from fuzzywuzzy import fuzz\n",
        "from fuzzywuzzy import process\n",
        "\n",
        "from fuzzysearch import find_near_matches\n",
        "\n",
        "import rapidfuzz\n"
      ]
    },
    {
      "cell_type": "code",
      "execution_count": null,
      "metadata": {
        "colab": {
          "base_uri": "https://localhost:8080/"
        },
        "id": "Fd4r82IyKX1T",
        "outputId": "8ed32c1c-76aa-4b76-a7af-e39892914c7b"
      },
      "outputs": [
        {
          "output_type": "stream",
          "name": "stdout",
          "text": [
            "Requirement already satisfied: python-Levenshtein in /usr/local/lib/python3.7/dist-packages (0.12.2)\n",
            "Requirement already satisfied: setuptools in /usr/local/lib/python3.7/dist-packages (from python-Levenshtein) (57.4.0)\n"
          ]
        }
      ],
      "source": [
        "!pip3 install python-Levenshtein"
      ]
    },
    {
      "cell_type": "code",
      "source": [
        "# luozhouyang  python-string-similarity\n",
        "\n",
        "!pip install -U strsimpy"
      ],
      "metadata": {
        "id": "wU2HWY1NJb2u",
        "colab": {
          "base_uri": "https://localhost:8080/"
        },
        "outputId": "863c9839-577f-4a3e-9487-19b43c070825"
      },
      "execution_count": null,
      "outputs": [
        {
          "output_type": "stream",
          "name": "stdout",
          "text": [
            "Requirement already satisfied: strsimpy in /usr/local/lib/python3.7/dist-packages (0.2.1)\n"
          ]
        }
      ]
    },
    {
      "cell_type": "code",
      "execution_count": null,
      "metadata": {
        "colab": {
          "base_uri": "https://localhost:8080/"
        },
        "id": "wj4EVJ3KgM-p",
        "outputId": "48043d62-57d3-45da-b3af-a522c99467b4"
      },
      "outputs": [
        {
          "output_type": "stream",
          "name": "stdout",
          "text": [
            "Drive already mounted at /content/gdrive; to attempt to forcibly remount, call drive.mount(\"/content/gdrive\", force_remount=True).\n"
          ]
        }
      ],
      "source": [
        "from google.colab import drive\n",
        "drive.mount('/content/gdrive')"
      ]
    },
    {
      "cell_type": "code",
      "execution_count": null,
      "metadata": {
        "colab": {
          "base_uri": "https://localhost:8080/",
          "height": 424
        },
        "id": "NWpzI--vgQGa",
        "outputId": "4d8835e6-1c70-4092-882d-264e473d10be"
      },
      "outputs": [
        {
          "output_type": "execute_result",
          "data": {
            "text/plain": [
              "       GENE  ID_SAMPLE                                      ERRONEOUS_SEQ\n",
              "0      BRAF    2380400  ATGGCGGCGCTGAGCGGTGGCGGTGGTGGCGGCGCGCAGCCGGGCC...\n",
              "1      BRAF    2340114  ATGGCGGCGCTGAGCGGTGGCGGTGGTGGCGGCGCGGAGCCGGGCC...\n",
              "2      BRAF    1154125  ATCGCGGCGCTGAGCGGTGGCGGTGGTGTCGGCGCGGAGCCGGGCC...\n",
              "3      BRAF    1548870  ATGGCGGCGCTGAGCGGTGGCGGTGGTGGCGGCGCGGAGCCGGGCC...\n",
              "4      BRAF    2603643  ATGGCGGCGCTGATCGGTGGCGGTGGTGGCGGCGCGGAGCCGGGCC...\n",
              "...     ...        ...                                                ...\n",
              "3222  LRP1B    2380404  ATGTCCGAGTTTCTCCTCGCCTTACTCACTCTCTCGGGATTATTGC...\n",
              "3223  LRP1B    2197830  ATGTCCGAGTTTCTCCTCGCCTTACTCACTCTCTCGGGATTATTGC...\n",
              "3224  LRP1B    2292458  ATGTCCGAGTTTCTCCTCGCCTTACTCACTCTCTCGGGATTTTTGC...\n",
              "3225  LRP1B    2339738  ATGTCCGAGTTTCTCCTCGCCTTACTCACTCTCTCGGGATTATTGC...\n",
              "3226  LRP1B    2869764  ATGTCCGAGTTTCTCCTCACCTTACTCACTCTCTCGGGATTATTGC...\n",
              "\n",
              "[3227 rows x 3 columns]"
            ],
            "text/html": [
              "\n",
              "  <div id=\"df-f104110f-5fdc-477f-b7ae-3e2f4abb2d38\">\n",
              "    <div class=\"colab-df-container\">\n",
              "      <div>\n",
              "<style scoped>\n",
              "    .dataframe tbody tr th:only-of-type {\n",
              "        vertical-align: middle;\n",
              "    }\n",
              "\n",
              "    .dataframe tbody tr th {\n",
              "        vertical-align: top;\n",
              "    }\n",
              "\n",
              "    .dataframe thead th {\n",
              "        text-align: right;\n",
              "    }\n",
              "</style>\n",
              "<table border=\"1\" class=\"dataframe\">\n",
              "  <thead>\n",
              "    <tr style=\"text-align: right;\">\n",
              "      <th></th>\n",
              "      <th>GENE</th>\n",
              "      <th>ID_SAMPLE</th>\n",
              "      <th>ERRONEOUS_SEQ</th>\n",
              "    </tr>\n",
              "  </thead>\n",
              "  <tbody>\n",
              "    <tr>\n",
              "      <th>0</th>\n",
              "      <td>BRAF</td>\n",
              "      <td>2380400</td>\n",
              "      <td>ATGGCGGCGCTGAGCGGTGGCGGTGGTGGCGGCGCGCAGCCGGGCC...</td>\n",
              "    </tr>\n",
              "    <tr>\n",
              "      <th>1</th>\n",
              "      <td>BRAF</td>\n",
              "      <td>2340114</td>\n",
              "      <td>ATGGCGGCGCTGAGCGGTGGCGGTGGTGGCGGCGCGGAGCCGGGCC...</td>\n",
              "    </tr>\n",
              "    <tr>\n",
              "      <th>2</th>\n",
              "      <td>BRAF</td>\n",
              "      <td>1154125</td>\n",
              "      <td>ATCGCGGCGCTGAGCGGTGGCGGTGGTGTCGGCGCGGAGCCGGGCC...</td>\n",
              "    </tr>\n",
              "    <tr>\n",
              "      <th>3</th>\n",
              "      <td>BRAF</td>\n",
              "      <td>1548870</td>\n",
              "      <td>ATGGCGGCGCTGAGCGGTGGCGGTGGTGGCGGCGCGGAGCCGGGCC...</td>\n",
              "    </tr>\n",
              "    <tr>\n",
              "      <th>4</th>\n",
              "      <td>BRAF</td>\n",
              "      <td>2603643</td>\n",
              "      <td>ATGGCGGCGCTGATCGGTGGCGGTGGTGGCGGCGCGGAGCCGGGCC...</td>\n",
              "    </tr>\n",
              "    <tr>\n",
              "      <th>...</th>\n",
              "      <td>...</td>\n",
              "      <td>...</td>\n",
              "      <td>...</td>\n",
              "    </tr>\n",
              "    <tr>\n",
              "      <th>3222</th>\n",
              "      <td>LRP1B</td>\n",
              "      <td>2380404</td>\n",
              "      <td>ATGTCCGAGTTTCTCCTCGCCTTACTCACTCTCTCGGGATTATTGC...</td>\n",
              "    </tr>\n",
              "    <tr>\n",
              "      <th>3223</th>\n",
              "      <td>LRP1B</td>\n",
              "      <td>2197830</td>\n",
              "      <td>ATGTCCGAGTTTCTCCTCGCCTTACTCACTCTCTCGGGATTATTGC...</td>\n",
              "    </tr>\n",
              "    <tr>\n",
              "      <th>3224</th>\n",
              "      <td>LRP1B</td>\n",
              "      <td>2292458</td>\n",
              "      <td>ATGTCCGAGTTTCTCCTCGCCTTACTCACTCTCTCGGGATTTTTGC...</td>\n",
              "    </tr>\n",
              "    <tr>\n",
              "      <th>3225</th>\n",
              "      <td>LRP1B</td>\n",
              "      <td>2339738</td>\n",
              "      <td>ATGTCCGAGTTTCTCCTCGCCTTACTCACTCTCTCGGGATTATTGC...</td>\n",
              "    </tr>\n",
              "    <tr>\n",
              "      <th>3226</th>\n",
              "      <td>LRP1B</td>\n",
              "      <td>2869764</td>\n",
              "      <td>ATGTCCGAGTTTCTCCTCACCTTACTCACTCTCTCGGGATTATTGC...</td>\n",
              "    </tr>\n",
              "  </tbody>\n",
              "</table>\n",
              "<p>3227 rows × 3 columns</p>\n",
              "</div>\n",
              "      <button class=\"colab-df-convert\" onclick=\"convertToInteractive('df-f104110f-5fdc-477f-b7ae-3e2f4abb2d38')\"\n",
              "              title=\"Convert this dataframe to an interactive table.\"\n",
              "              style=\"display:none;\">\n",
              "        \n",
              "  <svg xmlns=\"http://www.w3.org/2000/svg\" height=\"24px\"viewBox=\"0 0 24 24\"\n",
              "       width=\"24px\">\n",
              "    <path d=\"M0 0h24v24H0V0z\" fill=\"none\"/>\n",
              "    <path d=\"M18.56 5.44l.94 2.06.94-2.06 2.06-.94-2.06-.94-.94-2.06-.94 2.06-2.06.94zm-11 1L8.5 8.5l.94-2.06 2.06-.94-2.06-.94L8.5 2.5l-.94 2.06-2.06.94zm10 10l.94 2.06.94-2.06 2.06-.94-2.06-.94-.94-2.06-.94 2.06-2.06.94z\"/><path d=\"M17.41 7.96l-1.37-1.37c-.4-.4-.92-.59-1.43-.59-.52 0-1.04.2-1.43.59L10.3 9.45l-7.72 7.72c-.78.78-.78 2.05 0 2.83L4 21.41c.39.39.9.59 1.41.59.51 0 1.02-.2 1.41-.59l7.78-7.78 2.81-2.81c.8-.78.8-2.07 0-2.86zM5.41 20L4 18.59l7.72-7.72 1.47 1.35L5.41 20z\"/>\n",
              "  </svg>\n",
              "      </button>\n",
              "      \n",
              "  <style>\n",
              "    .colab-df-container {\n",
              "      display:flex;\n",
              "      flex-wrap:wrap;\n",
              "      gap: 12px;\n",
              "    }\n",
              "\n",
              "    .colab-df-convert {\n",
              "      background-color: #E8F0FE;\n",
              "      border: none;\n",
              "      border-radius: 50%;\n",
              "      cursor: pointer;\n",
              "      display: none;\n",
              "      fill: #1967D2;\n",
              "      height: 32px;\n",
              "      padding: 0 0 0 0;\n",
              "      width: 32px;\n",
              "    }\n",
              "\n",
              "    .colab-df-convert:hover {\n",
              "      background-color: #E2EBFA;\n",
              "      box-shadow: 0px 1px 2px rgba(60, 64, 67, 0.3), 0px 1px 3px 1px rgba(60, 64, 67, 0.15);\n",
              "      fill: #174EA6;\n",
              "    }\n",
              "\n",
              "    [theme=dark] .colab-df-convert {\n",
              "      background-color: #3B4455;\n",
              "      fill: #D2E3FC;\n",
              "    }\n",
              "\n",
              "    [theme=dark] .colab-df-convert:hover {\n",
              "      background-color: #434B5C;\n",
              "      box-shadow: 0px 1px 3px 1px rgba(0, 0, 0, 0.15);\n",
              "      filter: drop-shadow(0px 1px 2px rgba(0, 0, 0, 0.3));\n",
              "      fill: #FFFFFF;\n",
              "    }\n",
              "  </style>\n",
              "\n",
              "      <script>\n",
              "        const buttonEl =\n",
              "          document.querySelector('#df-f104110f-5fdc-477f-b7ae-3e2f4abb2d38 button.colab-df-convert');\n",
              "        buttonEl.style.display =\n",
              "          google.colab.kernel.accessAllowed ? 'block' : 'none';\n",
              "\n",
              "        async function convertToInteractive(key) {\n",
              "          const element = document.querySelector('#df-f104110f-5fdc-477f-b7ae-3e2f4abb2d38');\n",
              "          const dataTable =\n",
              "            await google.colab.kernel.invokeFunction('convertToInteractive',\n",
              "                                                     [key], {});\n",
              "          if (!dataTable) return;\n",
              "\n",
              "          const docLinkHtml = 'Like what you see? Visit the ' +\n",
              "            '<a target=\"_blank\" href=https://colab.research.google.com/notebooks/data_table.ipynb>data table notebook</a>'\n",
              "            + ' to learn more about interactive tables.';\n",
              "          element.innerHTML = '';\n",
              "          dataTable['output_type'] = 'display_data';\n",
              "          await google.colab.output.renderOutput(dataTable, element);\n",
              "          const docLink = document.createElement('div');\n",
              "          docLink.innerHTML = docLinkHtml;\n",
              "          element.appendChild(docLink);\n",
              "        }\n",
              "      </script>\n",
              "    </div>\n",
              "  </div>\n",
              "  "
            ]
          },
          "metadata": {},
          "execution_count": 47
        }
      ],
      "source": [
        "# import skin cancer patients dataset\n",
        "import pandas as pd\n",
        "\n",
        "skin_cancer_input = pd.read_csv('/content/gdrive/My Drive/Research Colab/output/preprocessed_seqs.csv', delimiter = ',')\n",
        "actual_mutated = pd.read_csv('/content/gdrive/My Drive/Research Colab/output/mutated_genes.csv', delimiter = ',')\n",
        "cosmic_dataset = pd.read_csv('/content/gdrive/My Drive/Research Colab/data/skin V94_38_MUTANTCENSUS.csv', delimiter = ',',encoding='cp1252')\n",
        "\n",
        "skin_cancer_input"
      ]
    },
    {
      "cell_type": "code",
      "source": [
        "cosmic_dataset"
      ],
      "metadata": {
        "colab": {
          "base_uri": "https://localhost:8080/",
          "height": 661
        },
        "id": "2fnAuDaHjqfQ",
        "outputId": "9398daba-8d4f-4041-c089-f3e761b17984"
      },
      "execution_count": null,
      "outputs": [
        {
          "output_type": "execute_result",
          "data": {
            "text/plain": [
              "       GENE_NAME    ACCESSION_NUMBER   GENE_CDS_LENGTH   HGNC_ID  SAMPLE_NAME  \\\n",
              "0           BRAF   ENST00000646891.1              6458      1097      1102005   \n",
              "1           BRAF   ENST00000646891.1              6458      1097      2113574   \n",
              "2         PIK3CA   ENST00000263967.3              9093      8975      1112332   \n",
              "3          CSMD3   ENST00000297405.9             13212     19291   5-GE105-T2   \n",
              "4          ZRSR2   ENST00000307771.7              1491     23019   5-GE105-T2   \n",
              "...          ...                 ...               ...       ...          ...   \n",
              "133007     PTPRB  ENST00000334414.10             12316      9665          12M   \n",
              "133008    PDGFRB   ENST00000261799.8              5717      8804          12M   \n",
              "133009      BRAF   ENST00000646891.1              6458      1097      1038568   \n",
              "133010      NRAS   ENST00000369535.4              4449      7989      2779661   \n",
              "133011      BRAF   ENST00000646891.1              6458      1097      1582451   \n",
              "\n",
              "         ID_SAMPLE   ID_TUMOUR  PRIMARY_SITE  SITE_SUBTYPE_1  SITE_SUBTYPE_2  \\\n",
              "0          1102005     1016576          skin              NS              NS   \n",
              "1          2113574     1987819          skin           acral              NS   \n",
              "2          1112332     1025843          skin           trunk              NS   \n",
              "3          2869809     2724806          skin              NS              NS   \n",
              "4          2869809     2724806          skin              NS              NS   \n",
              "...            ...         ...           ...             ...             ...   \n",
              "133007     2466831     2329662          skin            face              NS   \n",
              "133008     2466831     2329662          skin            face              NS   \n",
              "133009     1038568      955145          skin              NS              NS   \n",
              "133010     2779661     2637677          skin       head_neck              NS   \n",
              "133011     1582451     1503800          skin              NS              NS   \n",
              "\n",
              "        ...  FATHMM_SCORE                       MUTATION_SOMATIC_STATUS  \\\n",
              "0       ...           NaN  Reported in another cancer sample as somatic   \n",
              "1       ...           NaN  Reported in another cancer sample as somatic   \n",
              "2       ...       0.97342  Reported in another cancer sample as somatic   \n",
              "3       ...       0.96394  Reported in another cancer sample as somatic   \n",
              "4       ...       0.00917                     Variant of unknown origin   \n",
              "...     ...           ...                                           ...   \n",
              "133007  ...       0.01545                     Confirmed somatic variant   \n",
              "133008  ...       0.92602                     Confirmed somatic variant   \n",
              "133009  ...       0.98542  Reported in another cancer sample as somatic   \n",
              "133010  ...       0.98635  Reported in another cancer sample as somatic   \n",
              "133011  ...           NaN  Reported in another cancer sample as somatic   \n",
              "\n",
              "        PUBMED_PMID  ID_STUDY           SAMPLE_TYPE  TUMOUR_ORIGIN    AGE  \\\n",
              "0        16421887.0       NaN         surgery-fixed             NS    NaN   \n",
              "1        24569790.0       NaN         surgery-fixed        primary  43.00   \n",
              "2        17673550.0       NaN                    NS             NS  55.00   \n",
              "3        26950094.0       NaN         surgery - NOS             NS  77.00   \n",
              "4        26950094.0       NaN         surgery - NOS             NS  77.00   \n",
              "...             ...       ...                   ...            ...    ...   \n",
              "133007   26343386.0       NaN  surgery fresh/frozen             NS  77.00   \n",
              "133008   26343386.0       NaN  surgery fresh/frozen             NS  77.00   \n",
              "133009   17119447.0       NaN         surgery - NOS             NS    NaN   \n",
              "133010   24129063.0       NaN         surgery - NOS             NS   0.75   \n",
              "133011   21639808.0       NaN                    NS             NS    NaN   \n",
              "\n",
              "                                 HGVSP                         HGVSC  \\\n",
              "0        ENSP00000493543.1:p.Val600Glu                           NaN   \n",
              "1        ENSP00000493543.1:p.Val600Glu                           NaN   \n",
              "2        ENSP00000263967.3:p.Glu545Lys   ENST00000263967.3:c.1633G>A   \n",
              "3       ENSP00000297405.5:p.Glu2821Lys   ENST00000297405.9:c.8461G>A   \n",
              "4                                  NaN  ENST00000307771.7:c.122-6C>T   \n",
              "...                                ...                           ...   \n",
              "133007    ENSP00000334928.6:p.Pro2113=  ENST00000334414.10:c.6339G>A   \n",
              "133008   ENSP00000261799.4:p.Ser591Phe   ENST00000261799.8:c.1772C>T   \n",
              "133009   ENSP00000493543.1:p.Val600Glu   ENST00000646891.1:c.1799T>A   \n",
              "133010    ENSP00000358548.4:p.Gln61Arg    ENST00000369535.4:c.182A>G   \n",
              "133011   ENSP00000493543.1:p.Val600Lys                           NaN   \n",
              "\n",
              "                   HGVSG  \n",
              "0                    NaN  \n",
              "1                    NaN  \n",
              "2       3:g.179218303G>A  \n",
              "3       8:g.112295986C>T  \n",
              "4        X:g.15799866C>T  \n",
              "...                  ...  \n",
              "133007  12:g.70534517C>T  \n",
              "133008  5:g.150125480G>A  \n",
              "133009  7:g.140753336A>T  \n",
              "133010  1:g.114713908T>C  \n",
              "133011               NaN  \n",
              "\n",
              "[133012 rows x 41 columns]"
            ],
            "text/html": [
              "\n",
              "  <div id=\"df-3577c9a7-4842-496d-a876-59b9d4766c91\">\n",
              "    <div class=\"colab-df-container\">\n",
              "      <div>\n",
              "<style scoped>\n",
              "    .dataframe tbody tr th:only-of-type {\n",
              "        vertical-align: middle;\n",
              "    }\n",
              "\n",
              "    .dataframe tbody tr th {\n",
              "        vertical-align: top;\n",
              "    }\n",
              "\n",
              "    .dataframe thead th {\n",
              "        text-align: right;\n",
              "    }\n",
              "</style>\n",
              "<table border=\"1\" class=\"dataframe\">\n",
              "  <thead>\n",
              "    <tr style=\"text-align: right;\">\n",
              "      <th></th>\n",
              "      <th>GENE_NAME</th>\n",
              "      <th>ACCESSION_NUMBER</th>\n",
              "      <th>GENE_CDS_LENGTH</th>\n",
              "      <th>HGNC_ID</th>\n",
              "      <th>SAMPLE_NAME</th>\n",
              "      <th>ID_SAMPLE</th>\n",
              "      <th>ID_TUMOUR</th>\n",
              "      <th>PRIMARY_SITE</th>\n",
              "      <th>SITE_SUBTYPE_1</th>\n",
              "      <th>SITE_SUBTYPE_2</th>\n",
              "      <th>...</th>\n",
              "      <th>FATHMM_SCORE</th>\n",
              "      <th>MUTATION_SOMATIC_STATUS</th>\n",
              "      <th>PUBMED_PMID</th>\n",
              "      <th>ID_STUDY</th>\n",
              "      <th>SAMPLE_TYPE</th>\n",
              "      <th>TUMOUR_ORIGIN</th>\n",
              "      <th>AGE</th>\n",
              "      <th>HGVSP</th>\n",
              "      <th>HGVSC</th>\n",
              "      <th>HGVSG</th>\n",
              "    </tr>\n",
              "  </thead>\n",
              "  <tbody>\n",
              "    <tr>\n",
              "      <th>0</th>\n",
              "      <td>BRAF</td>\n",
              "      <td>ENST00000646891.1</td>\n",
              "      <td>6458</td>\n",
              "      <td>1097</td>\n",
              "      <td>1102005</td>\n",
              "      <td>1102005</td>\n",
              "      <td>1016576</td>\n",
              "      <td>skin</td>\n",
              "      <td>NS</td>\n",
              "      <td>NS</td>\n",
              "      <td>...</td>\n",
              "      <td>NaN</td>\n",
              "      <td>Reported in another cancer sample as somatic</td>\n",
              "      <td>16421887.0</td>\n",
              "      <td>NaN</td>\n",
              "      <td>surgery-fixed</td>\n",
              "      <td>NS</td>\n",
              "      <td>NaN</td>\n",
              "      <td>ENSP00000493543.1:p.Val600Glu</td>\n",
              "      <td>NaN</td>\n",
              "      <td>NaN</td>\n",
              "    </tr>\n",
              "    <tr>\n",
              "      <th>1</th>\n",
              "      <td>BRAF</td>\n",
              "      <td>ENST00000646891.1</td>\n",
              "      <td>6458</td>\n",
              "      <td>1097</td>\n",
              "      <td>2113574</td>\n",
              "      <td>2113574</td>\n",
              "      <td>1987819</td>\n",
              "      <td>skin</td>\n",
              "      <td>acral</td>\n",
              "      <td>NS</td>\n",
              "      <td>...</td>\n",
              "      <td>NaN</td>\n",
              "      <td>Reported in another cancer sample as somatic</td>\n",
              "      <td>24569790.0</td>\n",
              "      <td>NaN</td>\n",
              "      <td>surgery-fixed</td>\n",
              "      <td>primary</td>\n",
              "      <td>43.00</td>\n",
              "      <td>ENSP00000493543.1:p.Val600Glu</td>\n",
              "      <td>NaN</td>\n",
              "      <td>NaN</td>\n",
              "    </tr>\n",
              "    <tr>\n",
              "      <th>2</th>\n",
              "      <td>PIK3CA</td>\n",
              "      <td>ENST00000263967.3</td>\n",
              "      <td>9093</td>\n",
              "      <td>8975</td>\n",
              "      <td>1112332</td>\n",
              "      <td>1112332</td>\n",
              "      <td>1025843</td>\n",
              "      <td>skin</td>\n",
              "      <td>trunk</td>\n",
              "      <td>NS</td>\n",
              "      <td>...</td>\n",
              "      <td>0.97342</td>\n",
              "      <td>Reported in another cancer sample as somatic</td>\n",
              "      <td>17673550.0</td>\n",
              "      <td>NaN</td>\n",
              "      <td>NS</td>\n",
              "      <td>NS</td>\n",
              "      <td>55.00</td>\n",
              "      <td>ENSP00000263967.3:p.Glu545Lys</td>\n",
              "      <td>ENST00000263967.3:c.1633G&gt;A</td>\n",
              "      <td>3:g.179218303G&gt;A</td>\n",
              "    </tr>\n",
              "    <tr>\n",
              "      <th>3</th>\n",
              "      <td>CSMD3</td>\n",
              "      <td>ENST00000297405.9</td>\n",
              "      <td>13212</td>\n",
              "      <td>19291</td>\n",
              "      <td>5-GE105-T2</td>\n",
              "      <td>2869809</td>\n",
              "      <td>2724806</td>\n",
              "      <td>skin</td>\n",
              "      <td>NS</td>\n",
              "      <td>NS</td>\n",
              "      <td>...</td>\n",
              "      <td>0.96394</td>\n",
              "      <td>Reported in another cancer sample as somatic</td>\n",
              "      <td>26950094.0</td>\n",
              "      <td>NaN</td>\n",
              "      <td>surgery - NOS</td>\n",
              "      <td>NS</td>\n",
              "      <td>77.00</td>\n",
              "      <td>ENSP00000297405.5:p.Glu2821Lys</td>\n",
              "      <td>ENST00000297405.9:c.8461G&gt;A</td>\n",
              "      <td>8:g.112295986C&gt;T</td>\n",
              "    </tr>\n",
              "    <tr>\n",
              "      <th>4</th>\n",
              "      <td>ZRSR2</td>\n",
              "      <td>ENST00000307771.7</td>\n",
              "      <td>1491</td>\n",
              "      <td>23019</td>\n",
              "      <td>5-GE105-T2</td>\n",
              "      <td>2869809</td>\n",
              "      <td>2724806</td>\n",
              "      <td>skin</td>\n",
              "      <td>NS</td>\n",
              "      <td>NS</td>\n",
              "      <td>...</td>\n",
              "      <td>0.00917</td>\n",
              "      <td>Variant of unknown origin</td>\n",
              "      <td>26950094.0</td>\n",
              "      <td>NaN</td>\n",
              "      <td>surgery - NOS</td>\n",
              "      <td>NS</td>\n",
              "      <td>77.00</td>\n",
              "      <td>NaN</td>\n",
              "      <td>ENST00000307771.7:c.122-6C&gt;T</td>\n",
              "      <td>X:g.15799866C&gt;T</td>\n",
              "    </tr>\n",
              "    <tr>\n",
              "      <th>...</th>\n",
              "      <td>...</td>\n",
              "      <td>...</td>\n",
              "      <td>...</td>\n",
              "      <td>...</td>\n",
              "      <td>...</td>\n",
              "      <td>...</td>\n",
              "      <td>...</td>\n",
              "      <td>...</td>\n",
              "      <td>...</td>\n",
              "      <td>...</td>\n",
              "      <td>...</td>\n",
              "      <td>...</td>\n",
              "      <td>...</td>\n",
              "      <td>...</td>\n",
              "      <td>...</td>\n",
              "      <td>...</td>\n",
              "      <td>...</td>\n",
              "      <td>...</td>\n",
              "      <td>...</td>\n",
              "      <td>...</td>\n",
              "      <td>...</td>\n",
              "    </tr>\n",
              "    <tr>\n",
              "      <th>133007</th>\n",
              "      <td>PTPRB</td>\n",
              "      <td>ENST00000334414.10</td>\n",
              "      <td>12316</td>\n",
              "      <td>9665</td>\n",
              "      <td>12M</td>\n",
              "      <td>2466831</td>\n",
              "      <td>2329662</td>\n",
              "      <td>skin</td>\n",
              "      <td>face</td>\n",
              "      <td>NS</td>\n",
              "      <td>...</td>\n",
              "      <td>0.01545</td>\n",
              "      <td>Confirmed somatic variant</td>\n",
              "      <td>26343386.0</td>\n",
              "      <td>NaN</td>\n",
              "      <td>surgery fresh/frozen</td>\n",
              "      <td>NS</td>\n",
              "      <td>77.00</td>\n",
              "      <td>ENSP00000334928.6:p.Pro2113=</td>\n",
              "      <td>ENST00000334414.10:c.6339G&gt;A</td>\n",
              "      <td>12:g.70534517C&gt;T</td>\n",
              "    </tr>\n",
              "    <tr>\n",
              "      <th>133008</th>\n",
              "      <td>PDGFRB</td>\n",
              "      <td>ENST00000261799.8</td>\n",
              "      <td>5717</td>\n",
              "      <td>8804</td>\n",
              "      <td>12M</td>\n",
              "      <td>2466831</td>\n",
              "      <td>2329662</td>\n",
              "      <td>skin</td>\n",
              "      <td>face</td>\n",
              "      <td>NS</td>\n",
              "      <td>...</td>\n",
              "      <td>0.92602</td>\n",
              "      <td>Confirmed somatic variant</td>\n",
              "      <td>26343386.0</td>\n",
              "      <td>NaN</td>\n",
              "      <td>surgery fresh/frozen</td>\n",
              "      <td>NS</td>\n",
              "      <td>77.00</td>\n",
              "      <td>ENSP00000261799.4:p.Ser591Phe</td>\n",
              "      <td>ENST00000261799.8:c.1772C&gt;T</td>\n",
              "      <td>5:g.150125480G&gt;A</td>\n",
              "    </tr>\n",
              "    <tr>\n",
              "      <th>133009</th>\n",
              "      <td>BRAF</td>\n",
              "      <td>ENST00000646891.1</td>\n",
              "      <td>6458</td>\n",
              "      <td>1097</td>\n",
              "      <td>1038568</td>\n",
              "      <td>1038568</td>\n",
              "      <td>955145</td>\n",
              "      <td>skin</td>\n",
              "      <td>NS</td>\n",
              "      <td>NS</td>\n",
              "      <td>...</td>\n",
              "      <td>0.98542</td>\n",
              "      <td>Reported in another cancer sample as somatic</td>\n",
              "      <td>17119447.0</td>\n",
              "      <td>NaN</td>\n",
              "      <td>surgery - NOS</td>\n",
              "      <td>NS</td>\n",
              "      <td>NaN</td>\n",
              "      <td>ENSP00000493543.1:p.Val600Glu</td>\n",
              "      <td>ENST00000646891.1:c.1799T&gt;A</td>\n",
              "      <td>7:g.140753336A&gt;T</td>\n",
              "    </tr>\n",
              "    <tr>\n",
              "      <th>133010</th>\n",
              "      <td>NRAS</td>\n",
              "      <td>ENST00000369535.4</td>\n",
              "      <td>4449</td>\n",
              "      <td>7989</td>\n",
              "      <td>2779661</td>\n",
              "      <td>2779661</td>\n",
              "      <td>2637677</td>\n",
              "      <td>skin</td>\n",
              "      <td>head_neck</td>\n",
              "      <td>NS</td>\n",
              "      <td>...</td>\n",
              "      <td>0.98635</td>\n",
              "      <td>Reported in another cancer sample as somatic</td>\n",
              "      <td>24129063.0</td>\n",
              "      <td>NaN</td>\n",
              "      <td>surgery - NOS</td>\n",
              "      <td>NS</td>\n",
              "      <td>0.75</td>\n",
              "      <td>ENSP00000358548.4:p.Gln61Arg</td>\n",
              "      <td>ENST00000369535.4:c.182A&gt;G</td>\n",
              "      <td>1:g.114713908T&gt;C</td>\n",
              "    </tr>\n",
              "    <tr>\n",
              "      <th>133011</th>\n",
              "      <td>BRAF</td>\n",
              "      <td>ENST00000646891.1</td>\n",
              "      <td>6458</td>\n",
              "      <td>1097</td>\n",
              "      <td>1582451</td>\n",
              "      <td>1582451</td>\n",
              "      <td>1503800</td>\n",
              "      <td>skin</td>\n",
              "      <td>NS</td>\n",
              "      <td>NS</td>\n",
              "      <td>...</td>\n",
              "      <td>NaN</td>\n",
              "      <td>Reported in another cancer sample as somatic</td>\n",
              "      <td>21639808.0</td>\n",
              "      <td>NaN</td>\n",
              "      <td>NS</td>\n",
              "      <td>NS</td>\n",
              "      <td>NaN</td>\n",
              "      <td>ENSP00000493543.1:p.Val600Lys</td>\n",
              "      <td>NaN</td>\n",
              "      <td>NaN</td>\n",
              "    </tr>\n",
              "  </tbody>\n",
              "</table>\n",
              "<p>133012 rows × 41 columns</p>\n",
              "</div>\n",
              "      <button class=\"colab-df-convert\" onclick=\"convertToInteractive('df-3577c9a7-4842-496d-a876-59b9d4766c91')\"\n",
              "              title=\"Convert this dataframe to an interactive table.\"\n",
              "              style=\"display:none;\">\n",
              "        \n",
              "  <svg xmlns=\"http://www.w3.org/2000/svg\" height=\"24px\"viewBox=\"0 0 24 24\"\n",
              "       width=\"24px\">\n",
              "    <path d=\"M0 0h24v24H0V0z\" fill=\"none\"/>\n",
              "    <path d=\"M18.56 5.44l.94 2.06.94-2.06 2.06-.94-2.06-.94-.94-2.06-.94 2.06-2.06.94zm-11 1L8.5 8.5l.94-2.06 2.06-.94-2.06-.94L8.5 2.5l-.94 2.06-2.06.94zm10 10l.94 2.06.94-2.06 2.06-.94-2.06-.94-.94-2.06-.94 2.06-2.06.94z\"/><path d=\"M17.41 7.96l-1.37-1.37c-.4-.4-.92-.59-1.43-.59-.52 0-1.04.2-1.43.59L10.3 9.45l-7.72 7.72c-.78.78-.78 2.05 0 2.83L4 21.41c.39.39.9.59 1.41.59.51 0 1.02-.2 1.41-.59l7.78-7.78 2.81-2.81c.8-.78.8-2.07 0-2.86zM5.41 20L4 18.59l7.72-7.72 1.47 1.35L5.41 20z\"/>\n",
              "  </svg>\n",
              "      </button>\n",
              "      \n",
              "  <style>\n",
              "    .colab-df-container {\n",
              "      display:flex;\n",
              "      flex-wrap:wrap;\n",
              "      gap: 12px;\n",
              "    }\n",
              "\n",
              "    .colab-df-convert {\n",
              "      background-color: #E8F0FE;\n",
              "      border: none;\n",
              "      border-radius: 50%;\n",
              "      cursor: pointer;\n",
              "      display: none;\n",
              "      fill: #1967D2;\n",
              "      height: 32px;\n",
              "      padding: 0 0 0 0;\n",
              "      width: 32px;\n",
              "    }\n",
              "\n",
              "    .colab-df-convert:hover {\n",
              "      background-color: #E2EBFA;\n",
              "      box-shadow: 0px 1px 2px rgba(60, 64, 67, 0.3), 0px 1px 3px 1px rgba(60, 64, 67, 0.15);\n",
              "      fill: #174EA6;\n",
              "    }\n",
              "\n",
              "    [theme=dark] .colab-df-convert {\n",
              "      background-color: #3B4455;\n",
              "      fill: #D2E3FC;\n",
              "    }\n",
              "\n",
              "    [theme=dark] .colab-df-convert:hover {\n",
              "      background-color: #434B5C;\n",
              "      box-shadow: 0px 1px 3px 1px rgba(0, 0, 0, 0.15);\n",
              "      filter: drop-shadow(0px 1px 2px rgba(0, 0, 0, 0.3));\n",
              "      fill: #FFFFFF;\n",
              "    }\n",
              "  </style>\n",
              "\n",
              "      <script>\n",
              "        const buttonEl =\n",
              "          document.querySelector('#df-3577c9a7-4842-496d-a876-59b9d4766c91 button.colab-df-convert');\n",
              "        buttonEl.style.display =\n",
              "          google.colab.kernel.accessAllowed ? 'block' : 'none';\n",
              "\n",
              "        async function convertToInteractive(key) {\n",
              "          const element = document.querySelector('#df-3577c9a7-4842-496d-a876-59b9d4766c91');\n",
              "          const dataTable =\n",
              "            await google.colab.kernel.invokeFunction('convertToInteractive',\n",
              "                                                     [key], {});\n",
              "          if (!dataTable) return;\n",
              "\n",
              "          const docLinkHtml = 'Like what you see? Visit the ' +\n",
              "            '<a target=\"_blank\" href=https://colab.research.google.com/notebooks/data_table.ipynb>data table notebook</a>'\n",
              "            + ' to learn more about interactive tables.';\n",
              "          element.innerHTML = '';\n",
              "          dataTable['output_type'] = 'display_data';\n",
              "          await google.colab.output.renderOutput(dataTable, element);\n",
              "          const docLink = document.createElement('div');\n",
              "          docLink.innerHTML = docLinkHtml;\n",
              "          element.appendChild(docLink);\n",
              "        }\n",
              "      </script>\n",
              "    </div>\n",
              "  </div>\n",
              "  "
            ]
          },
          "metadata": {},
          "execution_count": 48
        }
      ]
    },
    {
      "cell_type": "markdown",
      "source": [
        "**Dividing the Data into Training and Testing**"
      ],
      "metadata": {
        "id": "LB7yAL2no_vM"
      }
    },
    {
      "cell_type": "code",
      "source": [
        "# # split into train/test\n",
        "# X_train, X_test, y_train, y_test = train_test_split(X,y,test_size=0.2,random_state=50)\n",
        "\n",
        "# print(X_train.shape, X_test.shape, y_train.shape, y_test.shape)"
      ],
      "metadata": {
        "id": "lYlnxHg4pD4B"
      },
      "execution_count": null,
      "outputs": []
    },
    {
      "cell_type": "markdown",
      "source": [
        "**Picking a Random Datapoint from the Mutated Sequence Dataset**"
      ],
      "metadata": {
        "id": "9Lsk-9kGLS2l"
      }
    },
    {
      "cell_type": "code",
      "execution_count": null,
      "metadata": {
        "colab": {
          "base_uri": "https://localhost:8080/"
        },
        "id": "vyfQSL8Ah6Ut",
        "outputId": "3631f4c6-3578-43d4-d910-1aa27b45cd2c"
      },
      "outputs": [
        {
          "output_type": "stream",
          "name": "stdout",
          "text": [
            "494\n",
            "1723461\n"
          ]
        }
      ],
      "source": [
        "import random\n",
        "\n",
        "size=len(skin_cancer_input)\n",
        "random_datapoint_index = random.randint(0, size)\n",
        "# random_datapoint_index = 380\n",
        "print(random_datapoint_index)\n",
        "id_sample = skin_cancer_input.iloc[random_datapoint_index]['ID_SAMPLE']\n",
        "print(id_sample)"
      ]
    },
    {
      "cell_type": "markdown",
      "source": [
        "**Getting the Relevant Reference Gene Sequence from the COSMIC API**"
      ],
      "metadata": {
        "id": "X0RLkL8GMGj1"
      }
    },
    {
      "cell_type": "code",
      "execution_count": null,
      "metadata": {
        "colab": {
          "base_uri": "https://localhost:8080/"
        },
        "id": "h5wcMctQKX1W",
        "outputId": "bfc52e12-00c5-4945-f19c-02e452e073d5"
      },
      "outputs": [
        {
          "output_type": "stream",
          "name": "stdout",
          "text": [
            "BRAF\n",
            "GET ---> https://cancer.sanger.ac.uk/cosmic/sequence?ln=BRAF&type=cdna\n",
            "ATGGCGGCGCTGAGCGGTGGCGGTGGTGGCGGCGCGGAGCCGGGCCAGGCTCTGTTCAACGGGGACATGGAGCCCGAGGCCGGCGCCGGCGCCGGCGCCGCGGCCTCTTCGGCTGCGGACCCTGCCATTCCGGAGGAGGTGTGGAATATCAAACAAATGATTAAGTTGACACAGGAACATATAGAGGCCCTATTGGACAAATTTGGTGGGGAGCATAATCCACCATCAATATATCTGGAGGCCTATGAAGAATACACCAGCAAGCTAGATGCACTCCAACAAAGAGAACAACAGTTATTGGAATCTCTGGGGAACGGAACTGATTTTTCTGTTTCTAGCTCTGCATCAATGGATACCGTTACATCTTCTTCCTCTTCTAGCCTTTCAGTGCTACCTTCATCTCTTTCAGTTTTTCAAAATCCCACAGATGTGGCACGGAGCAACCCCAAGTCACCACAAAAACCTATCGTTAGAGTCTTCCTGCCCAACAAACAGAGGACAGTGGTACCTGCAAGGTGTGGAGTTACAGTCCGAGACAGTCTAAAGAAAGCACTGATGATGAGAGGTCTAATCCCAGAGTGCTGTGCTGTTTACAGAATTCAGGATGGAGAGAAGAAACCAATTGGTTGGGACACTGATATTTCCTGGCTTACTGGAGAAGAATTGCATGTGGAAGTGTTGGAGAATGTTCCACTTACAACACACAACTTTGTACGAAAAACGTTTTTCACCTTAGCATTTTGTGACTTTTGTCGAAAGCTGCTTTTCCAGGGTTTCCGCTGTCAAACATGTGGTTATAAATTTCACCAGCGTTGTAGTACAGAAGTTCCACTGATGTGTGTTAATTATGACCAACTTGATTTGCTGTTTGTCTCCAAGTTCTTTGAACACCACCCAATACCACAGGAAGAGGCGTCCTTAGCAGAGACTGCCCTAACATCTGGATCATCCCCTTCCGCACCCGCCTCGGACTCTATTGGGCCCCAAATTCTCACCAGTCCGTCTCCTTCAAAATCCATTCCAATTCCACAGCCCTTCCGACCAGCAGATGAAGATCATCGAAATCAATTTGGGCAACGAGACCGATCCTCATCAGCTCCCAATGTGCATATAAACACAATAGAACCTGTCAATATTGATGACTTGATTAGAGACCAAGGATTTCGTGGTGATGGAGGATCAACCACAGGTTTGTCTGCTACCCCCCCTGCCTCATTACCTGGCTCACTAACTAACGTGAAAGCCTTACAGAAATCTCCAGGACCTCAGCGAGAAAGGAAGTCATCTTCATCCTCAGAAGACAGGAATCGAATGAAAACACTTGGTAGACGGGACTCGAGTGATGATTGGGAGATTCCTGATGGGCAGATTACAGTGGGACAAAGAATTGGATCTGGATCATTTGGAACAGTCTACAAGGGAAAGTGGCATGGTGATGTGGCAGTGAAAATGTTGAATGTGACAGCACCTACACCTCAGCAGTTACAAGCCTTCAAAAATGAAGTAGGAGTACTCAGGAAAACACGACATGTGAATATCCTACTCTTCATGGGCTATTCCACAAAGCCACAACTGGCTATTGTTACCCAGTGGTGTGAGGGCTCCAGCTTGTATCACCATCTCCATATCATTGAGACCAAATTTGAGATGATCAAACTTATAGATATTGCACGACAGACTGCACAGGGCATGGATTACTTACACGCCAAGTCAATCATCCACAGAGACCTCAAGAGTAATAATATATTTCTTCATGAAGACCTCACAGTAAAAATAGGTGATTTTGGTCTAGCTACAGTGAAATCTCGATGGAGTGGGTCCCATCAGTTTGAACAGTTGTCTGGATCCATTTTGTGGATGGCACCAGAAGTCATCAGAATGCAAGATAAAAATCCATACAGCTTTCAGTCAGATGTATATGCATTTGGAATTGTTCTGTATGAATTGATGACTGGACAGTTACCTTATTCAAACATCAACAACAGGGACCAGATAATTTTTATGGTGGGACGAGGATACCTGTCTCCAGATCTCAGTAAGGTACGGAGTAACTGTCCAAAAGCCATGAAGAGATTAATGGCAGAGTGCCTCAAAAAGAAAAGAGATGAGAGACCACTCTTTCCCCAAATTCTCGCCTCTATTGAGCTGCTGGCCCGCTCATTGCCAAAAATTCACCGCAGTGCATCAGAACCCTCCTTGAATCGGGCTGGTTTCCAAACAGAGGATTTTAGTCTATATGCTTGTGCTTCTCCAAAAACACCCATCCAGGCAGGGGGATATGGTGCGTTTCCTGTCCACTGA\n",
            "2301\n"
          ]
        }
      ],
      "source": [
        "from string import Template\n",
        "import requests\n",
        "\n",
        "BASE_URL = 'https://cancer.sanger.ac.uk/cosmic/'\n",
        "SEQ_URL = Template('sequence?ln=$gene&type=$_type')\n",
        "\n",
        "def get_gene_seq(gene, _type):\n",
        "  URL = BASE_URL + SEQ_URL.substitute(gene=gene,_type=_type)\n",
        "  print(f'GET ---> {URL}')\n",
        "  request = requests.get(url = URL)\n",
        "  sequence = request.text\n",
        "  sequence = sequence.split('\\n')\n",
        "  sequence = ''.join(sequence[1:len(sequence)-1])\n",
        "  print(sequence)\n",
        "  print(len(sequence))\n",
        "  return sequence;\n",
        "\n",
        "gene_name = skin_cancer_input.iloc[random_datapoint_index]['GENE']\n",
        "print(gene_name)\n",
        "gene = get_gene_seq(gene_name,'cdna')\n",
        "\n",
        "\n"
      ]
    },
    {
      "cell_type": "code",
      "execution_count": null,
      "metadata": {
        "colab": {
          "base_uri": "https://localhost:8080/"
        },
        "id": "uo7R8HSNKX1Y",
        "outputId": "b9fc0975-d94a-4573-9dd2-f37790d37206"
      },
      "outputs": [
        {
          "output_type": "stream",
          "name": "stdout",
          "text": [
            "2301\n"
          ]
        }
      ],
      "source": [
        "patient_dna = skin_cancer_input.iloc[random_datapoint_index]['ERRONEOUS_SEQ']\n",
        "print(len(patient_dna))\n"
      ]
    },
    {
      "cell_type": "markdown",
      "source": [
        "**Finding the Similarity Threshold for the Reference Gene**"
      ],
      "metadata": {
        "id": "Vk8BloTMMZZP"
      }
    },
    {
      "cell_type": "code",
      "execution_count": null,
      "metadata": {
        "colab": {
          "base_uri": "https://localhost:8080/"
        },
        "id": "F8V9eO8OKX1c",
        "outputId": "d1e6b35b-bb0a-4271-8883-6d86f23db5b0"
      },
      "outputs": [
        {
          "output_type": "stream",
          "name": "stdout",
          "text": [
            "10.34\n",
            "48.0\n",
            "Maximum mutation percentage allowed for BRAF 32.726099999999995 %\n",
            "Similarity Threshold for BRAF 67.2739 %\n"
          ]
        }
      ],
      "source": [
        "# Reference\n",
        "# https://www.kite.com/python/docs/fuzzywuzzy.process.extractBests\n",
        "# https://pypi.org/project/fuzzysearch/\n",
        "# https://www.ncbi.nlm.nih.gov/pmc/articles/PMC1461236/\n",
        "# https://www.ncbi.nlm.nih.gov/pmc/articles/PMC4694783/#:~:text=After%20using%20linear%20modeling%20to,mutations%20increases%20exponentially%20with%20age.\n",
        "\n",
        "import math\n",
        "\n",
        "nucleotides=len(gene)\n",
        "# mutation_percentage = round(175*100/nucleotides,2)\n",
        "mutation_percentage = round(238*100/nucleotides,2)\n",
        "print(mutation_percentage)\n",
        "\n",
        "# revising percentage using patient's age\n",
        "row = cosmic_dataset.loc[cosmic_dataset[' ID_SAMPLE'] == id_sample]\n",
        "# print(row)\n",
        "\n",
        "age = row[' AGE'].values[0]\n",
        "print(age)\n",
        "\n",
        "if(mutation_percentage<30):\n",
        "  if(math.isnan (age)):\n",
        "    print('Age is NaN')\n",
        "  if(age>20):\n",
        "    mutation_percentage = mutation_percentage * 1.5\n",
        "  if(age>40):\n",
        "    mutation_percentage = mutation_percentage * 2.11\n",
        "  if(age>60):\n",
        "    mutation_percentage = mutation_percentage * 1.5\n",
        "  if(age>80):\n",
        "    mutation_percentage = mutation_percentage * 1.4\n",
        "\n",
        "print('Maximum mutation percentage allowed for '+gene_name+' '+ str(mutation_percentage)+' %')\n",
        "\n",
        "print('Similarity Threshold for '+gene_name+' '+ str(100-mutation_percentage)+' %')"
      ]
    },
    {
      "cell_type": "markdown",
      "source": [
        "**Calculating the Similarity Rate of the Patient Gene DNA Sequence**"
      ],
      "metadata": {
        "id": "_Gs3UODIMqpz"
      }
    },
    {
      "cell_type": "code",
      "source": [
        "# def fuzzy_extract(qs, ls, threshold):\n",
        "#     '''fuzzy matches 'qs' in 'ls' and returns list of tuples of (word,index)'''\n",
        "    \n",
        "#     print('inside fuzzy_extract')\n",
        "    \n",
        "#     for word,score in process.extractBests(qs, (ls,), score_cutoff=threshold):\n",
        "#         #print('word: {}'.format(word))\n",
        "#         print('score: {}'.format(score))\n",
        "#         l_dist=len(qs)//2\n",
        "#         print(l_dist)\n",
        "#         for match in find_near_matches(qs, word, max_l_dist=l_dist):\n",
        "#             match = word[match.start:match.end]\n",
        "#             print('match {}'.format(match))\n",
        "#             index = ls.find(match)\n",
        "#             yield (match, index)"
      ],
      "metadata": {
        "id": "YUHF2LDcg18G"
      },
      "execution_count": null,
      "outputs": []
    },
    {
      "cell_type": "code",
      "execution_count": null,
      "metadata": {
        "colab": {
          "base_uri": "https://localhost:8080/"
        },
        "id": "I3AcpxHVKX1e",
        "outputId": "eb91080d-36bb-403f-a59f-bb0e27f2b8b8"
      },
      "outputs": [
        {
          "output_type": "stream",
          "name": "stdout",
          "text": [
            "ATGGCCGCGCTGAGCGGTGGCGGTGGTGGCGGCGCGGAGCCGGGCCAGGCTCTGTTCAACGGGGACATGGAGCCCGAGGCCGGCGCCGGCGCCGGCGCCGCGGCCTCTTCGGCTGCGGACCCTGCCATTCCGGAGGAGGTGTGGAATATCAAACAAATGATTAAGTTGACACAGGAACATATAGAGGCCCTATTGGACAAATTTGGTGGGGAGCATAATCCACCATCAATATATCTGGAGGCCTATGAAGAATACACCAGCAAGCTAGATGCACTCCAACAAAGAGAACAACAGTTATTGGAATCTCTGGGGAACGGAACTGATTTTTCTGTTTCTAGCTCTGCATCAATGGATACCGTTACATCTTCTTCCTCTTCTAGCCTTTCAGTGCTACCTTCATCTCTTTCAGTTTTTCAAAATCCCACAGATGTGGCACGGAGCAACCCCAAGTCACCACAAAAACCTATCGTTAGAGTCTTCCTGCCCAACAAACAGAGGGCAGTGGTACCTGCAAGGTGTGGAGTTACAGTCCGAGACAGTCTAAAGAAAGCACTGATGATGAGAGGTCTAATCCCAGAGTGCTGTGCTGTTTACAGAATTCAGGATCGAGAGAAGAAACCAATTGGTTGGGACACTGATATTTCCTGGCTTACTGGAGAAGAATTGCATGTGGAAGTGTTGGAGAATGTTCCACTTACAACACACAACTTTGTACGAAAAACGTTTTTCACCTTAGCATTTTGTGACTTTTGTCGAAAGCTGCTTTTCCAGGGTTTCCGCTGTCAAACATGTGGTTATAAATTTCACCAGCGTTGTAGTACAGAAGTTCCACTGATGTGTGTTAATTATGACCAACTTGATTTGCTGTTTGTCTCCAAGTTCTTTGAACACCACCCAATACCACAGGAAGAGGCGTCCTTAGCAGAGACTGCCATAACATCTGGATCATCCCCTTCCGCACCCGCCTCGGACTCTATTGGGCCCCAAATTCTCACCAGTCCGTCTCCTTCAAAATCCATTCCAATTCCACAGCCCTTCCGACCAGCATATGAAGATCATCGAAATCAATTTGGGCAACGAGACCGATACTCATCAGCTCCCAATGTGCATATAAACACAATAGAACCTGTCAATATTGATGACTTGATTAGAGACCAAGGATTTCGTGGTGATGGAGGATCAACCACAGGTTTGTCTGCTACCCCCCCTGCCTCATTACCTGGCTCACTAACTAACGTGAAAGCCTTACAGAAATCTCCAGGACCTCAGCGAGAAAGGAAGTCATCTTCATCCTCAGAAGACAGGAATCGAATGAAAACACTTGGTAGACCGGACTCGAGTGATGATTGGGAGATTCCTGATGGGCAGATTACAGTGGGACAAAGAATTGGATCTGGATCATTTGGAACAGTCTACAAGGGAAAGTGGCATGGTGATGTGGCAGTGAAAATGTTGAATGTGACAGCACCTACACCTCAGCAGTTACAAGCCTTCAAAAATGAAGTAGGAGTACTCAGGAAAACACGACATGTGAATATCCTACTCTTCATGGGCTATTCCACAAAGCCACAACTGGCTATTGTTACCCAGTGGTGTGAGGGCTCCAGCTTGTATCACCATCTCCATATCATTGAGACCAAATTTGAGATGATCAAACTTATAGATATTGCACGACAGACTGCACAGGGCATGGATTACTTACACGCCAAGTCAATCATCCACAGAGACCTCAAGAGTAATAATATATTTCTTCATGAAGACCTCACAGTAAAAATAGGTGATTTTGGTCTAGCTACAGAGAAATCTCGATGGAGTGGGTCCCATCAGTTTGAACAGTTGTCTGGATCCATTTTGTGGATGGCACCAGAAGTCATCAGAATGCAAGATAAAAATCCATACAGCTTTCAGTCAGATGTATATGCATTTGGAATTGTTCTGTATGAATTGATGACTGGACAGTTACCTTATTCAAACATCAACAACAGGGACCAGATAATTTTTATGGTGGGACGAGGATACCTGTCTCCAGATCTCAGTAAGGTACGGAGTAACTGTCCAAAAGCCATGAAGAGATTAATGGCAGAGTGCCTCAAAAAGAAAAGAGATGAGAGACCACTCTTTCCCCAAATTCTCGCCTCTATTGAGCTGCTGGCCCGCTCATTGCCAAAAATTCACCGCAGTGCATCAGAACCCTCCTTGAATCGGGCTGGTTTCCAAACAGAGGATTTTAGTCTATATGCTTGTGCTTCTCCAAAAACACCCATCCAGGCAGGGGGATATGGTGCGTTTCCTGTCCACTGA\n",
            "ATGGCGGCGCTGAGCGGTGGCGGTGGTGGCGGCGCGGAGCCGGGCCAGGCTCTGTTCAACGGGGACATGGAGCCCGAGGCCGGCGCCGGCGCCGGCGCCGCGGCCTCTTCGGCTGCGGACCCTGCCATTCCGGAGGAGGTGTGGAATATCAAACAAATGATTAAGTTGACACAGGAACATATAGAGGCCCTATTGGACAAATTTGGTGGGGAGCATAATCCACCATCAATATATCTGGAGGCCTATGAAGAATACACCAGCAAGCTAGATGCACTCCAACAAAGAGAACAACAGTTATTGGAATCTCTGGGGAACGGAACTGATTTTTCTGTTTCTAGCTCTGCATCAATGGATACCGTTACATCTTCTTCCTCTTCTAGCCTTTCAGTGCTACCTTCATCTCTTTCAGTTTTTCAAAATCCCACAGATGTGGCACGGAGCAACCCCAAGTCACCACAAAAACCTATCGTTAGAGTCTTCCTGCCCAACAAACAGAGGACAGTGGTACCTGCAAGGTGTGGAGTTACAGTCCGAGACAGTCTAAAGAAAGCACTGATGATGAGAGGTCTAATCCCAGAGTGCTGTGCTGTTTACAGAATTCAGGATGGAGAGAAGAAACCAATTGGTTGGGACACTGATATTTCCTGGCTTACTGGAGAAGAATTGCATGTGGAAGTGTTGGAGAATGTTCCACTTACAACACACAACTTTGTACGAAAAACGTTTTTCACCTTAGCATTTTGTGACTTTTGTCGAAAGCTGCTTTTCCAGGGTTTCCGCTGTCAAACATGTGGTTATAAATTTCACCAGCGTTGTAGTACAGAAGTTCCACTGATGTGTGTTAATTATGACCAACTTGATTTGCTGTTTGTCTCCAAGTTCTTTGAACACCACCCAATACCACAGGAAGAGGCGTCCTTAGCAGAGACTGCCCTAACATCTGGATCATCCCCTTCCGCACCCGCCTCGGACTCTATTGGGCCCCAAATTCTCACCAGTCCGTCTCCTTCAAAATCCATTCCAATTCCACAGCCCTTCCGACCAGCAGATGAAGATCATCGAAATCAATTTGGGCAACGAGACCGATCCTCATCAGCTCCCAATGTGCATATAAACACAATAGAACCTGTCAATATTGATGACTTGATTAGAGACCAAGGATTTCGTGGTGATGGAGGATCAACCACAGGTTTGTCTGCTACCCCCCCTGCCTCATTACCTGGCTCACTAACTAACGTGAAAGCCTTACAGAAATCTCCAGGACCTCAGCGAGAAAGGAAGTCATCTTCATCCTCAGAAGACAGGAATCGAATGAAAACACTTGGTAGACGGGACTCGAGTGATGATTGGGAGATTCCTGATGGGCAGATTACAGTGGGACAAAGAATTGGATCTGGATCATTTGGAACAGTCTACAAGGGAAAGTGGCATGGTGATGTGGCAGTGAAAATGTTGAATGTGACAGCACCTACACCTCAGCAGTTACAAGCCTTCAAAAATGAAGTAGGAGTACTCAGGAAAACACGACATGTGAATATCCTACTCTTCATGGGCTATTCCACAAAGCCACAACTGGCTATTGTTACCCAGTGGTGTGAGGGCTCCAGCTTGTATCACCATCTCCATATCATTGAGACCAAATTTGAGATGATCAAACTTATAGATATTGCACGACAGACTGCACAGGGCATGGATTACTTACACGCCAAGTCAATCATCCACAGAGACCTCAAGAGTAATAATATATTTCTTCATGAAGACCTCACAGTAAAAATAGGTGATTTTGGTCTAGCTACAGTGAAATCTCGATGGAGTGGGTCCCATCAGTTTGAACAGTTGTCTGGATCCATTTTGTGGATGGCACCAGAAGTCATCAGAATGCAAGATAAAAATCCATACAGCTTTCAGTCAGATGTATATGCATTTGGAATTGTTCTGTATGAATTGATGACTGGACAGTTACCTTATTCAAACATCAACAACAGGGACCAGATAATTTTTATGGTGGGACGAGGATACCTGTCTCCAGATCTCAGTAAGGTACGGAGTAACTGTCCAAAAGCCATGAAGAGATTAATGGCAGAGTGCCTCAAAAAGAAAAGAGATGAGAGACCACTCTTTCCCCAAATTCTCGCCTCTATTGAGCTGCTGGCCCGCTCATTGCCAAAAATTCACCGCAGTGCATCAGAACCCTCCTTGAATCGGGCTGGTTTCCAAACAGAGGATTTTAGTCTATATGCTTGTGCTTCTCCAAAAACACCCATCCAGGCAGGGGGATATGGTGCGTTTCCTGTCCACTGA\n",
            "Similarity score: 0 %\n",
            "0\n",
            "Sequence has more mutations than the maximum mutations per gene. Therefore fragmented\n"
          ]
        }
      ],
      "source": [
        "print(patient_dna)\n",
        "print(gene)\n",
        "\n",
        "ratio = fuzz.ratio(gene, patient_dna)\n",
        "print('Similarity score: {} %'.format(ratio))\n",
        "# print(fuzz.partial_ratio(gene,patient_dna))\n",
        "# print(fuzz.token_sort_ratio(gene,patient_dna))\n",
        "set_ratio = fuzz.token_set_ratio(gene,patient_dna)\n",
        "print(set_ratio)\n",
        "# rapidfuzz_ratio = rapidfuzz.fuzz.ratio(gene,patient_dna)\n",
        "# print(rapidfuzz_ratio)\n",
        "\n",
        "from strsimpy.normalized_levenshtein import NormalizedLevenshtein\n",
        "\n",
        "normalized_levenshtein = NormalizedLevenshtein()\n",
        "# strsimpy_ratio = normalized_levenshtein.distance(gene, patient_dna)\n",
        "# strsimpy_ratio = strsimpy_ratio * 100\n",
        "# print('Strsimpy Difference score: {} %'.format(strsimpy_ratio))\n",
        "\n",
        "is_within_threshold = False\n",
        "\n",
        "threshold = 100-mutation_percentage\n",
        "if(ratio>threshold):\n",
        "  print('Within similarity range')\n",
        "  is_within_threshold = True\n",
        "else:\n",
        "  print('Sequence has more mutations than the maximum mutations per gene. Therefore fragmented')"
      ]
    },
    {
      "cell_type": "markdown",
      "source": [
        "\n",
        "# Defragmentation Algorithm"
      ],
      "metadata": {
        "id": "HeewwxQkf0oB"
      }
    },
    {
      "cell_type": "markdown",
      "source": [
        "Defining 2D Array to contain the,\n",
        "\n",
        "\n",
        "*   Reference Gene sequence\n",
        "*   Patient's fragmented Gene sequence\n",
        "*   Probability for a particular nucleotide in the patient's gene sequence to be different from the reference sequence for a particular location (Referred to as **Mutation Probability** from here onwards)\n",
        "\n",
        "\n",
        "\n",
        "\n"
      ],
      "metadata": {
        "id": "IBYyrMtLYlBL"
      }
    },
    {
      "cell_type": "code",
      "source": [
        "if is_within_threshold == False:    # otherwise skips the cells from running\n",
        "  \n",
        "  rows = 3\n",
        "  cols = len(gene)\n",
        "  probability_array = [[0 for i in range(cols)] for j in range(rows)]\n",
        "\n",
        "  import numpy as np\n",
        "\n",
        "  print(np.matrix(probability_array))"
      ],
      "metadata": {
        "id": "jXbxxLyWbh1Y",
        "colab": {
          "base_uri": "https://localhost:8080/"
        },
        "outputId": "555a5d7a-bd2f-4c73-8c5d-88ca412d1716"
      },
      "execution_count": null,
      "outputs": [
        {
          "output_type": "stream",
          "name": "stdout",
          "text": [
            "[[0 0 0 ... 0 0 0]\n",
            " [0 0 0 ... 0 0 0]\n",
            " [0 0 0 ... 0 0 0]]\n"
          ]
        }
      ]
    },
    {
      "cell_type": "code",
      "source": [
        "if is_within_threshold == False:    # otherwise skips the cells from running\n",
        "  i=0\n",
        "  for i in range(len(gene)):\n",
        "    probability_array[0][i] = gene[i]\n",
        "    probability_array[1][i] = patient_dna[i]\n",
        "    probability_array[2][i] = 0\n",
        "\n",
        "  print(np.matrix(probability_array))"
      ],
      "metadata": {
        "id": "FRYV5Ev3ba9E",
        "colab": {
          "base_uri": "https://localhost:8080/"
        },
        "outputId": "b096f308-d7c3-4c59-e87e-0004f963c220"
      },
      "execution_count": null,
      "outputs": [
        {
          "output_type": "stream",
          "name": "stdout",
          "text": [
            "[['A' 'T' 'G' ... 'T' 'G' 'A']\n",
            " ['A' 'T' 'G' ... 'T' 'G' 'A']\n",
            " ['0' '0' '0' ... '0' '0' '0']]\n"
          ]
        }
      ]
    },
    {
      "cell_type": "markdown",
      "source": [
        "**Select 80% of the non-fragmented sequences to be used as reference for Calculating Mutation Probability**"
      ],
      "metadata": {
        "id": "GwNN_ENFZqCs"
      }
    },
    {
      "cell_type": "code",
      "source": [
        "if is_within_threshold == False:    # otherwise skips the cells from running\n",
        "\n",
        "  random_mutations = actual_mutated[actual_mutated['GENE'].isin([gene_name])].sample(frac=0.8).reset_index(drop=True)\n",
        "\n",
        "  matrix = [[0 for i in range(cols)] for j in range(len(random_mutations))]\n",
        "  random_mutations"
      ],
      "metadata": {
        "id": "c2N55xtcJ0uk"
      },
      "execution_count": null,
      "outputs": []
    },
    {
      "cell_type": "markdown",
      "source": [
        "**Creating a Matrix with the Randomly Selected non-fragmented sequences**"
      ],
      "metadata": {
        "id": "B7gBo7PuZ9Bg"
      }
    },
    {
      "cell_type": "code",
      "source": [
        "if is_within_threshold == False:    # otherwise skips the cells from running\n",
        "\n",
        "  for row in range(len(random_mutations)):\n",
        "    sample = random_mutations.iloc[row]['MUTATED_SEQ']\n",
        "    # print(sample,len(sample))\n",
        "    for i in range(len(sample)):\n",
        "      matrix[row][i] = sample[i]\n",
        "\n",
        "  print(np.matrix(matrix))"
      ],
      "metadata": {
        "id": "oNDJE_gAOP0K",
        "colab": {
          "base_uri": "https://localhost:8080/"
        },
        "outputId": "c034e879-e3b5-4127-db62-8d95bc1bc2fe"
      },
      "execution_count": null,
      "outputs": [
        {
          "output_type": "stream",
          "name": "stdout",
          "text": [
            "[['A' 'T' 'G' ... 'T' 'G' 'A']\n",
            " ['A' 'T' 'G' ... 'T' 'G' 'A']\n",
            " ['A' 'T' 'G' ... 'T' 'G' 'A']\n",
            " ...\n",
            " ['A' 'T' 'G' ... 'T' 'G' 'A']\n",
            " ['A' 'T' 'G' ... 'T' 'G' 'A']\n",
            " ['A' 'T' 'G' ... 'T' 'G' 'A']]\n"
          ]
        }
      ]
    },
    {
      "cell_type": "markdown",
      "source": [
        "**Calculating Mutation Probabilities**"
      ],
      "metadata": {
        "id": "Ja_A1BULaRDb"
      }
    },
    {
      "cell_type": "markdown",
      "source": [
        "If the nucleotide is same in both the reference gene and the patient's gene, the probability is marked as 1. Otherwise the probability is calculated using the matrix generated"
      ],
      "metadata": {
        "id": "o7Cw4jCXaadk"
      }
    },
    {
      "cell_type": "code",
      "source": [
        "if is_within_threshold == False:    # otherwise skips the cells from running\n",
        "  i = 0\n",
        "  while i in range(len(gene)):\n",
        "    patient_nucleotide = probability_array[1][i]\n",
        "    if probability_array[0][i] == patient_nucleotide:\n",
        "      probability_array[2][i] = 1\n",
        "    else:\n",
        "      count = 0\n",
        "      for j in range(len(random_mutations)):\n",
        "        if patient_nucleotide == matrix[j][i]:\n",
        "          count += 1\n",
        "      probability = count/len(random_mutations)\n",
        "      probability_array[2][i] = probability\n",
        "    i += 1\n",
        "\n",
        "  print(np.matrix(probability_array))"
      ],
      "metadata": {
        "id": "LM3h2FU-M_sg",
        "colab": {
          "base_uri": "https://localhost:8080/"
        },
        "outputId": "8f645200-cbd5-4f74-b499-83891ac94a47"
      },
      "execution_count": null,
      "outputs": [
        {
          "output_type": "stream",
          "name": "stdout",
          "text": [
            "[['A' 'T' 'G' ... 'T' 'G' 'A']\n",
            " ['A' 'T' 'G' ... 'T' 'G' 'A']\n",
            " ['1' '1' '1' ... '1' '1' '1']]\n"
          ]
        }
      ]
    },
    {
      "cell_type": "markdown",
      "source": [
        "**Defragmenting Patient's Gene Sequence**"
      ],
      "metadata": {
        "id": "taN2hJ0Zf5qW"
      }
    },
    {
      "cell_type": "code",
      "source": [
        "new_ratio = ratio\n",
        "# new_strsimpy_ratio = strsimpy_ratio\n",
        "new_set_ratio = set_ratio\n",
        "# new_rapidfuzz_ratio = rapidfuzz_ratio\n",
        "defragmented_patient_dna = patient_dna\n",
        "\n",
        "while new_ratio+5<threshold:\n",
        "  min_probability = min(probability_array[2])\n",
        "  # if(min_probability>0.8):\n",
        "  #   exit()\n",
        "  col_index = probability_array[2].index(min_probability)\n",
        "  print(col_index+1, min_probability)\n",
        "  probability_array[1][col_index] = probability_array[0][col_index]\n",
        "  probability_array[2][col_index] = 1\n",
        "\n",
        "  defragmented_patient_dna = \"\".join(probability_array[1])\n",
        "  new_ratio = fuzz.ratio(gene, defragmented_patient_dna)\n",
        "  new_set_ratio = fuzz.token_set_ratio(gene,defragmented_patient_dna)\n",
        "  print(new_ratio)\n",
        "  print(new_set_ratio)\n",
        "  \n",
        "  # new_rapidfuzz_ratio = rapidfuzz.fuzz.ratio(gene,defragmented_patient_dna)\n",
        "  # print(new_rapidfuzz_ratio)\n",
        "  # new_strsimpy_ratio = normalized_levenshtein.distance(gene, defragmented_patient_dna) * 100\n",
        "  # print(new_strsimpy_ratio)"
      ],
      "metadata": {
        "id": "K5aklMOa9JVT",
        "colab": {
          "base_uri": "https://localhost:8080/"
        },
        "outputId": "9c106114-a600-40d9-c54c-65d4ffb259e6"
      },
      "execution_count": null,
      "outputs": [
        {
          "output_type": "stream",
          "name": "stdout",
          "text": [
            "6 0.0\n",
            "22\n",
            "22\n",
            "499 0.0\n",
            "26\n",
            "26\n",
            "607 0.0\n",
            "41\n",
            "41\n",
            "934 0.0\n",
            "46\n",
            "46\n",
            "1048 0.0\n",
            "47\n",
            "47\n",
            "1088 0.0\n",
            "58\n",
            "58\n",
            "1331 0.0\n",
            "78\n",
            "78\n"
          ]
        }
      ]
    },
    {
      "cell_type": "code",
      "source": [
        "print(defragmented_patient_dna)"
      ],
      "metadata": {
        "colab": {
          "base_uri": "https://localhost:8080/"
        },
        "id": "jyaDqJ2BoMba",
        "outputId": "2c631cb3-d7a5-4387-8eea-fb600467bde7"
      },
      "execution_count": null,
      "outputs": [
        {
          "output_type": "stream",
          "name": "stdout",
          "text": [
            "ATGGCGGCGCTGAGCGGTGGCGGTGGTGGCGGCGCGGAGCCGGGCCAGGCTCTGTTCAACGGGGACATGGAGCCCGAGGCCGGCGCCGGCGCCGGCGCCGCGGCCTCTTCGGCTGCGGACCCTGCCATTCCGGAGGAGGTGTGGAATATCAAACAAATGATTAAGTTGACACAGGAACATATAGAGGCCCTATTGGACAAATTTGGTGGGGAGCATAATCCACCATCAATATATCTGGAGGCCTATGAAGAATACACCAGCAAGCTAGATGCACTCCAACAAAGAGAACAACAGTTATTGGAATCTCTGGGGAACGGAACTGATTTTTCTGTTTCTAGCTCTGCATCAATGGATACCGTTACATCTTCTTCCTCTTCTAGCCTTTCAGTGCTACCTTCATCTCTTTCAGTTTTTCAAAATCCCACAGATGTGGCACGGAGCAACCCCAAGTCACCACAAAAACCTATCGTTAGAGTCTTCCTGCCCAACAAACAGAGGACAGTGGTACCTGCAAGGTGTGGAGTTACAGTCCGAGACAGTCTAAAGAAAGCACTGATGATGAGAGGTCTAATCCCAGAGTGCTGTGCTGTTTACAGAATTCAGGATGGAGAGAAGAAACCAATTGGTTGGGACACTGATATTTCCTGGCTTACTGGAGAAGAATTGCATGTGGAAGTGTTGGAGAATGTTCCACTTACAACACACAACTTTGTACGAAAAACGTTTTTCACCTTAGCATTTTGTGACTTTTGTCGAAAGCTGCTTTTCCAGGGTTTCCGCTGTCAAACATGTGGTTATAAATTTCACCAGCGTTGTAGTACAGAAGTTCCACTGATGTGTGTTAATTATGACCAACTTGATTTGCTGTTTGTCTCCAAGTTCTTTGAACACCACCCAATACCACAGGAAGAGGCGTCCTTAGCAGAGACTGCCCTAACATCTGGATCATCCCCTTCCGCACCCGCCTCGGACTCTATTGGGCCCCAAATTCTCACCAGTCCGTCTCCTTCAAAATCCATTCCAATTCCACAGCCCTTCCGACCAGCAGATGAAGATCATCGAAATCAATTTGGGCAACGAGACCGATCCTCATCAGCTCCCAATGTGCATATAAACACAATAGAACCTGTCAATATTGATGACTTGATTAGAGACCAAGGATTTCGTGGTGATGGAGGATCAACCACAGGTTTGTCTGCTACCCCCCCTGCCTCATTACCTGGCTCACTAACTAACGTGAAAGCCTTACAGAAATCTCCAGGACCTCAGCGAGAAAGGAAGTCATCTTCATCCTCAGAAGACAGGAATCGAATGAAAACACTTGGTAGACGGGACTCGAGTGATGATTGGGAGATTCCTGATGGGCAGATTACAGTGGGACAAAGAATTGGATCTGGATCATTTGGAACAGTCTACAAGGGAAAGTGGCATGGTGATGTGGCAGTGAAAATGTTGAATGTGACAGCACCTACACCTCAGCAGTTACAAGCCTTCAAAAATGAAGTAGGAGTACTCAGGAAAACACGACATGTGAATATCCTACTCTTCATGGGCTATTCCACAAAGCCACAACTGGCTATTGTTACCCAGTGGTGTGAGGGCTCCAGCTTGTATCACCATCTCCATATCATTGAGACCAAATTTGAGATGATCAAACTTATAGATATTGCACGACAGACTGCACAGGGCATGGATTACTTACACGCCAAGTCAATCATCCACAGAGACCTCAAGAGTAATAATATATTTCTTCATGAAGACCTCACAGTAAAAATAGGTGATTTTGGTCTAGCTACAGAGAAATCTCGATGGAGTGGGTCCCATCAGTTTGAACAGTTGTCTGGATCCATTTTGTGGATGGCACCAGAAGTCATCAGAATGCAAGATAAAAATCCATACAGCTTTCAGTCAGATGTATATGCATTTGGAATTGTTCTGTATGAATTGATGACTGGACAGTTACCTTATTCAAACATCAACAACAGGGACCAGATAATTTTTATGGTGGGACGAGGATACCTGTCTCCAGATCTCAGTAAGGTACGGAGTAACTGTCCAAAAGCCATGAAGAGATTAATGGCAGAGTGCCTCAAAAAGAAAAGAGATGAGAGACCACTCTTTCCCCAAATTCTCGCCTCTATTGAGCTGCTGGCCCGCTCATTGCCAAAAATTCACCGCAGTGCATCAGAACCCTCCTTGAATCGGGCTGGTTTCCAAACAGAGGATTTTAGTCTATATGCTTGTGCTTCTCCAAAAACACCCATCCAGGCAGGGGGATATGGTGCGTTTCCTGTCCACTGA\n"
          ]
        }
      ]
    }
  ],
  "metadata": {
    "colab": {
      "name": "Checking Similarity in Reference and Patient Gene+Defragmentation Algo.ipynb",
      "provenance": [],
      "collapsed_sections": []
    },
    "kernelspec": {
      "display_name": "Python 3",
      "language": "python",
      "name": "python3"
    },
    "language_info": {
      "codemirror_mode": {
        "name": "ipython",
        "version": 3
      },
      "file_extension": ".py",
      "mimetype": "text/x-python",
      "name": "python",
      "nbconvert_exporter": "python",
      "pygments_lexer": "ipython3",
      "version": "3.8.5"
    },
    "accelerator": "GPU"
  },
  "nbformat": 4,
  "nbformat_minor": 0
}