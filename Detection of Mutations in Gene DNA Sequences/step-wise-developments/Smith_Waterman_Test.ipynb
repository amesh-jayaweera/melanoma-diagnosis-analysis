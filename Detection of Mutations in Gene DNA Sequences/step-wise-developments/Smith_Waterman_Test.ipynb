{
  "cells": [
    {
      "cell_type": "markdown",
      "metadata": {
        "id": "YV5NszmpN5Fy"
      },
      "source": [
        "**Smith Waterman Algorithm Implementation**"
      ]
    },
    {
      "cell_type": "code",
      "execution_count": null,
      "metadata": {
        "id": "DzhDjL61N5F7"
      },
      "outputs": [],
      "source": [
        "import itertools\n",
        "import numpy as np\n",
        "\n",
        "# a x b is the size of the scoring matrix\n",
        "# match_score, mismatch_score and gap_cost are defined\n",
        "# we check the local alignment of b with a\n",
        "def matrix(a, b, match_score=3, mismatch_score=-3, gap_cost=2):\n",
        "#     initialize the 2D array and fill with zeros\n",
        "    H = np.zeros((len(a) + 1, len(b) + 1), np.int)\n",
        "\n",
        "#     finding the candidate diagonal, left, and up values\n",
        "    for i, j in itertools.product(range(1, H.shape[0]), range(1, H.shape[1])):\n",
        "        diagonal = H[i - 1, j - 1] + (match_score if a[i - 1] == b[j - 1] else mismatch_score)     \n",
        "        left = H[i - 1, j] - gap_cost                                                             \n",
        "        up = H[i, j - 1] - gap_cost                                                               \n",
        "        H[i, j] = max(diagonal, left, up, 0)\n",
        "    return H"
      ]
    },
    {
      "cell_type": "code",
      "execution_count": null,
      "metadata": {
        "id": "KVUvPbEJN5F_"
      },
      "outputs": [],
      "source": [
        "def traceback(H, b, b_='', old_i=0):\n",
        "    # flip H to get index of **last** occurrence of H.max() with np.argmax()\n",
        "    H_flip = np.flip(np.flip(H, 0), 1)\n",
        "    i_, j_ = np.unravel_index(H_flip.argmax(), H_flip.shape)\n",
        "    i, j = np.subtract(H.shape, (i_ + 1, j_ + 1))  # (i, j) are the **last** indice of H.max()\n",
        "    if H[i, j] == 0:               # recursion break point\n",
        "        return b_,j\n",
        "    b_ = b[j - 1] + '-' + b_ if old_i - i > 1 else b[j - 1] + b_   # inserting a gap if backtracking in the same direction\n",
        "    return traceback(H[0:i, 0:j], b, b_, i)             \n",
        "# we do this as a recursion to keep calling the traceback function until a zero is obtained to stop the backtracking\n"
      ]
    },
    {
      "cell_type": "code",
      "execution_count": null,
      "metadata": {
        "id": "QxJ-fgBKN5GA"
      },
      "outputs": [],
      "source": [
        "def smith_waterman(a, b, match_score=3,mismatch_score=-3, gap_cost=2):\n",
        "    a, b = a.upper(), b.upper()\n",
        "    H = matrix(a, b, match_score,mismatch_score, gap_cost)\n",
        "    b_, pos = traceback(H, b)\n",
        "    return pos, pos + len(b_)\n",
        "\n",
        "def difference(str1, str2):\n",
        "    diff = []\n",
        "    for a, b in zip(str1, str2):\n",
        "        if a != b:\n",
        "            diff.append(a+' > '+b)\n",
        "    return diff"
      ]
    },
    {
      "cell_type": "markdown",
      "metadata": {
        "id": "sjdSOPmON5GB"
      },
      "source": [
        "**Example showing the process in Smith Waterman Algorithm**"
      ]
    },
    {
      "cell_type": "code",
      "execution_count": null,
      "metadata": {
        "colab": {
          "base_uri": "https://localhost:8080/"
        },
        "id": "vogvEdn6N5GC",
        "outputId": "196c0c2d-4a1d-4d81-a6cb-307ec40ca82c"
      },
      "outputs": [
        {
          "output_type": "stream",
          "name": "stdout",
          "text": [
            "[[ 0  0  0  0  0  0  0  0  0]\n",
            " [ 0  0  3  1  0  0  0  3  3]\n",
            " [ 0  0  3  1  0  0  0  3  6]\n",
            " [ 0  3  1  6  4  2  0  1  4]\n",
            " [ 0  3  1  4  9  7  5  3  2]\n",
            " [ 0  1  6  4  7  6  4  8  6]\n",
            " [ 0  0  4  3  5 10  8  6  5]\n",
            " [ 0  0  2  1  3  8 13 11  9]\n",
            " [ 0  3  1  5  4  6 11 10  8]]\n",
            "('gtt-ac', 1)\n",
            "GTTGAC\n"
          ]
        },
        {
          "output_type": "stream",
          "name": "stderr",
          "text": [
            "/usr/local/lib/python3.7/dist-packages/ipykernel_launcher.py:9: DeprecationWarning: `np.int` is a deprecated alias for the builtin `int`. To silence this warning, use `int` by itself. Doing this will not modify any behavior and is safe. When replacing `np.int`, you may wish to use e.g. `np.int64` or `np.int32` to specify the precision. If you wish to review your current use, check the release note link for additional information.\n",
            "Deprecated in NumPy 1.20; for more details and guidance: https://numpy.org/devdocs/release/1.20.0-notes.html#deprecations\n",
            "  if __name__ == '__main__':\n"
          ]
        }
      ],
      "source": [
        "# prints correct scoring matrix for example\n",
        "print(matrix('GGTTGACT', 'TGTTACGG'))\n",
        "\n",
        "a, b = 'ggttgact', 'tgttacgg'\n",
        "H = matrix(a, b)\n",
        "print(traceback(H, b)) # ('gtt-ac', 1)\n",
        "\n",
        "a, b = 'GGTTGACT', 'TGTTACGG'\n",
        "start, end = smith_waterman(a, b)\n",
        "print(a[start:end])     # GTTGAC\n",
        "\n"
      ]
    },
    {
      "cell_type": "code",
      "source": [
        "print('Mutations ')\n",
        "print(difference(a,b))\n",
        "print([i for i in range(len(a)) if a[i] != b[i]])"
      ],
      "metadata": {
        "colab": {
          "base_uri": "https://localhost:8080/"
        },
        "id": "vXZtC4KZd4GW",
        "outputId": "8acc8363-91aa-4308-bb1e-7f9422522b25"
      },
      "execution_count": null,
      "outputs": [
        {
          "output_type": "stream",
          "name": "stdout",
          "text": [
            "Mutations \n",
            "['G > T', 'G > A', 'A > C', 'C > G', 'T > G']\n",
            "[0, 4, 5, 6, 7]\n"
          ]
        }
      ]
    },
    {
      "cell_type": "markdown",
      "metadata": {
        "id": "icrTTzPGN5GE"
      },
      "source": [
        "**Aligning a Patient Gene DNA Seqeunce and Finding Mutations**"
      ]
    },
    {
      "cell_type": "code",
      "execution_count": null,
      "metadata": {
        "colab": {
          "base_uri": "https://localhost:8080/",
          "height": 224
        },
        "id": "8WxSMIcAN5GF",
        "outputId": "9a7a7ca0-2b15-49a1-fdec-bff1e4dff8ea"
      },
      "outputs": [
        {
          "output_type": "stream",
          "name": "stdout",
          "text": [
            "Drive already mounted at /content/gdrive; to attempt to forcibly remount, call drive.mount(\"/content/gdrive\", force_remount=True).\n"
          ]
        },
        {
          "output_type": "execute_result",
          "data": {
            "text/plain": [
              "   GENE  ID_SAMPLE                                      ERRONEOUS_SEQ\n",
              "0  BRAF    2380400  ATGGCGGCGCTGAGCGGTGGCGGTGGTGGCGGCGCGCAGCCGGGCC...\n",
              "1  BRAF    2340114  ATGGCGGCGCTGAGCGGTGGCGGTGGTGGCGGCGCGGAGCCGGGCC...\n",
              "2  BRAF    1154125  ATCGCGGCGCTGAGCGGTGGCGGTGGTGTCGGCGCGGAGCCGGGCC...\n",
              "3  BRAF    1548870  ATGGCGGCGCTGAGCGGTGGCGGTGGTGGCGGCGCGGAGCCGGGCC...\n",
              "4  BRAF    2603643  ATGGCGGCGCTGATCGGTGGCGGTGGTGGCGGCGCGGAGCCGGGCC..."
            ],
            "text/html": [
              "\n",
              "  <div id=\"df-e3122686-c271-4cad-8d17-1ba19b7f7d20\">\n",
              "    <div class=\"colab-df-container\">\n",
              "      <div>\n",
              "<style scoped>\n",
              "    .dataframe tbody tr th:only-of-type {\n",
              "        vertical-align: middle;\n",
              "    }\n",
              "\n",
              "    .dataframe tbody tr th {\n",
              "        vertical-align: top;\n",
              "    }\n",
              "\n",
              "    .dataframe thead th {\n",
              "        text-align: right;\n",
              "    }\n",
              "</style>\n",
              "<table border=\"1\" class=\"dataframe\">\n",
              "  <thead>\n",
              "    <tr style=\"text-align: right;\">\n",
              "      <th></th>\n",
              "      <th>GENE</th>\n",
              "      <th>ID_SAMPLE</th>\n",
              "      <th>ERRONEOUS_SEQ</th>\n",
              "    </tr>\n",
              "  </thead>\n",
              "  <tbody>\n",
              "    <tr>\n",
              "      <th>0</th>\n",
              "      <td>BRAF</td>\n",
              "      <td>2380400</td>\n",
              "      <td>ATGGCGGCGCTGAGCGGTGGCGGTGGTGGCGGCGCGCAGCCGGGCC...</td>\n",
              "    </tr>\n",
              "    <tr>\n",
              "      <th>1</th>\n",
              "      <td>BRAF</td>\n",
              "      <td>2340114</td>\n",
              "      <td>ATGGCGGCGCTGAGCGGTGGCGGTGGTGGCGGCGCGGAGCCGGGCC...</td>\n",
              "    </tr>\n",
              "    <tr>\n",
              "      <th>2</th>\n",
              "      <td>BRAF</td>\n",
              "      <td>1154125</td>\n",
              "      <td>ATCGCGGCGCTGAGCGGTGGCGGTGGTGTCGGCGCGGAGCCGGGCC...</td>\n",
              "    </tr>\n",
              "    <tr>\n",
              "      <th>3</th>\n",
              "      <td>BRAF</td>\n",
              "      <td>1548870</td>\n",
              "      <td>ATGGCGGCGCTGAGCGGTGGCGGTGGTGGCGGCGCGGAGCCGGGCC...</td>\n",
              "    </tr>\n",
              "    <tr>\n",
              "      <th>4</th>\n",
              "      <td>BRAF</td>\n",
              "      <td>2603643</td>\n",
              "      <td>ATGGCGGCGCTGATCGGTGGCGGTGGTGGCGGCGCGGAGCCGGGCC...</td>\n",
              "    </tr>\n",
              "  </tbody>\n",
              "</table>\n",
              "</div>\n",
              "      <button class=\"colab-df-convert\" onclick=\"convertToInteractive('df-e3122686-c271-4cad-8d17-1ba19b7f7d20')\"\n",
              "              title=\"Convert this dataframe to an interactive table.\"\n",
              "              style=\"display:none;\">\n",
              "        \n",
              "  <svg xmlns=\"http://www.w3.org/2000/svg\" height=\"24px\"viewBox=\"0 0 24 24\"\n",
              "       width=\"24px\">\n",
              "    <path d=\"M0 0h24v24H0V0z\" fill=\"none\"/>\n",
              "    <path d=\"M18.56 5.44l.94 2.06.94-2.06 2.06-.94-2.06-.94-.94-2.06-.94 2.06-2.06.94zm-11 1L8.5 8.5l.94-2.06 2.06-.94-2.06-.94L8.5 2.5l-.94 2.06-2.06.94zm10 10l.94 2.06.94-2.06 2.06-.94-2.06-.94-.94-2.06-.94 2.06-2.06.94z\"/><path d=\"M17.41 7.96l-1.37-1.37c-.4-.4-.92-.59-1.43-.59-.52 0-1.04.2-1.43.59L10.3 9.45l-7.72 7.72c-.78.78-.78 2.05 0 2.83L4 21.41c.39.39.9.59 1.41.59.51 0 1.02-.2 1.41-.59l7.78-7.78 2.81-2.81c.8-.78.8-2.07 0-2.86zM5.41 20L4 18.59l7.72-7.72 1.47 1.35L5.41 20z\"/>\n",
              "  </svg>\n",
              "      </button>\n",
              "      \n",
              "  <style>\n",
              "    .colab-df-container {\n",
              "      display:flex;\n",
              "      flex-wrap:wrap;\n",
              "      gap: 12px;\n",
              "    }\n",
              "\n",
              "    .colab-df-convert {\n",
              "      background-color: #E8F0FE;\n",
              "      border: none;\n",
              "      border-radius: 50%;\n",
              "      cursor: pointer;\n",
              "      display: none;\n",
              "      fill: #1967D2;\n",
              "      height: 32px;\n",
              "      padding: 0 0 0 0;\n",
              "      width: 32px;\n",
              "    }\n",
              "\n",
              "    .colab-df-convert:hover {\n",
              "      background-color: #E2EBFA;\n",
              "      box-shadow: 0px 1px 2px rgba(60, 64, 67, 0.3), 0px 1px 3px 1px rgba(60, 64, 67, 0.15);\n",
              "      fill: #174EA6;\n",
              "    }\n",
              "\n",
              "    [theme=dark] .colab-df-convert {\n",
              "      background-color: #3B4455;\n",
              "      fill: #D2E3FC;\n",
              "    }\n",
              "\n",
              "    [theme=dark] .colab-df-convert:hover {\n",
              "      background-color: #434B5C;\n",
              "      box-shadow: 0px 1px 3px 1px rgba(0, 0, 0, 0.15);\n",
              "      filter: drop-shadow(0px 1px 2px rgba(0, 0, 0, 0.3));\n",
              "      fill: #FFFFFF;\n",
              "    }\n",
              "  </style>\n",
              "\n",
              "      <script>\n",
              "        const buttonEl =\n",
              "          document.querySelector('#df-e3122686-c271-4cad-8d17-1ba19b7f7d20 button.colab-df-convert');\n",
              "        buttonEl.style.display =\n",
              "          google.colab.kernel.accessAllowed ? 'block' : 'none';\n",
              "\n",
              "        async function convertToInteractive(key) {\n",
              "          const element = document.querySelector('#df-e3122686-c271-4cad-8d17-1ba19b7f7d20');\n",
              "          const dataTable =\n",
              "            await google.colab.kernel.invokeFunction('convertToInteractive',\n",
              "                                                     [key], {});\n",
              "          if (!dataTable) return;\n",
              "\n",
              "          const docLinkHtml = 'Like what you see? Visit the ' +\n",
              "            '<a target=\"_blank\" href=https://colab.research.google.com/notebooks/data_table.ipynb>data table notebook</a>'\n",
              "            + ' to learn more about interactive tables.';\n",
              "          element.innerHTML = '';\n",
              "          dataTable['output_type'] = 'display_data';\n",
              "          await google.colab.output.renderOutput(dataTable, element);\n",
              "          const docLink = document.createElement('div');\n",
              "          docLink.innerHTML = docLinkHtml;\n",
              "          element.appendChild(docLink);\n",
              "        }\n",
              "      </script>\n",
              "    </div>\n",
              "  </div>\n",
              "  "
            ]
          },
          "metadata": {},
          "execution_count": 459
        }
      ],
      "source": [
        "# import os\n",
        "\n",
        "from google.colab import drive\n",
        "drive.mount('/content/gdrive')\n",
        "\n",
        "import pandas as pd\n",
        "\n",
        "skin_cancer = pd.read_csv('/content/gdrive/My Drive/Research Colab/output/preprocessed_seqs.csv', delimiter = ',')\n",
        "# skin_cancer = pd.read_csv('/content/gdrive/My Drive/Research Colab/output/mutated_genes.csv', delimiter = ',')\n",
        "\n",
        "skin_cancer.head()"
      ]
    },
    {
      "cell_type": "code",
      "execution_count": null,
      "metadata": {
        "colab": {
          "base_uri": "https://localhost:8080/"
        },
        "id": "ymx2f5aXN5GG",
        "outputId": "4d4af47c-8387-4ba5-97cb-fd2037bf2fd3"
      },
      "outputs": [
        {
          "output_type": "stream",
          "name": "stdout",
          "text": [
            "1722\n",
            "2121704\n"
          ]
        }
      ],
      "source": [
        "# randomly selecting a patient gene from the mutated gene dataset\n",
        "import random\n",
        "\n",
        "size=len(skin_cancer)\n",
        "random_datapoint_index = random.randint(0, size)\n",
        "# random_datapoint_index = 7287\n",
        "print(random_datapoint_index)\n",
        "print(skin_cancer.iloc[random_datapoint_index]['ID_SAMPLE'])"
      ]
    },
    {
      "cell_type": "code",
      "execution_count": null,
      "metadata": {
        "colab": {
          "base_uri": "https://localhost:8080/"
        },
        "id": "LinyYZUgN5GI",
        "outputId": "89a3a2d1-7e18-4104-9568-1e04a91d01d6"
      },
      "outputs": [
        {
          "output_type": "stream",
          "name": "stdout",
          "text": [
            "GET ---> https://cancer.sanger.ac.uk/cosmic/sequence?ln=NRAS&type=cdna\n",
            "ATGACTGAGTACAAACTGGTGGTGGTTGGAGCAGGTGGTGTTGGGAAAAGCGCACTGACAATCCAGCTAATCCAGAACCACTTTGTAGATGAATATGATCCCACCATAGAGGATTCTTACAGAAAACAAGTGGTTATAGATGGTGAAACCTGTTTGTTGGACATACTGGATACAGCTGGACAAGAAGAGTACAGTGCCATGAGAGACCAATACATGAGGACAGGCGAAGGCTTCCTCTGTGTATTTGCCATCAATAATAGCAAGTCATTTGCGGATATTAACCTCTACAGGGAGCAGATTAAGCGAGTAAAAGACTCGGATGATGTACCTATGGTGCTAGTGGGAAACAAGTGTGATTTGCCAACAAGGACAGTTGATACAAAACAAGCCCACGAACTGGCCAAGAGTTACGGGATTCCATTCATTGAAACCTCAGCCAAGACCAGACAGGGTGTTGAAGATGCTTTTTACACACTGGTAAGAGAAATACGCCAGTACCGAATGAAAAAACTCAACAGCAGTGATGATGGGACTCAGGGTTGTATGGGATTGCCATGTGTGGTGATGTAA\n",
            "570\n"
          ]
        }
      ],
      "source": [
        "# obtaining the reference gene from COSMIC API\n",
        "from string import Template\n",
        "import requests\n",
        "\n",
        "BASE_URL = 'https://cancer.sanger.ac.uk/cosmic/'\n",
        "SEQ_URL = Template('sequence?ln=$gene&type=$_type')\n",
        "\n",
        "def get_gene_seq(gene, _type):\n",
        "  URL = BASE_URL + SEQ_URL.substitute(gene=gene,_type=_type)\n",
        "  print(f'GET ---> {URL}')\n",
        "  request = requests.get(url = URL)\n",
        "  sequence = request.text\n",
        "  sequence = sequence.split('\\n')\n",
        "  sequence = ''.join(sequence[1:len(sequence)-1])\n",
        "  print(sequence)\n",
        "  print(len(sequence))\n",
        "  return sequence;\n",
        "\n",
        "gene_name = skin_cancer.iloc[random_datapoint_index]['GENE']\n",
        "# print(gene_name)\n",
        "gene = get_gene_seq(gene_name,'cdna')\n",
        "# gene = get_gene_seq('BRAF','cdna')"
      ]
    },
    {
      "cell_type": "code",
      "execution_count": null,
      "metadata": {
        "id": "_ELhIfgiN5GJ"
      },
      "outputs": [],
      "source": [
        "patient_dna = skin_cancer.iloc[random_datapoint_index]['ERRONEOUS_SEQ']\n",
        "# patient_dna = skin_cancer.iloc[random_datapoint_index]['MUTATED_SEQ']\n",
        "# print(len(patient_dna))\n",
        "# patient_dna = 'ATGGCGGCGCTGAGCGGTGGCGGTGGTGGCGGCGCGGAGCCGGGCCAGGCTCTGTTCAACGGGGACATGGAGCCCGAGGCCGGCGCCGGCGCCGGCGCCGCGGCCTCTTCGGCTGCGGACCCTGCCATTCCGGAGGAGGTGTGGAATATCAAACAAATGATTAAGTTGACACAGGAACATATAGAGGCCCTATTGGACAAATTTGGTGGGGAGCATAATCCACCATCAATATATCTGGAGGCCTATGAAGAATACACCAGCAAGCTAGATGCACTCCAACAAAGAGAACAACAGTTATTGGAATCTCTGGGGAACGGAACTGATTTTTCTGTTTCTAGCTCTGCATCAATGGATACCGTTACATCTTCTTCCTCTTCTAGCCTTTCAGTGCTACCTTCATCTCTTTCAGTTTTTCAAAATCCCACAGATGTGGCACGGAGCAACCCCAAGTCACCACAAAAACCTATCGTTAGAGTCTTCCTGCCCAACAAACAGAGGACAGTGGTACCTGCAAGGTGTGGAGTTACAGTCCGAGACAGTCTAAAGAAAGCACTGATGATGAGAGGTCTAATCCCAGAGTGCTGTGCTGTTTACAGAATTCAGGATGGAGAGAAGAAACCAATTGGTTGGGACACTGATATTTCCTGGCTTACTGGAGAAGAATTGCATGTGGAAGTGTTGGAGAATGTTCCACTTACAACACACAACTTTGTACGAAAAACGTTTTTCACCTTAGCATTTTGTGACTTTTGTCGAAAGCTGCTTTTCCAGGGTTTCCGCTGTCAAACATGTGGTTATAAATTTCACCAGCGTTGTAGTACAGAAGTTCCACTGATGTGTGTTAATTATGACCAACTTGATTTGCTGTTTGTCTCCAAGTTCTTTGAACACCACCCAATACCACAGGAAGAGGCGTCCTTAGCAGAGACTGCCCTAACATCTGGATCATCCCCTTCCGCACCCGCCTCGGACTCTATTGGGCCCCAAATTCTCACCAGTCCGTCTCCTTCAAAATCCATTCCAATTCCACAGCCCTTCCGACCAGCAGATGAAGATCATCGAAATCAATTTGGGCAACGAGACCGATCCTCATCAGCTCCCAATGTGCATATAAACACAATAGAACCTGTCAATATTGATGACTTGATTAGAGACCAAGGATTTCGTGGTGATGGAGGATCAACCACAGGTTTGTCTGCTACCCCCCCTGCCTCATTACCTGGCTCACTAACTAACGTGAAAGCCTTACAGAAATCTCCAGGACCTCAGCGAGAAAGGAAGTCATCTTCATCCTCAGAAGACAGGAATCGAATGAAAACACTTGGTAGACGGGACTCGAGTGATGATTGGGAGATTCCTGATGGGCAGATTACAGTGGGACAAAGAATTGGATCTGGATCATTTGGAACAGTCTACAAGGGAAAGTGGCATGGTGATGTGGCAGTGAAAATGTTGAATGTGACAGCACCTACACCTCAGCAGTTACAAGCCTTCAAAAATGAAGTAGGAGTACTCAGGAAAACACGACATGTGAATATCCTACTCTTCATGGGCTATTCCACAAAGCCACAACTGGCTATTGTTACCCAGTGGTGTGAGGGCTCCAGCTTGTATCACCATCTCCATATCATTGAGACCAAATTTGAGATGATCAAACTTATAGATATTGCACGACAGACTGCACAGGGCATGGATTACTTACACGCCAAGTCAATCATCCACAGAGACCTCAAGAGTAATAATATATTTCTTCATGAAGACCTCACAGTAAAAATAGGTGATTTTGGTCTAGCTACAGAGAAATCTCGATGGAGTGGGTCCCATCAGTTTGAACAGTTGTCTGGATCCATTTTGTGGATGGCACCAGAAGTCATCAGAATGCAAGATAAAAATCCATACAGCTTTCAGTCAGATGTATATGCATTTGGAATTGTTCTGTATGAATTGATGACTGGACAGTTACCTTATTCAAACATCAACAACAGGGACCAGATAATTTTTATGGTGGGACGAGGATACCTGTCTCCAGATCTCAGTAAGGTACGGAGTAACTGTCCAAAAGCCATGAAGAGATTAATGGCAGAGTGCCTCAAAAAGAAAAGAGATGAGAGACCACTCTTTCCCCAAATTCTCGCCTCTATTGAGCTGCTGGCCCGCTCATTGCCAAAAATTCACCGCAGTGCATCAGAACCCTCCTTGAATCGGGCTGGTTTCCAAACAGAGGATTTTAGTCTATATGCTTGTGCTTCTCCAAAAACACCCATCCAGGCAGGGGGATATGGTGCGTTTCCTGTCCACTGA'"
      ]
    },
    {
      "cell_type": "code",
      "execution_count": null,
      "metadata": {
        "colab": {
          "base_uri": "https://localhost:8080/"
        },
        "id": "7XDVwbFIN5GK",
        "outputId": "09fea89b-0e2b-4a20-fd4c-0e6ce603d2b5"
      },
      "outputs": [
        {
          "output_type": "stream",
          "name": "stdout",
          "text": [
            "570\n",
            "\n",
            "Mutations \n",
            "['T > A', 'C > A', 'G > C']\n",
            "[71, 181, 518]\n"
          ]
        }
      ],
      "source": [
        "# H1 = matrix(gene, patient_dna,1,-2,-2)\n",
        "# print(H1)\n",
        "\n",
        "# print(traceback(H1, patient_dna))\n",
        "# start, end = smith_waterman(gene, patient_dna,1,-2,-2)\n",
        "# print(string_a[gene:end])\n",
        "\n",
        "# patient_dna = 'AAAAAAAAAAAAAAAAAAAAAAAAAAAAAAAAAAAAAAAAAAAAAAAAAAAAAAAAAAAAAAAAAAAAA'\n",
        "# gene = 'AAAAAAAAAAAAAAAAAAAAAAAAAAAAAAAAAAAAAAAAAAAAAAAAAAAAAAAAAAAAAAAAAAAAA'\n",
        "print(len(gene))\n",
        "print('\\nMutations ')\n",
        "print(difference(gene,patient_dna))\n",
        "# n=0\n",
        "print([i+1 for i in range(len(gene)) if gene[i] != patient_dna[i]])"
      ]
    },
    {
      "cell_type": "code",
      "source": [
        "print(len([i+1 for i in range(len(gene)) if gene[i] != patient_dna[i]]))"
      ],
      "metadata": {
        "colab": {
          "base_uri": "https://localhost:8080/"
        },
        "id": "oUgKRzSyluxZ",
        "outputId": "7cce2882-282a-42a3-dff1-907a50a3e6e6"
      },
      "execution_count": null,
      "outputs": [
        {
          "output_type": "stream",
          "name": "stdout",
          "text": [
            "3\n"
          ]
        }
      ]
    },
    {
      "cell_type": "markdown",
      "metadata": {
        "id": "zwyBsRPHN5GL"
      },
      "source": [
        "**Evaluating whether the obtained mutation is correct**"
      ]
    },
    {
      "cell_type": "code",
      "execution_count": null,
      "metadata": {
        "id": "uIg2QwlkN5GL"
      },
      "outputs": [],
      "source": [
        "# raw_data = pd.read_csv('Data/skin V94_38_MUTANTCENSUS.csv', delimiter = ',',encoding='cp1252')\n",
        "\n",
        "# import skin cancer patients dataset\n",
        "raw_data = pd.read_csv('/content/gdrive/My Drive/Research Colab/data/skin V94_38_MUTANTCENSUS.csv', delimiter = ',',encoding='cp1252')"
      ]
    },
    {
      "cell_type": "code",
      "execution_count": null,
      "metadata": {
        "colab": {
          "base_uri": "https://localhost:8080/"
        },
        "id": "app3Ep1ZN5GM",
        "outputId": "62fd5f06-c6f4-4050-feee-af129eae8019"
      },
      "outputs": [
        {
          "output_type": "stream",
          "name": "stdout",
          "text": [
            "c.1799T>A\n"
          ]
        }
      ],
      "source": [
        "# sample_id=skin_cancer.iloc[random_datapoint_index]['ID_SAMPLE']\n",
        "sample_id=2121747\n",
        "sample_mutations = raw_data[raw_data[' ID_SAMPLE'].isin([sample_id])]\n",
        "# sample_mutations = sample_mutations[sample_mutations['GENE_NAME'].isin([gene_name])]\n",
        "sample_mutations = sample_mutations[sample_mutations['GENE_NAME'].isin(['BRAF'])]\n",
        "# print(sample_mutations)\n",
        "if len(sample_mutations) != 1:\n",
        "    print('No of mutations for sample '+str(sample_id)+ ': '+str(len(sample_mutations))) \n",
        "    for record in sample_mutations.iterrows():\n",
        "        print(record[0][' MUTATION_DESCRIPTION'])\n",
        "else:\n",
        "    print(sample_mutations.iloc[0][' MUTATION_CDS'])"
      ]
    }
  ],
  "metadata": {
    "kernelspec": {
      "display_name": "Python 3",
      "language": "python",
      "name": "python3"
    },
    "language_info": {
      "codemirror_mode": {
        "name": "ipython",
        "version": 3
      },
      "file_extension": ".py",
      "mimetype": "text/x-python",
      "name": "python",
      "nbconvert_exporter": "python",
      "pygments_lexer": "ipython3",
      "version": "3.8.5"
    },
    "colab": {
      "name": "Smith Waterman Test.ipynb",
      "provenance": []
    }
  },
  "nbformat": 4,
  "nbformat_minor": 0
}