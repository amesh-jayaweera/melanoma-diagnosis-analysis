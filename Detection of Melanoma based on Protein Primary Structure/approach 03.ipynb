{
 "cells": [
  {
   "cell_type": "code",
   "execution_count": 2,
   "metadata": {},
   "outputs": [],
   "source": [
    "import warnings\n",
    "import pandas as pd\n",
    "import numpy as np\n",
    "import matplotlib.pyplot as plt\n",
    "import seaborn as sns\n",
    "import plotly.express as px\n",
    "from sklearn.model_selection import train_test_split\n",
    "from imblearn.over_sampling import ADASYN\n",
    "import re\n",
    "warnings.filterwarnings('ignore')"
   ]
  },
  {
   "cell_type": "code",
   "execution_count": 2,
   "metadata": {},
   "outputs": [
    {
     "data": {
      "text/html": [
       "<div>\n",
       "<style scoped>\n",
       "    .dataframe tbody tr th:only-of-type {\n",
       "        vertical-align: middle;\n",
       "    }\n",
       "\n",
       "    .dataframe tbody tr th {\n",
       "        vertical-align: top;\n",
       "    }\n",
       "\n",
       "    .dataframe thead th {\n",
       "        text-align: right;\n",
       "    }\n",
       "</style>\n",
       "<table border=\"1\" class=\"dataframe\">\n",
       "  <thead>\n",
       "    <tr style=\"text-align: right;\">\n",
       "      <th></th>\n",
       "      <th>GENE_NAME</th>\n",
       "      <th>AGE</th>\n",
       "      <th>FATHMM_SCORE</th>\n",
       "      <th>TUMOUR_ORIGIN</th>\n",
       "      <th>TIER</th>\n",
       "      <th>MUTATION_CDS</th>\n",
       "      <th>IS MEALANOMA ?</th>\n",
       "    </tr>\n",
       "  </thead>\n",
       "  <tbody>\n",
       "    <tr>\n",
       "      <th>0</th>\n",
       "      <td>NRAS</td>\n",
       "      <td>68.0</td>\n",
       "      <td>0.99541</td>\n",
       "      <td>NS</td>\n",
       "      <td>1</td>\n",
       "      <td>c.461A&gt;G</td>\n",
       "      <td>No</td>\n",
       "    </tr>\n",
       "    <tr>\n",
       "      <th>1</th>\n",
       "      <td>BRAF</td>\n",
       "      <td>NaN</td>\n",
       "      <td>0.98542</td>\n",
       "      <td>primary</td>\n",
       "      <td>1</td>\n",
       "      <td>c.1799T&gt;A</td>\n",
       "      <td>No</td>\n",
       "    </tr>\n",
       "    <tr>\n",
       "      <th>2</th>\n",
       "      <td>BRAF</td>\n",
       "      <td>58.0</td>\n",
       "      <td>0.98542</td>\n",
       "      <td>NS</td>\n",
       "      <td>1</td>\n",
       "      <td>c.1799T&gt;A</td>\n",
       "      <td>No</td>\n",
       "    </tr>\n",
       "    <tr>\n",
       "      <th>3</th>\n",
       "      <td>MUC16</td>\n",
       "      <td>51.0</td>\n",
       "      <td>0.03009</td>\n",
       "      <td>primary</td>\n",
       "      <td>2</td>\n",
       "      <td>c.16061C&gt;A</td>\n",
       "      <td>No</td>\n",
       "    </tr>\n",
       "    <tr>\n",
       "      <th>4</th>\n",
       "      <td>NRAS</td>\n",
       "      <td>NaN</td>\n",
       "      <td>0.92782</td>\n",
       "      <td>primary</td>\n",
       "      <td>1</td>\n",
       "      <td>c.34G&gt;C</td>\n",
       "      <td>No</td>\n",
       "    </tr>\n",
       "  </tbody>\n",
       "</table>\n",
       "</div>"
      ],
      "text/plain": [
       "  GENE_NAME   AGE  FATHMM_SCORE TUMOUR_ORIGIN  TIER MUTATION_CDS  \\\n",
       "0      NRAS  68.0       0.99541            NS     1     c.461A>G   \n",
       "1      BRAF   NaN       0.98542       primary     1    c.1799T>A   \n",
       "2      BRAF  58.0       0.98542            NS     1    c.1799T>A   \n",
       "3     MUC16  51.0       0.03009       primary     2   c.16061C>A   \n",
       "4      NRAS   NaN       0.92782       primary     1      c.34G>C   \n",
       "\n",
       "  IS MEALANOMA ?  \n",
       "0             No  \n",
       "1             No  \n",
       "2             No  \n",
       "3             No  \n",
       "4             No  "
      ]
     },
     "execution_count": 2,
     "metadata": {},
     "output_type": "execute_result"
    }
   ],
   "source": [
    "# import skin cancer patients dataset\n",
    "skin_cancer = pd.read_csv('full-dataset.csv', delimiter = ',')\n",
    "# remove MUTATION_CDS which are unkown\n",
    "skin_cancer = skin_cancer[skin_cancer['Mutation CDS'] != 'c.?']\n",
    "# remove MUTATION_AA which are unkown\n",
    "skin_cancer = skin_cancer[skin_cancer['Mutation AA'] != 'p.?']\n",
    "# dataset with selected genes \n",
    "skin_cancer = skin_cancer[skin_cancer['Gene name'].isin(['BRAF','MUC16','NRAS','LRP1B'])]\n",
    "skin_cancer = skin_cancer.reset_index(drop=True)\n",
    "# Is Melanoma ?\n",
    "# set traget label to Is Melanoma ? based on primary histology\n",
    "skin_cancer['Is Melanoma ?'] = np.where(skin_cancer['Primary histology'] == 'malignant_melanoma', 'Yes', 'No')\n",
    "# filter Substitution - Missense, Substitution - Nonsese \n",
    "skin_cancer = skin_cancer[(skin_cancer['Mutation Description'] == 'Substitution - Missense') | (skin_cancer['Mutation Description'] == 'Substitution - Nonsense')]\n",
    "skin_cancer.reset_index(drop=True)\n",
    "# select columns    \n",
    "skin_cancer = skin_cancer[['Gene name', 'Age' ,'FATHMM score','Tumour origin','Tier', 'Mutation CDS','Is Melanoma ?']]\n",
    "df = skin_cancer.copy()\n",
    "df.columns = ['GENE_NAME','AGE','FATHMM_SCORE', 'TUMOUR_ORIGIN', 'TIER','MUTATION_CDS','IS MEALANOMA ?']\n",
    "df.head()"
   ]
  },
  {
   "cell_type": "code",
   "execution_count": 3,
   "metadata": {},
   "outputs": [
    {
     "data": {
      "text/plain": [
       "(34661, 7)"
      ]
     },
     "execution_count": 3,
     "metadata": {},
     "output_type": "execute_result"
    }
   ],
   "source": [
    "df.shape"
   ]
  },
  {
   "cell_type": "code",
   "execution_count": 4,
   "metadata": {},
   "outputs": [],
   "source": [
    "# define codon table\n",
    "protein = {\"TTT\" : \"F\", \"CTT\" : \"L\", \"ATT\" : \"I\", \"GTT\" : \"V\",\n",
    "           \"TTC\" : \"F\", \"CTC\" : \"L\", \"ATC\" : \"I\", \"GTC\" : \"V\",\n",
    "           \"TTA\" : \"L\", \"CTA\" : \"L\", \"ATA\" : \"I\", \"GTA\" : \"V\",\n",
    "           \"TTG\" : \"L\", \"CTG\" : \"L\", \"ATG\" : \"M\", \"GTG\" : \"V\",\n",
    "           \"TCT\" : \"S\", \"CCT\" : \"P\", \"ACT\" : \"T\", \"GCT\" : \"A\",\n",
    "           \"TCC\" : \"S\", \"CCC\" : \"P\", \"ACC\" : \"T\", \"GCC\" : \"A\",\n",
    "           \"TCA\" : \"S\", \"CCA\" : \"P\", \"ACA\" : \"T\", \"GCA\" : \"A\",\n",
    "           \"TCG\" : \"S\", \"CCG\" : \"P\", \"ACG\" : \"T\", \"GCG\" : \"A\",\n",
    "           \"TAT\" : \"Y\", \"CAT\" : \"H\", \"AAT\" : \"N\", \"GAT\" : \"D\",\n",
    "           \"TAC\" : \"Y\", \"CAC\" : \"H\", \"AAC\" : \"N\", \"GAC\" : \"D\",\n",
    "           \"TAA\" : \"STOP\", \"CAA\" : \"Q\", \"AAA\" : \"K\", \"GAA\" : \"E\",\n",
    "           \"TAG\" : \"STOP\", \"CAG\" : \"Q\", \"AAG\" : \"K\", \"GAG\" : \"E\",\n",
    "           \"TGT\" : \"C\", \"CGT\" : \"R\", \"AGT\" : \"S\", \"GGT\" : \"G\",\n",
    "           \"TGC\" : \"C\", \"CGC\" : \"R\", \"AGC\" : \"S\", \"GGC\" : \"G\",\n",
    "           \"TGA\" : \"STOP\", \"CGA\" : \"R\", \"AGA\" : \"R\", \"GGA\" : \"G\",\n",
    "           \"TGG\" : \"W\", \"CGG\" : \"R\", \"AGG\" : \"R\", \"GGG\" : \"G\" \n",
    "           }\n",
    "\n",
    "def dna_to_protein(dna):\n",
    "    '''\n",
    "        This function takes dna sequence as string \n",
    "        and convert into amino acid sequence \n",
    "    '''\n",
    "    \n",
    "    protein_sequence = \"\"\n",
    "\n",
    "    # Generate protein sequence\n",
    "    for i in range(0, len(dna)-(3+len(dna)%3), 3):\n",
    "        if protein[dna[i:i+3]] == \"STOP\" :\n",
    "            break\n",
    "        protein_sequence += protein[dna[i:i+3]]\n",
    "        \n",
    "    return protein_sequence"
   ]
  },
  {
   "cell_type": "code",
   "execution_count": 5,
   "metadata": {},
   "outputs": [],
   "source": [
    "import requests\n",
    "from string import Template\n",
    "\n",
    "BASE_URL = 'https://cancer.sanger.ac.uk/cosmic/'\n",
    "SEQUENCE_URL = Template('sequence?ln=$gene&type=$_type')\n",
    "\n",
    "'''\n",
    "    @params \n",
    "        gene - Gene Type\n",
    "        _type - Sequnce Type (DNA or Protein)\n",
    "    \n",
    "    @returns \n",
    "        sequence (String)\n",
    "'''\n",
    "def get_sequence(gene='BRAF', _type='cdna'):\n",
    "    URL = BASE_URL + SEQUENCE_URL.substitute(gene=gene,_type=_type)\n",
    "    print(f'GET -----> {URL}')\n",
    "    request = requests.get(url = URL)\n",
    "    sequence = request.text\n",
    "    sequence = sequence.split('\\n')\n",
    "    sequence = ''.join(sequence[1:len(sequence)-1])\n",
    "    if _type.lower() == 'protein':\n",
    "        sequence = sequence[:len(sequence)-1]\n",
    "    return sequence"
   ]
  },
  {
   "cell_type": "code",
   "execution_count": 6,
   "metadata": {},
   "outputs": [
    {
     "name": "stdout",
     "output_type": "stream",
     "text": [
      "GET -----> https://cancer.sanger.ac.uk/cosmic/sequence?ln=BRAF&type=cdna\n",
      "GET -----> https://cancer.sanger.ac.uk/cosmic/sequence?ln=MUC16&type=cdna\n",
      "GET -----> https://cancer.sanger.ac.uk/cosmic/sequence?ln=NRAS&type=cdna\n",
      "GET -----> https://cancer.sanger.ac.uk/cosmic/sequence?ln=LRP1B&type=cdna\n"
     ]
    }
   ],
   "source": [
    "# get genes DNA sequence from COSMIC API\n",
    "GENE_NAMES = ['BRAF','MUC16','NRAS','LRP1B']\n",
    "GENES = dict()\n",
    "\n",
    "for gene in GENE_NAMES:\n",
    "    GENES[gene] = get_sequence(gene)"
   ]
  },
  {
   "cell_type": "code",
   "execution_count": 7,
   "metadata": {},
   "outputs": [],
   "source": [
    "## regex to validate dna substitution \n",
    "\n",
    "regex = \"^c\\.[1-9]\\d*[ACGT]>[ACGT]$\""
   ]
  },
  {
   "cell_type": "code",
   "execution_count": 8,
   "metadata": {},
   "outputs": [],
   "source": [
    "'''\n",
    "  @params \n",
    "    gene - gene name\n",
    "    substitution - dna single point substitution\n",
    "\n",
    "  @returns \n",
    "    mutated amino acid sequence (protein primary structure)\n",
    "'''\n",
    "def get_mutated_amino_acid_seq(gene,substitution):\n",
    "    if gene in GENES.keys():\n",
    "        if re.search(regex,substitution):\n",
    "            numbers = list(map(int,re.findall(r'\\d+', substitution)))\n",
    "            if len(numbers) == 1:\n",
    "                temp = list(GENES[gene])\n",
    "                temp[numbers[0]-1] = substitution.split('>')[1]\n",
    "                return dna_to_protein(''.join(temp)) \n",
    "            raise Exception(\"Something went wrong\")\n",
    "        # print(substitution)\n",
    "        raise Exception(\"substitution in invalid format. Correct format is c.(num)(char)>(char)\")\n",
    "    raise Exception(f\"Unknown gene... Genes : %s\", ','.join(list(GENES.keys())))  \n"
   ]
  },
  {
   "cell_type": "code",
   "execution_count": 9,
   "metadata": {},
   "outputs": [
    {
     "data": {
      "text/html": [
       "<div>\n",
       "<style scoped>\n",
       "    .dataframe tbody tr th:only-of-type {\n",
       "        vertical-align: middle;\n",
       "    }\n",
       "\n",
       "    .dataframe tbody tr th {\n",
       "        vertical-align: top;\n",
       "    }\n",
       "\n",
       "    .dataframe thead th {\n",
       "        text-align: right;\n",
       "    }\n",
       "</style>\n",
       "<table border=\"1\" class=\"dataframe\">\n",
       "  <thead>\n",
       "    <tr style=\"text-align: right;\">\n",
       "      <th></th>\n",
       "      <th>GENE_NAME</th>\n",
       "      <th>AGE</th>\n",
       "      <th>TUMOUR_ORIGIN</th>\n",
       "      <th>TIER</th>\n",
       "      <th>PROTEIN_PRIMARY_STRUCTURE</th>\n",
       "      <th>IS MEALANOMA ?</th>\n",
       "    </tr>\n",
       "  </thead>\n",
       "  <tbody>\n",
       "    <tr>\n",
       "      <th>0</th>\n",
       "      <td>NRAS</td>\n",
       "      <td>68.0</td>\n",
       "      <td>NS</td>\n",
       "      <td>1</td>\n",
       "      <td>MTEYKLVVVGAGGVGKSALTIQLIQNHFVDEYDPTIEDSYRKQVVI...</td>\n",
       "      <td>No</td>\n",
       "    </tr>\n",
       "    <tr>\n",
       "      <th>1</th>\n",
       "      <td>BRAF</td>\n",
       "      <td>NaN</td>\n",
       "      <td>primary</td>\n",
       "      <td>1</td>\n",
       "      <td>MAALSGGGGGGAEPGQALFNGDMEPEAGAGAGAAASSAADPAIPEE...</td>\n",
       "      <td>No</td>\n",
       "    </tr>\n",
       "    <tr>\n",
       "      <th>2</th>\n",
       "      <td>BRAF</td>\n",
       "      <td>58.0</td>\n",
       "      <td>NS</td>\n",
       "      <td>1</td>\n",
       "      <td>MAALSGGGGGGAEPGQALFNGDMEPEAGAGAGAAASSAADPAIPEE...</td>\n",
       "      <td>No</td>\n",
       "    </tr>\n",
       "    <tr>\n",
       "      <th>3</th>\n",
       "      <td>MUC16</td>\n",
       "      <td>51.0</td>\n",
       "      <td>primary</td>\n",
       "      <td>2</td>\n",
       "      <td>MLKPSGLPGSSSPTRSLMTGSRSTKATPEMDSGLTGATLSPKTSTG...</td>\n",
       "      <td>No</td>\n",
       "    </tr>\n",
       "    <tr>\n",
       "      <th>4</th>\n",
       "      <td>NRAS</td>\n",
       "      <td>NaN</td>\n",
       "      <td>primary</td>\n",
       "      <td>1</td>\n",
       "      <td>MTEYKLVVVGARGVGKSALTIQLIQNHFVDEYDPTIEDSYRKQVVI...</td>\n",
       "      <td>No</td>\n",
       "    </tr>\n",
       "  </tbody>\n",
       "</table>\n",
       "</div>"
      ],
      "text/plain": [
       "  GENE_NAME   AGE TUMOUR_ORIGIN  TIER  \\\n",
       "0      NRAS  68.0            NS     1   \n",
       "1      BRAF   NaN       primary     1   \n",
       "2      BRAF  58.0            NS     1   \n",
       "3     MUC16  51.0       primary     2   \n",
       "4      NRAS   NaN       primary     1   \n",
       "\n",
       "                           PROTEIN_PRIMARY_STRUCTURE IS MEALANOMA ?  \n",
       "0  MTEYKLVVVGAGGVGKSALTIQLIQNHFVDEYDPTIEDSYRKQVVI...             No  \n",
       "1  MAALSGGGGGGAEPGQALFNGDMEPEAGAGAGAAASSAADPAIPEE...             No  \n",
       "2  MAALSGGGGGGAEPGQALFNGDMEPEAGAGAGAAASSAADPAIPEE...             No  \n",
       "3  MLKPSGLPGSSSPTRSLMTGSRSTKATPEMDSGLTGATLSPKTSTG...             No  \n",
       "4  MTEYKLVVVGARGVGKSALTIQLIQNHFVDEYDPTIEDSYRKQVVI...             No  "
      ]
     },
     "execution_count": 9,
     "metadata": {},
     "output_type": "execute_result"
    }
   ],
   "source": [
    "mutated_sequences = list()\n",
    "\n",
    "array = list()\n",
    "\n",
    "for index, row in df.iterrows():\n",
    "    try :\n",
    "        seq = get_mutated_amino_acid_seq(row['GENE_NAME'],row['MUTATION_CDS'])\n",
    "        array.append({'GENE_NAME' : row['GENE_NAME'],  'AGE' : row['AGE'] , 'TUMOUR_ORIGIN' : row['TUMOUR_ORIGIN'] , 'TIER' : row['TIER'], \n",
    "                  'PROTEIN_PRIMARY_STRUCTURE' : seq, 'IS MEALANOMA ?' : row['IS MEALANOMA ?']})\n",
    "    except:\n",
    "        continue\n",
    "\n",
    "df2 = pd.DataFrame(array)\n",
    "df2.head()"
   ]
  },
  {
   "cell_type": "code",
   "execution_count": 10,
   "metadata": {},
   "outputs": [
    {
     "data": {
      "text/plain": [
       "(33906, 6)"
      ]
     },
     "execution_count": 10,
     "metadata": {},
     "output_type": "execute_result"
    }
   ],
   "source": [
    "df2.shape"
   ]
  },
  {
   "cell_type": "code",
   "execution_count": 11,
   "metadata": {},
   "outputs": [
    {
     "data": {
      "text/plain": [
       "{'NRAS': 0, 'BRAF': 1, 'MUC16': 2, 'LRP1B': 3}"
      ]
     },
     "execution_count": 11,
     "metadata": {},
     "output_type": "execute_result"
    }
   ],
   "source": [
    "GENE_NAME_codes = dict()\n",
    "index = 0\n",
    "for topic in list(df2['GENE_NAME'].unique()):\n",
    "    GENE_NAME_codes[topic] = index\n",
    "    index += 1\n",
    "\n",
    "GENE_NAME_codes"
   ]
  },
  {
   "cell_type": "code",
   "execution_count": 12,
   "metadata": {},
   "outputs": [
    {
     "data": {
      "text/plain": [
       "{'No': 0, 'Yes': 1}"
      ]
     },
     "execution_count": 12,
     "metadata": {},
     "output_type": "execute_result"
    }
   ],
   "source": [
    "IS_MELANOMA_codes = dict()\n",
    "index = 0\n",
    "for topic in list(df2['IS MEALANOMA ?'].unique()):\n",
    "    IS_MELANOMA_codes[topic] = index\n",
    "    index += 1\n",
    "\n",
    "IS_MELANOMA_codes"
   ]
  },
  {
   "cell_type": "code",
   "execution_count": 13,
   "metadata": {},
   "outputs": [
    {
     "data": {
      "text/plain": [
       "{'NS': 0,\n",
       " 'primary': 1,\n",
       " 'metastasis': 2,\n",
       " 'secondary': 3,\n",
       " 'recurrent': 4,\n",
       " 'hyperplasia adjacent to primary tumour': 5}"
      ]
     },
     "execution_count": 13,
     "metadata": {},
     "output_type": "execute_result"
    }
   ],
   "source": [
    "Tumour_origin_codes = dict()\n",
    "index = 0\n",
    "for topic in list(df2['TUMOUR_ORIGIN'].unique()):\n",
    "    Tumour_origin_codes[topic] = index\n",
    "    index += 1\n",
    "\n",
    "Tumour_origin_codes"
   ]
  },
  {
   "cell_type": "code",
   "execution_count": 14,
   "metadata": {},
   "outputs": [
    {
     "data": {
      "text/html": [
       "<div>\n",
       "<style scoped>\n",
       "    .dataframe tbody tr th:only-of-type {\n",
       "        vertical-align: middle;\n",
       "    }\n",
       "\n",
       "    .dataframe tbody tr th {\n",
       "        vertical-align: top;\n",
       "    }\n",
       "\n",
       "    .dataframe thead th {\n",
       "        text-align: right;\n",
       "    }\n",
       "</style>\n",
       "<table border=\"1\" class=\"dataframe\">\n",
       "  <thead>\n",
       "    <tr style=\"text-align: right;\">\n",
       "      <th></th>\n",
       "      <th>GENE_NAME</th>\n",
       "      <th>AGE</th>\n",
       "      <th>TUMOUR_ORIGIN</th>\n",
       "      <th>TIER</th>\n",
       "      <th>PROTEIN_PRIMARY_STRUCTURE</th>\n",
       "      <th>IS MEALANOMA ?</th>\n",
       "    </tr>\n",
       "  </thead>\n",
       "  <tbody>\n",
       "    <tr>\n",
       "      <th>0</th>\n",
       "      <td>0</td>\n",
       "      <td>68.0</td>\n",
       "      <td>0</td>\n",
       "      <td>1</td>\n",
       "      <td>MTEYKLVVVGAGGVGKSALTIQLIQNHFVDEYDPTIEDSYRKQVVI...</td>\n",
       "      <td>0</td>\n",
       "    </tr>\n",
       "    <tr>\n",
       "      <th>1</th>\n",
       "      <td>1</td>\n",
       "      <td>NaN</td>\n",
       "      <td>1</td>\n",
       "      <td>1</td>\n",
       "      <td>MAALSGGGGGGAEPGQALFNGDMEPEAGAGAGAAASSAADPAIPEE...</td>\n",
       "      <td>0</td>\n",
       "    </tr>\n",
       "    <tr>\n",
       "      <th>2</th>\n",
       "      <td>1</td>\n",
       "      <td>58.0</td>\n",
       "      <td>0</td>\n",
       "      <td>1</td>\n",
       "      <td>MAALSGGGGGGAEPGQALFNGDMEPEAGAGAGAAASSAADPAIPEE...</td>\n",
       "      <td>0</td>\n",
       "    </tr>\n",
       "    <tr>\n",
       "      <th>3</th>\n",
       "      <td>2</td>\n",
       "      <td>51.0</td>\n",
       "      <td>1</td>\n",
       "      <td>2</td>\n",
       "      <td>MLKPSGLPGSSSPTRSLMTGSRSTKATPEMDSGLTGATLSPKTSTG...</td>\n",
       "      <td>0</td>\n",
       "    </tr>\n",
       "    <tr>\n",
       "      <th>4</th>\n",
       "      <td>0</td>\n",
       "      <td>NaN</td>\n",
       "      <td>1</td>\n",
       "      <td>1</td>\n",
       "      <td>MTEYKLVVVGARGVGKSALTIQLIQNHFVDEYDPTIEDSYRKQVVI...</td>\n",
       "      <td>0</td>\n",
       "    </tr>\n",
       "  </tbody>\n",
       "</table>\n",
       "</div>"
      ],
      "text/plain": [
       "   GENE_NAME   AGE  TUMOUR_ORIGIN  TIER  \\\n",
       "0          0  68.0              0     1   \n",
       "1          1   NaN              1     1   \n",
       "2          1  58.0              0     1   \n",
       "3          2  51.0              1     2   \n",
       "4          0   NaN              1     1   \n",
       "\n",
       "                           PROTEIN_PRIMARY_STRUCTURE  IS MEALANOMA ?  \n",
       "0  MTEYKLVVVGAGGVGKSALTIQLIQNHFVDEYDPTIEDSYRKQVVI...               0  \n",
       "1  MAALSGGGGGGAEPGQALFNGDMEPEAGAGAGAAASSAADPAIPEE...               0  \n",
       "2  MAALSGGGGGGAEPGQALFNGDMEPEAGAGAGAAASSAADPAIPEE...               0  \n",
       "3  MLKPSGLPGSSSPTRSLMTGSRSTKATPEMDSGLTGATLSPKTSTG...               0  \n",
       "4  MTEYKLVVVGARGVGKSALTIQLIQNHFVDEYDPTIEDSYRKQVVI...               0  "
      ]
     },
     "execution_count": 14,
     "metadata": {},
     "output_type": "execute_result"
    }
   ],
   "source": [
    "df3 = df2.copy()\n",
    "df3.replace({'GENE_NAME' : GENE_NAME_codes,  'IS MEALANOMA ?' : IS_MELANOMA_codes, 'TUMOUR_ORIGIN' : Tumour_origin_codes }, inplace=True)\n",
    "df3.head()"
   ]
  },
  {
   "cell_type": "code",
   "execution_count": 15,
   "metadata": {},
   "outputs": [],
   "source": [
    "# replace NaN values in age by zero\n",
    "df3['AGE'].fillna(value = 0, inplace = True)"
   ]
  },
  {
   "cell_type": "code",
   "execution_count": 16,
   "metadata": {},
   "outputs": [
    {
     "data": {
      "text/plain": [
       "<AxesSubplot:title={'center':'Melanoma Yes/No'}>"
      ]
     },
     "execution_count": 16,
     "metadata": {},
     "output_type": "execute_result"
    },
    {
     "data": {
      "image/png": "[encoded data removed]",
      "text/plain": [
       "<Figure size 432x288 with 1 Axes>"
      ]
     },
     "metadata": {
      "needs_background": "light"
     },
     "output_type": "display_data"
    }
   ],
   "source": [
    "# check for class imbalance\n",
    "df3['IS MEALANOMA ?'].value_counts().plot(kind='bar', title='Melanoma Yes/No')"
   ]
  },
  {
   "cell_type": "code",
   "execution_count": 17,
   "metadata": {},
   "outputs": [],
   "source": [
    "df3.to_csv (r'deep_learning_df.csv', index = None, header=True) "
   ]
  },
  {
   "cell_type": "markdown",
   "metadata": {},
   "source": [
    "<p> Step 1 </p>"
   ]
  },
  {
   "cell_type": "code",
   "execution_count": 3,
   "metadata": {},
   "outputs": [
    {
     "data": {
      "text/html": [
       "<div>\n",
       "<style scoped>\n",
       "    .dataframe tbody tr th:only-of-type {\n",
       "        vertical-align: middle;\n",
       "    }\n",
       "\n",
       "    .dataframe tbody tr th {\n",
       "        vertical-align: top;\n",
       "    }\n",
       "\n",
       "    .dataframe thead th {\n",
       "        text-align: right;\n",
       "    }\n",
       "</style>\n",
       "<table border=\"1\" class=\"dataframe\">\n",
       "  <thead>\n",
       "    <tr style=\"text-align: right;\">\n",
       "      <th></th>\n",
       "      <th>GENE_NAME</th>\n",
       "      <th>AGE</th>\n",
       "      <th>TUMOUR_ORIGIN</th>\n",
       "      <th>TIER</th>\n",
       "      <th>PROTEIN_PRIMARY_STRUCTURE</th>\n",
       "      <th>IS MEALANOMA ?</th>\n",
       "    </tr>\n",
       "  </thead>\n",
       "  <tbody>\n",
       "    <tr>\n",
       "      <th>0</th>\n",
       "      <td>1</td>\n",
       "      <td>0.0</td>\n",
       "      <td>1</td>\n",
       "      <td>1</td>\n",
       "      <td>MAALSGGGGGGAEPGQALFNGDMEPEAGAGAGAAASSAADPAIPEE...</td>\n",
       "      <td>1</td>\n",
       "    </tr>\n",
       "    <tr>\n",
       "      <th>1</th>\n",
       "      <td>1</td>\n",
       "      <td>0.0</td>\n",
       "      <td>0</td>\n",
       "      <td>1</td>\n",
       "      <td>MAALSGGGGGGAEPGQALFNGDMEPEAGAGAGAAASSAADPAIPEE...</td>\n",
       "      <td>0</td>\n",
       "    </tr>\n",
       "    <tr>\n",
       "      <th>2</th>\n",
       "      <td>0</td>\n",
       "      <td>0.0</td>\n",
       "      <td>1</td>\n",
       "      <td>1</td>\n",
       "      <td>MTEYKLVVVGAGGVGKSALTIQLIQNHFVDEYDPTIEDSYRKQVVI...</td>\n",
       "      <td>0</td>\n",
       "    </tr>\n",
       "    <tr>\n",
       "      <th>3</th>\n",
       "      <td>3</td>\n",
       "      <td>45.0</td>\n",
       "      <td>0</td>\n",
       "      <td>1</td>\n",
       "      <td>MSEFLLALLTLSGLLPIARVLTVGADRDQQLCDPGEFLCHDHVTCV...</td>\n",
       "      <td>0</td>\n",
       "    </tr>\n",
       "    <tr>\n",
       "      <th>4</th>\n",
       "      <td>2</td>\n",
       "      <td>0.0</td>\n",
       "      <td>2</td>\n",
       "      <td>2</td>\n",
       "      <td>MLKPSGLPGSSSPTRSLMTGSRSTKATPEMDSGLTGATLSPKTSTG...</td>\n",
       "      <td>1</td>\n",
       "    </tr>\n",
       "  </tbody>\n",
       "</table>\n",
       "</div>"
      ],
      "text/plain": [
       "   GENE_NAME   AGE  TUMOUR_ORIGIN  TIER  \\\n",
       "0          1   0.0              1     1   \n",
       "1          1   0.0              0     1   \n",
       "2          0   0.0              1     1   \n",
       "3          3  45.0              0     1   \n",
       "4          2   0.0              2     2   \n",
       "\n",
       "                           PROTEIN_PRIMARY_STRUCTURE  IS MEALANOMA ?  \n",
       "0  MAALSGGGGGGAEPGQALFNGDMEPEAGAGAGAAASSAADPAIPEE...               1  \n",
       "1  MAALSGGGGGGAEPGQALFNGDMEPEAGAGAGAAASSAADPAIPEE...               0  \n",
       "2  MTEYKLVVVGAGGVGKSALTIQLIQNHFVDEYDPTIEDSYRKQVVI...               0  \n",
       "3  MSEFLLALLTLSGLLPIARVLTVGADRDQQLCDPGEFLCHDHVTCV...               0  \n",
       "4  MLKPSGLPGSSSPTRSLMTGSRSTKATPEMDSGLTGATLSPKTSTG...               1  "
      ]
     },
     "execution_count": 3,
     "metadata": {},
     "output_type": "execute_result"
    }
   ],
   "source": [
    "df4 = pd.read_csv('deep_learning_df.csv', delimiter = ',')\n",
    "df4 = df4.sample(frac=1).reset_index(drop=True)\n",
    "df4.head()"
   ]
  },
  {
   "cell_type": "code",
   "execution_count": 4,
   "metadata": {},
   "outputs": [],
   "source": [
    "# A C D E F G H I K L M N P Q R S T V W Y"
   ]
  },
  {
   "cell_type": "code",
   "execution_count": 11,
   "metadata": {},
   "outputs": [],
   "source": [
    "amino_acid_index = {'A' : 0, 'C' : 1, 'D' : 2, 'E' : 3, 'F' : 4, 'G' : 5, 'H' : 6, 'I' : 7, 'K' : 8, 'L' : 9, 'M' : 10, 'N' : 11, 'P' : 12, 'Q' : 13, 'R' : 14, 'S' : 15, 'T' : 16, 'V' : 17, 'W' : 18, 'Y' : 19}\n",
    "MATRIX_SIZE = 20\n",
    "MAX = 0\n",
    "def pps_as_matrix(pps):\n",
    "    M = []\n",
    "    for i in range(MATRIX_SIZE):\n",
    "        l = []\n",
    "        for j in range(MATRIX_SIZE):\n",
    "            l.append(0)\n",
    "        M.append(l)\n",
    "            \n",
    "    size = len(pps)\n",
    "    for i in range(size-1):\n",
    "        M[amino_acid_index[pps[i]]][amino_acid_index[pps[i+1]]] += 1\n",
    "        global MAX\n",
    "        if MAX < M[amino_acid_index[pps[i]]][amino_acid_index[pps[i+1]]]:\n",
    "            MAX = M[amino_acid_index[pps[i]]][amino_acid_index[pps[i+1]]]\n",
    "    \n",
    "    return np.array(M).reshape(MATRIX_SIZE, MATRIX_SIZE, 1)\n",
    "        "
   ]
  },
  {
   "cell_type": "code",
   "execution_count": 12,
   "metadata": {},
   "outputs": [],
   "source": [
    "df_list1 = []\n",
    "df_list2 = []\n",
    "y_list = []\n",
    "\n",
    "for index, row in df4.iterrows():\n",
    "    # try :\n",
    "    df_list1.append(pps_as_matrix(row['PROTEIN_PRIMARY_STRUCTURE']))\n",
    "    df_list2.append({'GENE_NAME' : row['GENE_NAME'],  'AGE' : row['AGE'], 'TUMOUR_ORIGIN' : row['TUMOUR_ORIGIN'] , 'TIER' : row['TIER']})\n",
    "    y_list.append(row['IS MEALANOMA ?'])\n",
    "#     except:\n",
    "#         continue\n",
    "\n",
    "X_1 = np.array(df_list1)\n",
    "X_2 = pd.DataFrame(df_list2)\n",
    "y = np.array(y_list)"
   ]
  },
  {
   "cell_type": "code",
   "execution_count": 13,
   "metadata": {},
   "outputs": [
    {
     "data": {
      "text/plain": [
       "(33906, 20, 20, 1)"
      ]
     },
     "execution_count": 13,
     "metadata": {},
     "output_type": "execute_result"
    }
   ],
   "source": [
    "X_1.shape"
   ]
  },
  {
   "cell_type": "code",
   "execution_count": 14,
   "metadata": {},
   "outputs": [
    {
     "data": {
      "text/plain": [
       "(33906, 4)"
      ]
     },
     "execution_count": 14,
     "metadata": {},
     "output_type": "execute_result"
    }
   ],
   "source": [
    "X_2.shape"
   ]
  },
  {
   "cell_type": "code",
   "execution_count": 15,
   "metadata": {},
   "outputs": [
    {
     "data": {
      "text/plain": [
       "(33906,)"
      ]
     },
     "execution_count": 15,
     "metadata": {},
     "output_type": "execute_result"
    }
   ],
   "source": [
    "y.shape"
   ]
  },
  {
   "cell_type": "code",
   "execution_count": 16,
   "metadata": {},
   "outputs": [
    {
     "data": {
      "text/plain": [
       "GENE_NAME        False\n",
       "AGE              False\n",
       "TUMOUR_ORIGIN    False\n",
       "TIER             False\n",
       "dtype: bool"
      ]
     },
     "execution_count": 16,
     "metadata": {},
     "output_type": "execute_result"
    }
   ],
   "source": [
    "X_2.isnull().any()"
   ]
  },
  {
   "cell_type": "code",
   "execution_count": 17,
   "metadata": {},
   "outputs": [
    {
     "data": {
      "text/plain": [
       "(27124, 6782)"
      ]
     },
     "execution_count": 17,
     "metadata": {},
     "output_type": "execute_result"
    }
   ],
   "source": [
    "train_size = (int) ((y.shape[0] / 100) * 80)\n",
    "test_size = y.shape[0] - train_size\n",
    "train_size, test_size"
   ]
  },
  {
   "cell_type": "code",
   "execution_count": 18,
   "metadata": {},
   "outputs": [],
   "source": [
    "X1_train = X_1[:train_size]\n",
    "X2_train = X_2[:train_size]\n",
    "\n",
    "X1_test = X_1[train_size:]\n",
    "X2_test = X_2[train_size:]\n",
    "\n",
    "y_train = y[:train_size]\n",
    "y_test = y[train_size:]"
   ]
  },
  {
   "cell_type": "code",
   "execution_count": 19,
   "metadata": {},
   "outputs": [
    {
     "data": {
      "text/plain": [
       "((27124, 20, 20, 1),\n",
       " (27124, 4),\n",
       " (6782, 20, 20, 1),\n",
       " (6782, 4),\n",
       " (27124,),\n",
       " (6782,))"
      ]
     },
     "execution_count": 19,
     "metadata": {},
     "output_type": "execute_result"
    }
   ],
   "source": [
    "X1_train.shape, X2_train.shape, X1_test.shape, X2_test.shape, y_train.shape, y_test.shape"
   ]
  },
  {
   "cell_type": "markdown",
   "metadata": {},
   "source": [
    "### DP Model"
   ]
  },
  {
   "cell_type": "code",
   "execution_count": 21,
   "metadata": {},
   "outputs": [
    {
     "data": {
      "text/plain": [
       "(20, 20, 1)"
      ]
     },
     "execution_count": 21,
     "metadata": {},
     "output_type": "execute_result"
    }
   ],
   "source": [
    "# determine the shape of the input \n",
    "in_shape = X1_train.shape[1:]\n",
    "in_shape"
   ]
  },
  {
   "cell_type": "code",
   "execution_count": 22,
   "metadata": {},
   "outputs": [
    {
     "name": "stdout",
     "output_type": "stream",
     "text": [
      "(20, 20, 1) 2\n"
     ]
    }
   ],
   "source": [
    "# determine the number of classes\n",
    "n_classes = len(np.unique(y_train))\n",
    "print(in_shape, n_classes)"
   ]
  },
  {
   "cell_type": "code",
   "execution_count": 27,
   "metadata": {},
   "outputs": [
    {
     "data": {
      "text/plain": [
       "646"
      ]
     },
     "execution_count": 27,
     "metadata": {},
     "output_type": "execute_result"
    }
   ],
   "source": [
    "MAX"
   ]
  },
  {
   "cell_type": "code",
   "execution_count": 28,
   "metadata": {},
   "outputs": [],
   "source": [
    "# normalize \n",
    "X1_train = X1_train.astype('float32') / MAX\n",
    "X1_test = X1_test.astype('float32') / MAX"
   ]
  },
  {
   "cell_type": "code",
   "execution_count": 29,
   "metadata": {},
   "outputs": [],
   "source": [
    "from tensorflow.keras import Sequential\n",
    "from tensorflow.keras.layers import Dense\n",
    "from tensorflow.keras.layers import Conv2D\n",
    "from tensorflow.keras.layers import MaxPool2D\n",
    "from tensorflow.keras.layers import Flatten\n",
    "from tensorflow.keras.layers import Dropout\n",
    "from numpy import argmax\n",
    "import tensorflow as tf\n",
    "from tensorflow.keras.layers import BatchNormalization"
   ]
  },
  {
   "cell_type": "code",
   "execution_count": 44,
   "metadata": {},
   "outputs": [],
   "source": [
    "# define model\n",
    "model = Sequential()\n",
    "model.add(Conv2D(32, (3,3), activation='relu', kernel_initializer='he_uniform', input_shape=in_shape))\n",
    "model.add(Conv2D(64, (3,3), activation='relu', kernel_initializer='he_uniform'))\n",
    "# model.add(MaxPool2D((2, 2)))\n",
    "model.add(Flatten())\n",
    "model.add(Dense(100, activation='relu', use_bias=True, kernel_initializer=tf.keras.initializers.HeNormal(seed=1005), kernel_regularizer=tf.keras.regularizers.L1(0.01)))\n",
    "model.add(Dropout(0.4))\n",
    "model.add(BatchNormalization())\n",
    "model.add(Dense(50, activation='relu', use_bias=True, kernel_initializer=tf.keras.initializers.HeNormal(seed=3005), kernel_regularizer=tf.keras.regularizers.L1(0.01)))\n",
    "model.add(Dropout(0.1))\n",
    "model.add(BatchNormalization())\n",
    "model.add(Dense(n_classes, activation='softmax'))"
   ]
  },
  {
   "cell_type": "code",
   "execution_count": 45,
   "metadata": {},
   "outputs": [],
   "source": [
    "# define loss and optimizer\n",
    "\n",
    "# define the model\n",
    "opt = tf.keras.optimizers.SGD(learning_rate=0.01, momentum=0.05)\n",
    "\n",
    "model.compile(optimizer=opt, loss='sparse_categorical_crossentropy', metrics=['accuracy'])"
   ]
  },
  {
   "cell_type": "code",
   "execution_count": 46,
   "metadata": {},
   "outputs": [
    {
     "name": "stdout",
     "output_type": "stream",
     "text": [
      "Epoch 1/25\n",
      "75/75 [==============================] - 5s 64ms/step - loss: 83.8882 - accuracy: 0.6540 - val_loss: 58.4949 - val_accuracy: 0.7665\n",
      "Epoch 2/25\n",
      "75/75 [==============================] - 5s 64ms/step - loss: 41.4985 - accuracy: 0.7296 - val_loss: 26.8201 - val_accuracy: 0.7665\n",
      "Epoch 3/25\n",
      "75/75 [==============================] - 5s 63ms/step - loss: 18.1771 - accuracy: 0.7428 - val_loss: 11.3029 - val_accuracy: 0.7665\n",
      "Epoch 4/25\n",
      "75/75 [==============================] - 5s 62ms/step - loss: 7.9853 - accuracy: 0.7440 - val_loss: 5.7304 - val_accuracy: 0.7665\n",
      "Epoch 5/25\n",
      "75/75 [==============================] - 5s 62ms/step - loss: 5.2024 - accuracy: 0.7497 - val_loss: 4.9452 - val_accuracy: 0.7665\n",
      "Epoch 6/25\n",
      "75/75 [==============================] - 5s 63ms/step - loss: 4.7945 - accuracy: 0.7486 - val_loss: 4.6161 - val_accuracy: 0.7665\n",
      "Epoch 7/25\n",
      "75/75 [==============================] - 5s 64ms/step - loss: 4.4757 - accuracy: 0.7504 - val_loss: 4.3013 - val_accuracy: 0.7665\n",
      "Epoch 8/25\n",
      "75/75 [==============================] - 5s 62ms/step - loss: 4.1824 - accuracy: 0.7542 - val_loss: 4.0453 - val_accuracy: 0.7665\n",
      "Epoch 9/25\n",
      "75/75 [==============================] - 5s 64ms/step - loss: 3.9126 - accuracy: 0.7569 - val_loss: 3.7722 - val_accuracy: 0.7665\n",
      "Epoch 10/25\n",
      "75/75 [==============================] - 5s 63ms/step - loss: 3.6532 - accuracy: 0.7592 - val_loss: 3.5176 - val_accuracy: 0.7665\n",
      "Epoch 11/25\n",
      "75/75 [==============================] - 5s 63ms/step - loss: 3.4114 - accuracy: 0.7586 - val_loss: 3.2836 - val_accuracy: 0.7665\n",
      "Epoch 12/25\n",
      "75/75 [==============================] - 5s 65ms/step - loss: 3.1879 - accuracy: 0.7622 - val_loss: 3.1214 - val_accuracy: 0.7665\n",
      "Epoch 13/25\n",
      "75/75 [==============================] - 5s 63ms/step - loss: 2.9855 - accuracy: 0.7619 - val_loss: 2.8775 - val_accuracy: 0.7665\n",
      "Epoch 14/25\n",
      "75/75 [==============================] - 5s 63ms/step - loss: 2.7843 - accuracy: 0.7623 - val_loss: 2.6849 - val_accuracy: 0.7665\n",
      "Epoch 15/25\n",
      "75/75 [==============================] - 5s 64ms/step - loss: 2.6076 - accuracy: 0.7635 - val_loss: 2.5147 - val_accuracy: 0.7665\n",
      "Epoch 16/25\n",
      "75/75 [==============================] - 5s 63ms/step - loss: 2.4363 - accuracy: 0.7641 - val_loss: 2.3519 - val_accuracy: 0.7665\n",
      "Epoch 17/25\n",
      "75/75 [==============================] - 5s 64ms/step - loss: 2.2752 - accuracy: 0.7642 - val_loss: 2.1988 - val_accuracy: 0.7665\n",
      "Epoch 18/25\n",
      "75/75 [==============================] - 5s 64ms/step - loss: 2.1319 - accuracy: 0.7652 - val_loss: 2.0595 - val_accuracy: 0.7665\n",
      "Epoch 19/25\n",
      "75/75 [==============================] - 5s 64ms/step - loss: 1.9985 - accuracy: 0.7653 - val_loss: 1.9332 - val_accuracy: 0.7665\n",
      "Epoch 20/25\n",
      "75/75 [==============================] - 5s 64ms/step - loss: 1.8775 - accuracy: 0.7653 - val_loss: 1.8176 - val_accuracy: 0.7665\n",
      "Epoch 21/25\n",
      "75/75 [==============================] - 5s 64ms/step - loss: 1.7662 - accuracy: 0.7653 - val_loss: 1.7108 - val_accuracy: 0.7665\n",
      "Epoch 22/25\n",
      "75/75 [==============================] - 5s 64ms/step - loss: 1.6642 - accuracy: 0.7653 - val_loss: 1.6138 - val_accuracy: 0.7665\n",
      "Epoch 23/25\n",
      "75/75 [==============================] - 5s 65ms/step - loss: 1.5705 - accuracy: 0.7653 - val_loss: 1.5235 - val_accuracy: 0.7665\n",
      "Epoch 24/25\n",
      "75/75 [==============================] - 5s 71ms/step - loss: 1.4850 - accuracy: 0.7653 - val_loss: 1.4429 - val_accuracy: 0.7665\n",
      "Epoch 25/25\n",
      "75/75 [==============================] - 6s 77ms/step - loss: 1.4080 - accuracy: 0.7653 - val_loss: 1.3698 - val_accuracy: 0.7665\n"
     ]
    }
   ],
   "source": [
    "# fit the model\n",
    "history =  model.fit(X1_train, y_train, epochs=25, batch_size=256, validation_split=0.3)"
   ]
  },
  {
   "cell_type": "code",
   "execution_count": 47,
   "metadata": {},
   "outputs": [
    {
     "name": "stdout",
     "output_type": "stream",
     "text": [
      "Accuracy: 0.763\n"
     ]
    }
   ],
   "source": [
    "# evaluate the model\n",
    "loss, acc = model.evaluate(X1_test, y_test, verbose=0)\n",
    "print('Accuracy: %.3f' % acc)"
   ]
  },
  {
   "cell_type": "code",
   "execution_count": 34,
   "metadata": {},
   "outputs": [],
   "source": [
    "from sklearn.metrics import confusion_matrix, accuracy_score,classification_report,mean_squared_error"
   ]
  },
  {
   "cell_type": "code",
   "execution_count": 42,
   "metadata": {},
   "outputs": [],
   "source": [
    "pred = model.predict(X1_test)"
   ]
  },
  {
   "cell_type": "code",
   "execution_count": 43,
   "metadata": {},
   "outputs": [],
   "source": [
    "for p in pred:\n",
    "    l = argmax(p)\n",
    "    if l == 1:\n",
    "        print(l)"
   ]
  }
 ],
 "metadata": {
  "kernelspec": {
   "display_name": "Python 3",
   "language": "python",
   "name": "python3"
  },
  "language_info": {
   "codemirror_mode": {
    "name": "ipython",
    "version": 3
   },
   "file_extension": ".py",
   "mimetype": "text/x-python",
   "name": "python",
   "nbconvert_exporter": "python",
   "pygments_lexer": "ipython3",
   "version": "3.8.5"
  }
 },
 "nbformat": 4,
 "nbformat_minor": 4
}
